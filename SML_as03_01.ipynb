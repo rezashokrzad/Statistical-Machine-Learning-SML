{
  "nbformat": 4,
  "nbformat_minor": 0,
  "metadata": {
    "kernelspec": {
      "display_name": "Python 3",
      "language": "python",
      "name": "python3"
    },
    "language_info": {
      "codemirror_mode": {
        "name": "ipython",
        "version": 3
      },
      "file_extension": ".py",
      "mimetype": "text/x-python",
      "name": "python",
      "nbconvert_exporter": "python",
      "pygments_lexer": "ipython3",
      "version": "3.8.2"
    },
    "colab": {
      "name": "SML_as03_01.ipynb",
      "provenance": []
    }
  },
  "cells": [
    {
      "cell_type": "markdown",
      "metadata": {
        "id": "Nz5Ax4q9jC8d"
      },
      "source": [
        "## Students\n",
        "Please fill in your names and S/U-numbers:\n",
        "* Student 1 name, S/U-number:\n",
        "* Student 2 name, S/U-number:\n",
        "* Student 3 name, S/U-number:"
      ]
    },
    {
      "cell_type": "markdown",
      "metadata": {
        "deletable": false,
        "editable": false,
        "nbgrader": {
          "cell_type": "markdown",
          "checksum": "12ac9f7b8bc0394c4ee02abf61cd5f11",
          "grade": false,
          "grade_id": "cell-e3a6a6b02afe0d83",
          "locked": true,
          "schema_version": 3,
          "solution": false,
          "task": false
        },
        "id": "d65Gppf-jC8f"
      },
      "source": [
        "# Statistical Machine Learning 2020\n",
        "# Assignment 3\n",
        "# Deadline: 2 December 2020\n",
        "## Instructions\n",
        "* You can __work in groups__ (= max 3 people). __Write the full name and S/U-number of all team members in the header above.__\n",
        "* Make sure you __fill in any place that says__ `YOUR CODE HERE` or \"YOUR ANSWER HERE\" __including comments, derivations, explanations, graphs, etc.__ This means that the elements and/or intermediate steps required to derive the answer have to be in the report. (Answers like 'No' or 'x=27.2' by themselves are not sufficient, even when they are the result of running your code.) If an exercise requires coding, explain briefly what the code does (in comments). All figures should have titles (descriptions), axis labels, and legends (if applicable).\n",
        "* Please do not add new cells unless necessary, try to write the answers only in the provided cells. Before you turn this problem in, __make sure everything runs as expected__. First, *restart the kernel* (in the menubar, select Kernel$\\rightarrow$Restart) and then *run all cells* (in the menubar, select Cell$\\rightarrow$Run All). The assignment was written in (and we strongly recommend using) Python 3 by using the corresponding Python 3 kernel for Jupyter.\n",
        "* The assignment includes certain cells that contain tests. Most of the tests are marked as *hidden* and are used for automatic grading. NB: These hidden tests do not provide any feedback! There are also a couple of tests / checks that are visible, which are meant to help you avoid basic coding errors.\n",
        "* __Upload the exercises to Brightspace as a single .zip file containing the submitter's S/U-number: 'SML20_as03_&lt;S/U-number&gt;.zip'__, for example 'SML20_as03_S123456.zip'. For those working in groups, it is sufficient if one team member uploads the solutions.\n",
        "* For any problems or questions, send us an email, or just ask. Email addresses: G.Bucur@cs.ru.nl, Yuliya.Shapovalova@ru.nl, and tomc@cs.ru.nl.\n",
        "\n",
        "## Introduction\n",
        "Assignment 3 consists of:\n",
        "1. __The faulty lighthouse (40 points)__;\n",
        "2. Neural network regression (30 points);\n",
        "3. Bayesian polynomial regression (30 points).\n",
        "\n",
        "## Libraries\n",
        "\n",
        "First, we import the basic libraries necessary to develop this assignment. Of course you are free to import further libraries, if required, in the allotted cells."
      ]
    },
    {
      "cell_type": "code",
      "metadata": {
        "deletable": false,
        "editable": false,
        "nbgrader": {
          "cell_type": "code",
          "checksum": "3f7f07c971c5736f87e745ebf65b28c7",
          "grade": false,
          "grade_id": "cell-57d156d70e92c9aa",
          "locked": true,
          "schema_version": 3,
          "solution": false,
          "task": false
        },
        "id": "RsCP-pc_jC8h"
      },
      "source": [
        "import IPython\n",
        "assert IPython.version_info[0] >= 3, \"Your version of IPython is too old, please update it to at least version 3.\"\n",
        "\n",
        "import numpy as np\n",
        "import matplotlib.pyplot as plt\n",
        "import scipy.optimize\n",
        "from mpl_toolkits.mplot3d import Axes3D\n",
        "\n",
        "# Set fixed random seed for reproducibility\n",
        "np.random.seed(2020)"
      ],
      "execution_count": null,
      "outputs": []
    },
    {
      "cell_type": "markdown",
      "metadata": {
        "deletable": false,
        "editable": false,
        "nbgrader": {
          "cell_type": "markdown",
          "checksum": "c3e9bebeabca3c29e7fead0786e5da29",
          "grade": false,
          "grade_id": "cell-aeceef46a5965874",
          "locked": true,
          "schema_version": 3,
          "solution": false,
          "task": false
        },
        "id": "cjGCPUszjC8k"
      },
      "source": [
        "## The faulty lighthouse (40 points)\n",
        "A lighthouse is somewhere off a piece of straight coastline at a position $\\alpha$ along the shore and a distance $\\beta$ out to sea. Due to a technical fault, as it rotates the light source only occasionally and briefly flickers on and off. As a result it emits short, highly focused beams of light at random intervals. These pulses are intercepted on the coast by photo-detectors that record only the fact that a flash has occurred, but not the angle from which it came. So far, $N$ flashes have been recorded at positions $\\mathcal{D} = \\{x_1,\\ldots,x_N\\}$. Where is the lighthouse?\n",
        "<img src=\"Lighthouse.png\" alt=\"Lighthouse\" style=\"width: 500px;\"/>\n",
        "\n",
        "### Part 1: Constructing the model\n",
        "1. Let $\\theta_k$ be the (unknown) angle for the $k$-th recorded flash, see the figure above. Argue why\n",
        "\\begin{equation}\n",
        "p(\\theta_k|\\alpha,\\beta) = \\frac{1}{\\pi} \\label{pdftheta} \\tag{1}\n",
        "\\end{equation}\n",
        "would be a reasonable distribution over $\\theta_k$ between $\\pm \\pi/2$ (zero otherwise)."
      ]
    },
    {
      "cell_type": "markdown",
      "metadata": {
        "deletable": false,
        "nbgrader": {
          "cell_type": "markdown",
          "checksum": "6262a78f907c6eb2c721345035a76bdd",
          "grade": true,
          "grade_id": "cell-a89c67846f79501a",
          "locked": false,
          "points": 1,
          "schema_version": 3,
          "solution": true,
          "task": false
        },
        "id": "CiMX7CgmjC8k"
      },
      "source": [
        "YOUR ANSWER HERE"
      ]
    },
    {
      "cell_type": "markdown",
      "metadata": {
        "deletable": false,
        "editable": false,
        "nbgrader": {
          "cell_type": "markdown",
          "checksum": "ad43e971afc92760a44ed0acfa87ed12",
          "grade": false,
          "grade_id": "cell-f8bf7de8c826abc9",
          "locked": true,
          "schema_version": 3,
          "solution": false,
          "task": false
        },
        "id": "Uw-3TQF-jC8l"
      },
      "source": [
        "We only have the position $x_k$ of the detector that recorded flash $k$, but we can relate this to the unknown $\\theta_k$ via elementary geometry as\n",
        "\\begin{equation}\n",
        "\\beta \\tan(\\theta_k) = x_k - \\alpha  \\label{anglepos} \\tag{2}\n",
        "\\end{equation}\n",
        "\n",
        "2. Show that the expected distribution over $x$ given $\\alpha$ and $\\beta$ can be written as\n",
        "\\begin{equation}\n",
        "p(x_k|\\alpha,\\beta) = \\frac{\\beta}{\\pi \\left[\\beta^2 + (x_k - \\alpha)^2 \\right]}  \\label{pdfx} \\tag{3}\n",
        "\\end{equation}\n",
        "by using \\eqref{anglepos} to substitute variable $x_k$ for $\\theta_k$ in the distribution \\eqref{pdftheta}.\n",
        "\n",
        "**Hint:** Use the Jacobian $\\left | \\frac{\\text{d}\\theta}{\\text{d}x}\\right|$ (Bishop,p.18) and the fact that $(\\tan^{-1}x)^\\prime = \\frac{1}{1+x^2}$."
      ]
    },
    {
      "cell_type": "markdown",
      "metadata": {
        "deletable": false,
        "nbgrader": {
          "cell_type": "markdown",
          "checksum": "0f0fc42d90822e824759542c391354c7",
          "grade": true,
          "grade_id": "cell-bb0921fca305e477",
          "locked": false,
          "points": 3,
          "schema_version": 3,
          "solution": true,
          "task": false
        },
        "id": "Sm1GElz_jC8l"
      },
      "source": [
        "YOUR ANSWER HERE"
      ]
    },
    {
      "cell_type": "markdown",
      "metadata": {
        "deletable": false,
        "editable": false,
        "nbgrader": {
          "cell_type": "markdown",
          "checksum": "3b205d0d4d7ed6d15c5591b4f85b9a86",
          "grade": false,
          "grade_id": "cell-8df1e612719b824d",
          "locked": true,
          "schema_version": 3,
          "solution": false,
          "task": false
        },
        "id": "r7PkAJxijC8m"
      },
      "source": [
        "Plot the probability density  $p(x_k|\\alpha,\\beta)$ for $\\beta = 2$ and $\\alpha = 4$."
      ]
    },
    {
      "cell_type": "code",
      "metadata": {
        "deletable": false,
        "nbgrader": {
          "cell_type": "code",
          "checksum": "f498bc7270a1b6a9ff618ce81e1e2ed7",
          "grade": true,
          "grade_id": "cell-ccc2e0c705bc0f61",
          "locked": false,
          "points": 2,
          "schema_version": 3,
          "solution": true,
          "task": false
        },
        "id": "eI6bUHZIjC8m"
      },
      "source": [
        "\"\"\"\n",
        "Plot (prior) probability densities.\n",
        "\"\"\"\n",
        "# YOUR CODE HERE\n",
        "raise NotImplementedError()"
      ],
      "execution_count": null,
      "outputs": []
    },
    {
      "cell_type": "markdown",
      "metadata": {
        "deletable": false,
        "editable": false,
        "nbgrader": {
          "cell_type": "markdown",
          "checksum": "567d756e8f1739ec0240042b8498037c",
          "grade": false,
          "grade_id": "cell-0ef0d4e206031830",
          "locked": true,
          "schema_version": 3,
          "solution": false,
          "task": false
        },
        "id": "1AXs-HXMjC8m"
      },
      "source": [
        "Inferring the position of the lighthouse corresponds to estimating $\\alpha$ and $\\beta$ from the data $\\mathcal{D}$. This is still quite difficult, but if we assume that $\\beta$ is known, then from Bayes' theorem we know that $p(\\alpha | \\mathcal{D},\\beta) \\propto p(\\mathcal{D}|\\alpha,\\beta) \\,p(\\alpha | \\beta)$. We have no a priori knowledge about the position $\\alpha$ along the coast other than that it should not depend on the distance out at sea.\n",
        "\n",
        "3. Show that with these assumptions the log of the posterior density can be written as\n",
        "\\begin{equation}\n",
        "L = \\ln\\left(p(\\alpha | \\mathcal{D},\\beta)\\right) = constant - \\sum_{k=1}^N \\ln \\left[ \\beta^2 + (x_k - \\alpha)^2 \\right] \\label{LogLikalpha} \\tag{4}\n",
        "\\end{equation}\n",
        "and derive the constraint on $\\alpha$ that the posterior maximum needs to satisfy. Note that the estimate $\\hat{\\alpha}$ that maximizes the posterior (MAP) does not have an explicit expression in general! Compare the MAP with the maximum likelihood (ML) estimate for $\\alpha$. "
      ]
    },
    {
      "cell_type": "markdown",
      "metadata": {
        "deletable": false,
        "nbgrader": {
          "cell_type": "markdown",
          "checksum": "52b993dbfc115fe72076b49c47757d2c",
          "grade": true,
          "grade_id": "cell-cc084c5ebb181218",
          "locked": false,
          "points": 3,
          "schema_version": 3,
          "solution": true,
          "task": false
        },
        "id": "BK1TtF_OjC8n"
      },
      "source": [
        "YOUR ANSWER HERE"
      ]
    },
    {
      "cell_type": "markdown",
      "metadata": {
        "deletable": false,
        "editable": false,
        "nbgrader": {
          "cell_type": "markdown",
          "checksum": "f5bc99af0d5e931a20135ed5a906b892",
          "grade": false,
          "grade_id": "cell-334a660c97cb13e7",
          "locked": true,
          "schema_version": 3,
          "solution": false,
          "task": false
        },
        "id": "GPUt7S7sjC8n"
      },
      "source": [
        "Suppose we have a data set (in km) of $\\mathcal{D} = \\{ 3.6, 7.7, -2.6, 4.9, -2.3, 0.2, -7.3, 4.4, 7.3, -5.7 \\}$. We also assume that the distance $\\beta$ from the shore is known to be 2 km. As it is difficult to find a simple expression for the value of $\\hat{\\alpha}$ that maximizes \\eqref{LogLikalpha}, we try an alternative approach instead.\n",
        "\n",
        "4. Create a function that returns the posterior and log-posterior and plot $p(\\alpha | \\mathcal{D},\\beta = 2)$ as a function of $\\alpha$ over the interval $[-10, 10]$. "
      ]
    },
    {
      "cell_type": "code",
      "metadata": {
        "deletable": false,
        "nbgrader": {
          "cell_type": "code",
          "checksum": "dde6af7148e7af600b7dfa895d52ca8f",
          "grade": false,
          "grade_id": "cell-243e24e38a68fce4",
          "locked": false,
          "schema_version": 3,
          "solution": true,
          "task": false
        },
        "id": "7tX0Xs53jC8o"
      },
      "source": [
        "def posteriors(alphas, beta, data):\n",
        "    \"\"\"\n",
        "    Compute the posterior and log-posterior in the same function.\n",
        "    \n",
        "    Parameters\n",
        "    ----------\n",
        "    alphas : array\n",
        "        The array containing the possible positions of the lighthouse.\n",
        "    beta : numeric\n",
        "        The distance from the shore.\n",
        "    data : array\n",
        "        The array of positions of the flashes recorded.\n",
        "\n",
        "    Returns\n",
        "    -------\n",
        "    array\n",
        "        Posterior value.\n",
        "    array\n",
        "        Log-posterior value.\n",
        "    \"\"\"\n",
        "    # YOUR CODE HERE\n",
        "    raise NotImplementedError()"
      ],
      "execution_count": null,
      "outputs": []
    },
    {
      "cell_type": "code",
      "metadata": {
        "deletable": false,
        "editable": false,
        "nbgrader": {
          "cell_type": "code",
          "checksum": "d2226ea55f983cf9b4842094784b7388",
          "grade": true,
          "grade_id": "cell-a4d2fd48c41ad2bc",
          "locked": true,
          "points": 2,
          "schema_version": 3,
          "solution": false,
          "task": false
        },
        "id": "YiALr88ijC8o"
      },
      "source": [
        "\"\"\"\n",
        "Test for the posteriors function.\n",
        "\"\"\"\n",
        "posterior, log_posterior = posteriors(np.linspace(0, 1, 1), 0, np.array([1, 1, 1, 1, 1]))\n",
        "np.testing.assert_array_almost_equal(posterior, np.array([[1]]), decimal = 2)\n",
        "np.testing.assert_array_almost_equal(log_posterior, np.array([[0]]), decimal = 2)"
      ],
      "execution_count": null,
      "outputs": []
    },
    {
      "cell_type": "markdown",
      "metadata": {
        "deletable": false,
        "editable": false,
        "nbgrader": {
          "cell_type": "markdown",
          "checksum": "21c48e4dd157566e0d21442a6c413902",
          "grade": false,
          "grade_id": "cell-7b7e054a1dbf1b6f",
          "locked": true,
          "schema_version": 3,
          "solution": false,
          "task": false
        },
        "id": "fCqqjx_YjC8p"
      },
      "source": [
        "Now plot $p(\\alpha | \\mathcal{D},\\beta = 2)$ as a function of $\\alpha$ over the interval $[-10, 10]$ with the help of `posteriors`."
      ]
    },
    {
      "cell_type": "code",
      "metadata": {
        "deletable": false,
        "nbgrader": {
          "cell_type": "code",
          "checksum": "671478511301488dabefde5d2b5da92b",
          "grade": true,
          "grade_id": "cell-70eafaea17730543",
          "locked": false,
          "points": 2,
          "schema_version": 3,
          "solution": true,
          "task": false
        },
        "id": "kF1VNMiVjC8p"
      },
      "source": [
        "\"\"\"\n",
        "Plot posterior densities.\n",
        "\"\"\"\n",
        "# YOUR CODE HERE\n",
        "raise NotImplementedError()"
      ],
      "execution_count": null,
      "outputs": []
    },
    {
      "cell_type": "markdown",
      "metadata": {
        "deletable": false,
        "editable": false,
        "nbgrader": {
          "cell_type": "markdown",
          "checksum": "6386de672f73fd41483db2f7b57d5654",
          "grade": false,
          "grade_id": "cell-7fc693ad55d39c63",
          "locked": true,
          "schema_version": 3,
          "solution": false,
          "task": false
        },
        "id": "j88FX_dUjC8p"
      },
      "source": [
        "What is your most likely estimate for $\\hat{\\alpha}$ based on this graph? Compare with the mean estimate of the dataset."
      ]
    },
    {
      "cell_type": "markdown",
      "metadata": {
        "deletable": false,
        "nbgrader": {
          "cell_type": "markdown",
          "checksum": "9d228f496273cac71aefb287928a995f",
          "grade": true,
          "grade_id": "cell-cbccb943024637e2",
          "locked": false,
          "points": 2,
          "schema_version": 3,
          "solution": true,
          "task": false
        },
        "id": "9ACiIBdPjC8q"
      },
      "source": [
        "YOUR ANSWER HERE"
      ]
    },
    {
      "cell_type": "markdown",
      "metadata": {
        "deletable": false,
        "editable": false,
        "nbgrader": {
          "cell_type": "markdown",
          "checksum": "4874a29744c75ad8144c58a8c578f1d1",
          "grade": false,
          "grade_id": "cell-f6e288fe2497f0e0",
          "locked": true,
          "schema_version": 3,
          "solution": false,
          "task": false
        },
        "id": "dmd-8yG-jC8q"
      },
      "source": [
        "### Part 2: Generate the lighthouse data\n",
        "We will try to solve the original problem by letting Python find the lighthouse for us. For that we first need a data set.\n",
        "1. Sample a random position $(\\alpha_t, \\beta_t)$ from a uniform distribution over an interval of $10$ km along the coast and between $2$ and $4$ km out to sea."
      ]
    },
    {
      "cell_type": "code",
      "metadata": {
        "deletable": false,
        "nbgrader": {
          "cell_type": "code",
          "checksum": "62fbc4b70e62a8c7e0d9154d1f5f943d",
          "grade": false,
          "grade_id": "cell-9b4a26e7b78e22e0",
          "locked": false,
          "schema_version": 3,
          "solution": true,
          "task": false
        },
        "id": "grpBuWlDjC8q"
      },
      "source": [
        "\"\"\"\n",
        "Sample (unknown) position\n",
        "\n",
        "Parameters\n",
        "----------\n",
        "a_t : array\n",
        "    Random position first coordinate.\n",
        "b_t : array\n",
        "    Random position second coordinate.\n",
        "\"\"\"\n",
        "# YOUR CODE HERE\n",
        "raise NotImplementedError()"
      ],
      "execution_count": null,
      "outputs": []
    },
    {
      "cell_type": "code",
      "metadata": {
        "deletable": false,
        "editable": false,
        "nbgrader": {
          "cell_type": "code",
          "checksum": "7b3ffaf3d69a74eb4c2f0ac696da6a27",
          "grade": true,
          "grade_id": "cell-3a3ea68d460e8a97",
          "locked": true,
          "points": 1,
          "schema_version": 3,
          "solution": false,
          "task": false
        },
        "id": "mn1MKT_7jC8r"
      },
      "source": [
        "\"\"\"\n",
        "Test shape and type of position.\n",
        "\"\"\"\n",
        "assert a_t.shape == (1,)\n",
        "assert type(a_t) is np.ndarray\n",
        "\n",
        "assert b_t.shape == (1,)\n",
        "assert type(b_t) is np.ndarray"
      ],
      "execution_count": null,
      "outputs": []
    },
    {
      "cell_type": "markdown",
      "metadata": {
        "deletable": false,
        "editable": false,
        "nbgrader": {
          "cell_type": "markdown",
          "checksum": "44f2d152dac93b30c0fecd14934db08c",
          "grade": false,
          "grade_id": "cell-c9fb0eaf2f632452",
          "locked": true,
          "schema_version": 3,
          "solution": false,
          "task": false
        },
        "id": "AQHEDm7_jC8r"
      },
      "source": [
        "2. From this position generate a data set $\\mathcal{D} = \\{x_1,\\ldots,x_N\\}$ of 500 flashes in random directions that have been registered by a detector at point $x_i$ along the coast. Assume that the flashes are i.i.d. according to \\eqref{pdftheta}.\n",
        "Generate flashes in random direction from uniform $\\theta \\in [-\\frac{\\pi}{2}, +\\frac{\\pi}{2}]$, and transform to positions on the coast using the tan-equation \\eqref{anglepos}."
      ]
    },
    {
      "cell_type": "code",
      "metadata": {
        "deletable": false,
        "nbgrader": {
          "cell_type": "code",
          "checksum": "98b2c897aeb9d1bac9625d0adec7837a",
          "grade": false,
          "grade_id": "cell-c2d9e1cd26101b8a",
          "locked": false,
          "schema_version": 3,
          "solution": true,
          "task": false
        },
        "id": "EPYOLfoRjC8s"
      },
      "source": [
        "\"\"\"\n",
        "Generate random flashes.\n",
        "\n",
        "Parameters\n",
        "----------\n",
        "X1 : array\n",
        "    The array containing the random flashes.\n",
        "\"\"\"\n",
        "# YOUR CODE HERE\n",
        "raise NotImplementedError()"
      ],
      "execution_count": null,
      "outputs": []
    },
    {
      "cell_type": "code",
      "metadata": {
        "deletable": false,
        "editable": false,
        "nbgrader": {
          "cell_type": "code",
          "checksum": "b05b6fa0604a1d29d9f05d4fab094e7b",
          "grade": true,
          "grade_id": "cell-2b9942f005f32a6f",
          "locked": true,
          "points": 2,
          "schema_version": 3,
          "solution": false,
          "task": false
        },
        "id": "68wKkegjjC8s"
      },
      "source": [
        "\"\"\"\n",
        "Test for the random flashes.\n",
        "\"\"\"\n",
        "assert X1.shape == (500,)\n",
        "assert type(X1) is np.ndarray"
      ],
      "execution_count": null,
      "outputs": []
    },
    {
      "cell_type": "markdown",
      "metadata": {
        "deletable": false,
        "editable": false,
        "nbgrader": {
          "cell_type": "markdown",
          "checksum": "21956da1b52689e657862488967770ac",
          "grade": false,
          "grade_id": "cell-478579f4ae2df790",
          "locked": true,
          "schema_version": 3,
          "solution": false,
          "task": false
        },
        "id": "R3iMtJvTjC8t"
      },
      "source": [
        "3. Make a plot of the mean of the data set as a function of the number of points."
      ]
    },
    {
      "cell_type": "code",
      "metadata": {
        "deletable": false,
        "nbgrader": {
          "cell_type": "code",
          "checksum": "cb81fd7c813cd718812b5d173f842da0",
          "grade": true,
          "grade_id": "cell-b90cb0cded38d6e3",
          "locked": false,
          "points": 3,
          "schema_version": 3,
          "solution": true,
          "task": false
        },
        "id": "6YuoXv8_jC8t"
      },
      "source": [
        "\"\"\"\n",
        "Plot mean of data set.\n",
        "\"\"\"\n",
        "# YOUR CODE HERE\n",
        "raise NotImplementedError()"
      ],
      "execution_count": null,
      "outputs": []
    },
    {
      "cell_type": "markdown",
      "metadata": {
        "deletable": false,
        "editable": false,
        "nbgrader": {
          "cell_type": "markdown",
          "checksum": "a02efb93aca0c36162c11c8f03e68bb8",
          "grade": false,
          "grade_id": "cell-2b5ea26306418c33",
          "locked": true,
          "schema_version": 3,
          "solution": false,
          "task": false
        },
        "id": "KYd6Thj_jC8u"
      },
      "source": [
        "Compare the mean with the true position of the lighthouse $\\alpha_t$. Consider the fact that $\\alpha_t$ follows a [Cauchy distribution](https://en.wikipedia.org/wiki/Cauchy_distribution). What is the expected value of the Cauchy distribution? How many points do you expect to need to obtain a reasonable estimate of $\\alpha_t$ from the mean? "
      ]
    },
    {
      "cell_type": "markdown",
      "metadata": {
        "deletable": false,
        "nbgrader": {
          "cell_type": "markdown",
          "checksum": "3ca007041a140a4d9ce8cf0f434dc33f",
          "grade": true,
          "grade_id": "cell-445d04a706289a2a",
          "locked": false,
          "points": 2,
          "schema_version": 3,
          "solution": true,
          "task": false
        },
        "id": "7XfxVNHcjC8u"
      },
      "source": [
        "YOUR ANSWER HERE"
      ]
    },
    {
      "cell_type": "markdown",
      "metadata": {
        "deletable": false,
        "editable": false,
        "nbgrader": {
          "cell_type": "markdown",
          "checksum": "5b11e48749f5ae905849ff75fd62380f",
          "grade": false,
          "grade_id": "cell-8cdac87769df17bd",
          "locked": true,
          "schema_version": 3,
          "solution": false,
          "task": false
        },
        "id": "CvwF5kaQjC8u"
      },
      "source": [
        "### Part 3: Find the lighthouse\n",
        "From the analysis in the first part we know that trying to find a maximum likelihood estimate in the usual way is possible (compute gradient, set equal to zero and solve), but that this does not result in a 'nice' closed-form expression for the solution, even when one of the parameters is assumed to be known. As we want to find estimates of both $\\alpha$ and $\\beta$ from the data, we will try a different approach instead.\n",
        "\n",
        "1. Use \\eqref{pdfx} to get an expression for the log-likelihood of the data $\\mathcal{D}$ as a function of $\\alpha$ and $\\beta$."
      ]
    },
    {
      "cell_type": "markdown",
      "metadata": {
        "deletable": false,
        "nbgrader": {
          "cell_type": "markdown",
          "checksum": "cdaa129efef86e3fd4750e7ca5e181c1",
          "grade": true,
          "grade_id": "cell-45636a88feef4db1",
          "locked": false,
          "points": 3,
          "schema_version": 3,
          "solution": true,
          "task": false
        },
        "id": "7IgTfUDTjC8v"
      },
      "source": [
        "YOUR ANSWER HERE"
      ]
    },
    {
      "cell_type": "markdown",
      "metadata": {
        "deletable": false,
        "editable": false,
        "nbgrader": {
          "cell_type": "markdown",
          "checksum": "c084f147b8a90f9288fe8ffb58ef551a",
          "grade": false,
          "grade_id": "cell-8ad97106376bc457",
          "locked": true,
          "schema_version": 3,
          "solution": false,
          "task": false
        },
        "id": "-PqJoUM6jC8v"
      },
      "source": [
        "We can see how this likelihood (as a function of $\\alpha$ and $\\beta$) changes, as data points come in.\n",
        "\n",
        "2. Process your data set $\\mathcal{D}$ one by one and make a plot of the (log)likelihood after one, two, three, and 20 points have arrived, respectively.\n",
        "\n",
        "Create a function that calculates the (log)likelihood at a specific point $(\\alpha, \\beta)$ after the first $k$ data points $\\{x_1,\\ldots,x_k\\}$ have come in. Use this with the `np.mgrid` and `ax.plot_surface` functions to make plots over the interval $[-10 \\leq \\alpha \\leq +10] \\times [0 \\leq \\beta \\leq 5]$."
      ]
    },
    {
      "cell_type": "code",
      "metadata": {
        "deletable": false,
        "nbgrader": {
          "cell_type": "code",
          "checksum": "d0b98d2e9ff9acab3ae3cb95a230176c",
          "grade": false,
          "grade_id": "cell-cf2de1ba5d4b6509",
          "locked": false,
          "schema_version": 3,
          "solution": true,
          "task": false
        },
        "id": "uPCoW2jXjC8v"
      },
      "source": [
        "def lighthouse_log_likelihood(a, b, X):\n",
        "    \"\"\"\n",
        "    Log-likelihood at a specific point for first k data points.\n",
        "    \n",
        "    Parameters\n",
        "    ----------\n",
        "    a : array\n",
        "        The array containing the possible positions of the lighthouse.\n",
        "    b : numeric\n",
        "        The distance from the shore.\n",
        "    X : array\n",
        "        The array of positions of the flashes recorded.\n",
        "\n",
        "    Returns\n",
        "    -------\n",
        "    array\n",
        "        Log-likelihood value.\n",
        "    \"\"\"\n",
        "    # YOUR CODE HERE\n",
        "    raise NotImplementedError()"
      ],
      "execution_count": null,
      "outputs": []
    },
    {
      "cell_type": "code",
      "metadata": {
        "deletable": false,
        "editable": false,
        "nbgrader": {
          "cell_type": "code",
          "checksum": "0778804034624b550bd30b4301508297",
          "grade": true,
          "grade_id": "cell-1c1344cdda32d9e5",
          "locked": true,
          "points": 2,
          "schema_version": 3,
          "solution": false,
          "task": false
        },
        "id": "R4wevJnfjC8w"
      },
      "source": [
        "\"\"\"\n",
        "Tests for lighthouse_log_likelihood.\n",
        "\"\"\"\n",
        "a, b = np.mgrid[0.1:1.1:0.5, 0.1:1.1:0.5]\n",
        "np.testing.assert_array_almost_equal(lighthouse_log_likelihood(a, b, np.array([np.tan(-np.pi/2),np.tan(np.pi/2)])),\n",
        "                      np.array([[-153.93259496, -150.34907602], [-153.93259496, -150.34907602]]), decimal = 2)"
      ],
      "execution_count": null,
      "outputs": []
    },
    {
      "cell_type": "markdown",
      "metadata": {
        "deletable": false,
        "editable": false,
        "nbgrader": {
          "cell_type": "markdown",
          "checksum": "f7664270ad251a2691949ec8ba490bc6",
          "grade": false,
          "grade_id": "cell-2bf7dca5dc35ca8e",
          "locked": true,
          "schema_version": 3,
          "solution": false,
          "task": false
        },
        "id": "7dAPLBtajC8w"
      },
      "source": [
        "Define the interval $[-10 \\leq \\alpha \\leq +10] \\times [0 \\leq \\beta \\leq 5]$ with the help of `np.mgrid`."
      ]
    },
    {
      "cell_type": "code",
      "metadata": {
        "deletable": false,
        "nbgrader": {
          "cell_type": "code",
          "checksum": "4dc1b86e9c665749e30a18a80039e472",
          "grade": false,
          "grade_id": "cell-d275cd12e4192581",
          "locked": false,
          "schema_version": 3,
          "solution": true,
          "task": false
        },
        "id": "Bofp132RjC8x"
      },
      "source": [
        "\"\"\"\n",
        "Define the intervals.\n",
        "\n",
        "Parameters\n",
        "----------\n",
        "A : array\n",
        "    The interval [-10, 10].\n",
        "B : array\n",
        "    The interval [0, 5].\n",
        "\"\"\"\n",
        "# YOUR CODE HERE\n",
        "raise NotImplementedError()"
      ],
      "execution_count": null,
      "outputs": []
    },
    {
      "cell_type": "code",
      "metadata": {
        "deletable": false,
        "editable": false,
        "nbgrader": {
          "cell_type": "code",
          "checksum": "d33fc55d3ebd6ad60cb6ff7ea7d2496e",
          "grade": true,
          "grade_id": "cell-2fe98d819c740ffe",
          "locked": true,
          "points": 1,
          "schema_version": 3,
          "solution": false,
          "task": false
        },
        "id": "hoj81FrHjC8x"
      },
      "source": [
        "\"\"\"\n",
        "Test if A and B have the correct format.\n",
        "\"\"\"\n",
        "assert type(A) is np.ndarray\n",
        "assert type(B) is np.ndarray"
      ],
      "execution_count": null,
      "outputs": []
    },
    {
      "cell_type": "markdown",
      "metadata": {
        "deletable": false,
        "editable": false,
        "nbgrader": {
          "cell_type": "markdown",
          "checksum": "fc0f37ef6f45854100840771ce779ef4",
          "grade": false,
          "grade_id": "cell-6b0c432e7851f7fd",
          "locked": true,
          "schema_version": 3,
          "solution": false,
          "task": false
        },
        "id": "dfAlHJ1gjC8x"
      },
      "source": [
        "Make plots over the interval with `ax.plot_surface`."
      ]
    },
    {
      "cell_type": "code",
      "metadata": {
        "deletable": false,
        "nbgrader": {
          "cell_type": "code",
          "checksum": "18e4ab366eef7cdcf1fbb5e8f415a069",
          "grade": true,
          "grade_id": "cell-1a90d400685b2c0e",
          "locked": false,
          "points": 3,
          "schema_version": 3,
          "solution": true,
          "task": false
        },
        "id": "FUq8YLg_jC8y"
      },
      "source": [
        "\"\"\"\n",
        "Plot 2D-likelihood as a function of the number of points.\n",
        "\"\"\"\n",
        "# YOUR CODE HERE\n",
        "raise NotImplementedError()"
      ],
      "execution_count": null,
      "outputs": []
    },
    {
      "cell_type": "markdown",
      "metadata": {
        "deletable": false,
        "editable": false,
        "nbgrader": {
          "cell_type": "markdown",
          "checksum": "c93c7a086d8af4ae5f5ed67de89f6acf",
          "grade": false,
          "grade_id": "cell-abb1d633334bf4a3",
          "locked": true,
          "schema_version": 3,
          "solution": false,
          "task": false
        },
        "id": "OyWXtIZ_jC8y"
      },
      "source": [
        "What happens to the (log-)likelihood surface as each batch of data points arrives?"
      ]
    },
    {
      "cell_type": "markdown",
      "metadata": {
        "deletable": false,
        "nbgrader": {
          "cell_type": "markdown",
          "checksum": "9961339dae79e9b926948bd7cbce9b75",
          "grade": true,
          "grade_id": "cell-b45396caa1194af3",
          "locked": false,
          "points": 1,
          "schema_version": 3,
          "solution": true,
          "task": false
        },
        "id": "S_eO8lwCjC8y"
      },
      "source": [
        "YOUR ANSWER HERE"
      ]
    },
    {
      "cell_type": "markdown",
      "metadata": {
        "deletable": false,
        "editable": false,
        "nbgrader": {
          "cell_type": "markdown",
          "checksum": "2973a46dcb8c068b2bd94d24487651df",
          "grade": false,
          "grade_id": "cell-4bc96049bfc5ba81",
          "locked": true,
          "schema_version": 3,
          "solution": false,
          "task": false
        },
        "id": "wHK1Xgc2jC8y"
      },
      "source": [
        "We can make a reasonable (visual) estimate of the most probable position of the lighthouse from the graph, after a few data points have been observed. However, as we are working on a computer, we can let Python do the dirty work for us.\n",
        "\n",
        "3. Create a function that uses `scipy.optimize.fmin` to compute the values of $\\alpha$ and $\\beta$ that maximise the likelihood for a data set of $k$ points, and plot these as a function of the number of points. Use $[0,1]$ as the initial starting value for `scipy.optimize.fmin`."
      ]
    },
    {
      "cell_type": "code",
      "metadata": {
        "deletable": false,
        "nbgrader": {
          "cell_type": "code",
          "checksum": "2c6e2cc61fc1d511095329a2363980e3",
          "grade": false,
          "grade_id": "cell-393032c72e0ac725",
          "locked": false,
          "schema_version": 3,
          "solution": true,
          "task": false
        },
        "id": "B8y3mOncjC8z"
      },
      "source": [
        "def ml_estimate(X):\n",
        "    \"\"\"\n",
        "    ML estimate of the lighthouse position as a function of the number of points.\n",
        "    \n",
        "    Parameters\n",
        "    ----------\n",
        "    X : array\n",
        "        The array of positions of the flashes recorded.\n",
        "\n",
        "    Returns\n",
        "    -------\n",
        "    array\n",
        "        The result of fmin for each flash point.\n",
        "    \"\"\"\n",
        "    # YOUR CODE HERE\n",
        "    raise NotImplementedError()"
      ],
      "execution_count": null,
      "outputs": []
    },
    {
      "cell_type": "code",
      "metadata": {
        "deletable": false,
        "editable": false,
        "nbgrader": {
          "cell_type": "code",
          "checksum": "c38805ed0a1ce599e9ca526eee974fcc",
          "grade": true,
          "grade_id": "cell-14343a5bb54d1676",
          "locked": true,
          "points": 3,
          "schema_version": 3,
          "solution": false,
          "task": false
        },
        "id": "D5nNKqqHjC8z"
      },
      "source": [
        "\"\"\"\n",
        "Tests for ml_estimate.\n",
        "\"\"\""
      ],
      "execution_count": null,
      "outputs": []
    },
    {
      "cell_type": "markdown",
      "metadata": {
        "deletable": false,
        "editable": false,
        "nbgrader": {
          "cell_type": "markdown",
          "checksum": "abc9a6ff6d0fe7eb4158b47b1ce14c01",
          "grade": false,
          "grade_id": "cell-ccfd85d1b624b69b",
          "locked": true,
          "schema_version": 3,
          "solution": false,
          "task": false
        },
        "id": "-r849m1NjC8z"
      },
      "source": [
        "Now plot these as a function of the number of points."
      ]
    },
    {
      "cell_type": "code",
      "metadata": {
        "deletable": false,
        "nbgrader": {
          "cell_type": "code",
          "checksum": "c5422f0587a84e8faacb489c492130da",
          "grade": true,
          "grade_id": "cell-022575d4b4ff2531",
          "locked": false,
          "points": 3,
          "schema_version": 3,
          "solution": true,
          "task": false
        },
        "id": "bRTNUkCgjC8z"
      },
      "source": [
        "\"\"\"\n",
        "Plot position estimates.\n",
        "\"\"\"\n",
        "# YOUR CODE HERE\n",
        "raise NotImplementedError()"
      ],
      "execution_count": null,
      "outputs": []
    },
    {
      "cell_type": "markdown",
      "metadata": {
        "deletable": false,
        "editable": false,
        "nbgrader": {
          "cell_type": "markdown",
          "checksum": "a86f8661e79daf1ca0706593cd3f64ac",
          "grade": false,
          "grade_id": "cell-14c52bfa87cab514",
          "locked": true,
          "schema_version": 3,
          "solution": false,
          "task": false
        },
        "id": "crJ80LtVjC80"
      },
      "source": [
        "Compare your final estimate with the true values $(\\alpha_t, \\beta_t)$."
      ]
    },
    {
      "cell_type": "markdown",
      "metadata": {
        "deletable": false,
        "nbgrader": {
          "cell_type": "markdown",
          "checksum": "3ab56d66b0044a43aedfa3e9b97b18b2",
          "grade": true,
          "grade_id": "cell-c3944772a81856e0",
          "locked": false,
          "points": 1,
          "schema_version": 3,
          "solution": true,
          "task": false
        },
        "id": "KjklOzwJjC80"
      },
      "source": [
        "YOUR ANSWER HERE"
      ]
    }
  ]
}