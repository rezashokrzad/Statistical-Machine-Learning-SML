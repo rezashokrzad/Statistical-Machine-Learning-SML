{
  "nbformat": 4,
  "nbformat_minor": 0,
  "metadata": {
    "kernelspec": {
      "display_name": "Python 3",
      "language": "python",
      "name": "python3"
    },
    "language_info": {
      "codemirror_mode": {
        "name": "ipython",
        "version": 3
      },
      "file_extension": ".py",
      "mimetype": "text/x-python",
      "name": "python",
      "nbconvert_exporter": "python",
      "pygments_lexer": "ipython3",
      "version": "3.8.2"
    },
    "colab": {
      "name": "SML_as04_01.ipynb",
      "provenance": []
    }
  },
  "cells": [
    {
      "cell_type": "markdown",
      "metadata": {
        "id": "q64BrmmJsKi6"
      },
      "source": [
        "## Students\n",
        "Please fill in your names and S/U-numbers:\n",
        "* Student 1 name, S/U-number:\n",
        "* Student 2 name, S/U-number:\n",
        "* Student 3 name, S/U-number:"
      ]
    },
    {
      "cell_type": "markdown",
      "metadata": {
        "deletable": false,
        "editable": false,
        "nbgrader": {
          "cell_type": "markdown",
          "checksum": "292675aa013112192f57f9306bc1d84f",
          "grade": false,
          "grade_id": "cell-e3a6a6b02afe0d83",
          "locked": true,
          "schema_version": 3,
          "solution": false,
          "task": false
        },
        "id": "U0r7w9vMsKi8"
      },
      "source": [
        "# Statistical Machine Learning 2020\n",
        "# Assignment 4\n",
        "# Deadline: 23 December 2020\n",
        "## Instructions\n",
        "* You can __work in groups__ (= max 3 people). __Write the full name and S/U-number of all team members in the header above.__\n",
        "* Make sure you __fill in any place that says__ `YOUR CODE HERE` or \"YOUR ANSWER HERE\" __including comments, derivations, explanations, graphs, etc.__ This means that the elements and/or intermediate steps required to derive the answer have to be in the report. (Answers like 'No' or 'x=27.2' by themselves are not sufficient, even when they are the result of running your code.) If an exercise requires coding, explain briefly what the code does (in comments). All figures should have titles (descriptions), axis labels, and legends (if applicable).\n",
        "* Please do not add new cells unless necessary, try to write the answers only in the provided cells. Before you turn this problem in, __make sure everything runs as expected__. First, *restart the kernel* (in the menubar, select Kernel$\\rightarrow$Restart) and then *run all cells* (in the menubar, select Cell$\\rightarrow$Run All). The assignment was written in (and we strongly recommend using) Python 3 by using the corresponding Python 3 kernel for Jupyter.\n",
        "* The assignment includes certain cells that contain tests. Most of the tests are marked as *hidden* and are used for automatic grading. NB: These hidden tests do not provide any feedback! There are also a couple of tests / checks that are visible, which are meant to help you avoid basic coding errors.\n",
        "* __Upload the exercises to Brightspace as a single .zip file containing the submitter's S/U-number: 'SML20_as04_&lt;S/U-number&gt;.zip'__, for example 'SML20_as04_S123456.zip'. For those working in groups, it is sufficient if one team member uploads the solutions.\n",
        "* For any problems or questions, send us an email, or just ask. Email addresses: G.Bucur@cs.ru.nl, Yuliya.Shapovalova@ru.nl, and tomc@cs.ru.nl.\n",
        "\n",
        "## Introduction\n",
        "Assignment 4 consists of:\n",
        "1. __Gaussian processes (50 points)__;\n",
        "2. EM and doping (50 points);\n",
        "3. Gibbs sampling and Metropolis-Hastings (50 points);\n",
        "4. Variational inference for Bayesian linear regression (50 points).\n",
        "\n",
        "## Libraries\n",
        "\n",
        "First, we import the basic libraries necessary to develop this assignment. Of course you are free to import further libraries, if required, in the allotted cells."
      ]
    },
    {
      "cell_type": "code",
      "metadata": {
        "deletable": false,
        "editable": false,
        "nbgrader": {
          "cell_type": "code",
          "checksum": "ba59da50a61bab98d406e204b452dc75",
          "grade": false,
          "grade_id": "cell-57d156d70e92c9aa",
          "locked": true,
          "schema_version": 3,
          "solution": false,
          "task": false
        },
        "id": "XZrgFwzwsKi9"
      },
      "source": [
        "import IPython\n",
        "assert IPython.version_info[0] >= 3, \"Your version of IPython is too old, please update it to at least version 3.\"\n",
        "\n",
        "import numpy as np\n",
        "import matplotlib.pyplot as plt\n",
        "from mpl_toolkits.mplot3d import Axes3D\n",
        "\n",
        "# Set fixed random seed for reproducibility\n",
        "np.random.seed(2020)"
      ],
      "execution_count": null,
      "outputs": []
    },
    {
      "cell_type": "markdown",
      "metadata": {
        "deletable": false,
        "editable": false,
        "nbgrader": {
          "cell_type": "markdown",
          "checksum": "d039898a7790500271b2e2550c273120",
          "grade": false,
          "grade_id": "cell-52405a8ff5be4bd2",
          "locked": true,
          "schema_version": 3,
          "solution": false,
          "task": false
        },
        "id": "BXr44YYMsKi_"
      },
      "source": [
        "## Gaussian processes (50 points)\n",
        "### Part 1 - Sampling from Gaussian stochastic processes\n",
        "One widely used kernel function for Gaussian process regression is given by the exponential of a quadratic form, with the addition of constant and linear terms (eq. 6.63 Bishop):\n",
        "\\begin{equation}\n",
        "    k(\\mathbf{x}, \\mathbf{x'}) = \\theta_0 \\exp\\left( - \\frac{\\theta_1}{2} || \\mathbf{x} - \\mathbf{x'} ||^2 \\right) + \\theta_2 + \\theta_3 \\mathbf{x}^T \\mathbf{x'}\n",
        "    \\label{eqn:kernel}\n",
        "    \\tag{1}\n",
        "\\end{equation} \n",
        "We denote by $\\boldsymbol{\\theta} = (\\theta_0, \\theta_1, \\theta_2, \\theta_3)$ the hyperparameter vector governing the kernel function $k$. \n",
        "1. Implement the kernel given by equation \\eqref{eqn:kernel} as a function of $\\mathbf{x}$, $\\mathbf{x'}$ and $\\mathbf{\\theta}$. Note that $\\mathbf{x}$ can have any dimension."
      ]
    },
    {
      "cell_type": "code",
      "metadata": {
        "deletable": false,
        "nbgrader": {
          "cell_type": "code",
          "checksum": "0389d0c4c716fc0708502eb05901e775",
          "grade": false,
          "grade_id": "cell-244cdadcf850dd3a",
          "locked": false,
          "schema_version": 3,
          "solution": true,
          "task": false
        },
        "id": "hlpM2VbQsKjA"
      },
      "source": [
        "def kernel(x1, x2, theta):\n",
        "    \"\"\"\n",
        "    Define the multivariate kernel function.\n",
        "\n",
        "    Parameters\n",
        "    ----------\n",
        "    x1 : (D,) np.ndarray\n",
        "        One D dimensional data point.\n",
        "    x2 : (D,) np.ndarray\n",
        "        Another D dimensional data point.\n",
        "    theta : (4,) np.ndarray\n",
        "        The array containing the hyperparameters governing the kernel function.\n",
        "\n",
        "    Returns\n",
        "    -------\n",
        "    float\n",
        "        Value of the kernel function.\n",
        "    \"\"\"\n",
        "    # YOUR CODE HERE\n",
        "    raise NotImplementedError()"
      ],
      "execution_count": null,
      "outputs": []
    },
    {
      "cell_type": "code",
      "metadata": {
        "deletable": false,
        "editable": false,
        "nbgrader": {
          "cell_type": "code",
          "checksum": "2b78838385b91108da77b13009859236",
          "grade": true,
          "grade_id": "cell-350de9922d852045",
          "locked": true,
          "points": 0,
          "schema_version": 3,
          "solution": false,
          "task": false
        },
        "id": "wulJk7xLsKjB"
      },
      "source": [
        "\"\"\"\n",
        "Tests for kernel function.\n",
        "\"\"\"\n",
        "assert abs(kernel(x1=np.linspace(-1, 0, 10), x2=np.linspace(0, 1, 10), theta=np.ones(4))+0.47) < 0.01"
      ],
      "execution_count": null,
      "outputs": []
    },
    {
      "cell_type": "markdown",
      "metadata": {
        "deletable": false,
        "editable": false,
        "nbgrader": {
          "cell_type": "markdown",
          "checksum": "fb3a636420ecaaebb8475e2621e92fe9",
          "grade": false,
          "grade_id": "cell-e652f946f836aa86",
          "locked": true,
          "schema_version": 3,
          "solution": false,
          "task": false
        },
        "id": "vIfv90XXsKjC"
      },
      "source": [
        "2. We first consider the univariate case. For the parameter values $\\mathbf{\\theta} = (1, 1, 1, 1)$ and $N = 101$ equally spaced points $\\mathbf{X}$ in the interval $[-1, 1]$."
      ]
    },
    {
      "cell_type": "code",
      "metadata": {
        "deletable": false,
        "nbgrader": {
          "cell_type": "code",
          "checksum": "889f56c502eba639887f0a39cb077558",
          "grade": false,
          "grade_id": "cell-d235ce980e146c42",
          "locked": false,
          "schema_version": 3,
          "solution": true,
          "task": false
        },
        "id": "968UcD9IsKjC"
      },
      "source": [
        "\"\"\"\n",
        "Define the parameter values.\n",
        "\n",
        "Parameters\n",
        "----------\n",
        "theta : (4,) np.ndarray\n",
        "    Hyperparameters for the kernel function.\n",
        "X : (N,) np.ndarray\n",
        "    Array of equally spaced points.\n",
        "\"\"\"\n",
        "# YOUR CODE HERE\n",
        "raise NotImplementedError()"
      ],
      "execution_count": null,
      "outputs": []
    },
    {
      "cell_type": "code",
      "metadata": {
        "deletable": false,
        "editable": false,
        "nbgrader": {
          "cell_type": "code",
          "checksum": "d834a725c107e48282b124ad567e38fe",
          "grade": true,
          "grade_id": "cell-54741e8ea6bfa758",
          "locked": true,
          "points": 0,
          "schema_version": 3,
          "solution": false,
          "task": false
        },
        "id": "totecMP2sKjD"
      },
      "source": [
        "\"\"\"\n",
        "Tests for parameters.\n",
        "\"\"\"\n",
        "assert type(theta) is np.ndarray\n",
        "assert theta.shape == (4,)\n",
        "\n",
        "assert type(X) is np.ndarray\n",
        "assert X.shape == (101,)"
      ],
      "execution_count": null,
      "outputs": []
    },
    {
      "cell_type": "markdown",
      "metadata": {
        "deletable": false,
        "editable": false,
        "nbgrader": {
          "cell_type": "markdown",
          "checksum": "8522e4dd99af6719df8a7efc3ffbdc03",
          "grade": false,
          "grade_id": "cell-71bf6c73c61c8d2d",
          "locked": true,
          "schema_version": 3,
          "solution": false,
          "task": false
        },
        "id": "2y-dqasXsKjD"
      },
      "source": [
        "Compute the Gram matrix $\\mathbf{K}(\\mathbf{X}, \\mathbf{X})$ (eq. 6.54 Bishop).\n",
        "\n",
        "__Note:__ Even when $\\mathbf{K}$ is positive definite, some of its eigenvalues may be too small to accurately compute (same for the determinant). This may pose a problem when generating a multivariate Gaussian distribution using $\\mathbf{K}$ as its covariance matrix. You can alleviate this issue by adding a small diagonal term to $\\mathbf{K}$. "
      ]
    },
    {
      "cell_type": "code",
      "metadata": {
        "deletable": false,
        "nbgrader": {
          "cell_type": "code",
          "checksum": "3f0875628a95a3d18a0463a78e2d15bd",
          "grade": false,
          "grade_id": "cell-15b47d6adb1aa8cd",
          "locked": false,
          "schema_version": 3,
          "solution": true,
          "task": false
        },
        "id": "HnywwQnhsKjE"
      },
      "source": [
        "def compute_Gram_matrix(X, theta):\n",
        "    \"\"\"\n",
        "    Define the univariate kernel function.\n",
        "\n",
        "    Parameters\n",
        "    ----------\n",
        "    X : (N,D) np.ndarray\n",
        "        The array containing the data points.\n",
        "    theta : (4,) np.ndarray\n",
        "        The array containing the hyperparameters governing the kernel function.\n",
        "\n",
        "    Returns\n",
        "    -------\n",
        "    Gram matrix.\n",
        "    \"\"\"\n",
        "    # YOUR CODE HERE\n",
        "    raise NotImplementedError()"
      ],
      "execution_count": null,
      "outputs": []
    },
    {
      "cell_type": "code",
      "metadata": {
        "deletable": false,
        "editable": false,
        "nbgrader": {
          "cell_type": "code",
          "checksum": "3d2a25db14ad3d3d679c1319f6e56544",
          "grade": true,
          "grade_id": "cell-de2dd2da1f174340",
          "locked": true,
          "points": 0,
          "schema_version": 3,
          "solution": false,
          "task": false
        },
        "id": "jOT42XD7sKjE"
      },
      "source": [
        "\"\"\"\n",
        "Tests for compute_Gram_matrix.\n",
        "\"\"\"\n",
        "K = compute_Gram_matrix(X, theta)\n",
        "\n",
        "assert type(K) is np.ndarray"
      ],
      "execution_count": null,
      "outputs": []
    },
    {
      "cell_type": "markdown",
      "metadata": {
        "deletable": false,
        "editable": false,
        "nbgrader": {
          "cell_type": "markdown",
          "checksum": "67c833c192472098291489498484bdde",
          "grade": false,
          "grade_id": "cell-c7c4f69841943dd7",
          "locked": true,
          "schema_version": 3,
          "solution": false,
          "task": false
        },
        "id": "fol76H3JsKjF"
      },
      "source": [
        "What is the dimension of $\\mathbf{K}$?"
      ]
    },
    {
      "cell_type": "markdown",
      "metadata": {
        "deletable": false,
        "nbgrader": {
          "cell_type": "markdown",
          "checksum": "b91fc26311ad25d01d04d09c92bbb674",
          "grade": true,
          "grade_id": "cell-41b2b53ef1db9a09",
          "locked": false,
          "points": 0,
          "schema_version": 3,
          "solution": true,
          "task": false
        },
        "id": "uv3D9p0SsKjF"
      },
      "source": [
        "YOUR ANSWER HERE"
      ]
    },
    {
      "cell_type": "markdown",
      "metadata": {
        "deletable": false,
        "editable": false,
        "nbgrader": {
          "cell_type": "markdown",
          "checksum": "06df4c0c2be83ba4b2434af16a9e6f56",
          "grade": false,
          "grade_id": "cell-1fafa19c8259a7e5",
          "locked": true,
          "schema_version": 3,
          "solution": false,
          "task": false
        },
        "id": "nEE3m853sKjF"
      },
      "source": [
        "How can we show that $\\mathbf{K}$ is positive semidefinite? Note: either prove mathematically or implement a code snippet (or both)."
      ]
    },
    {
      "cell_type": "markdown",
      "metadata": {
        "deletable": false,
        "nbgrader": {
          "cell_type": "markdown",
          "checksum": "e565d5051a3021d8c6b52ff5e1a1d2df",
          "grade": true,
          "grade_id": "cell-18017a4940083666",
          "locked": false,
          "points": 0,
          "schema_version": 3,
          "solution": true,
          "task": false
        },
        "id": "zGClJIqMsKjG"
      },
      "source": [
        "YOUR ANSWER HERE"
      ]
    },
    {
      "cell_type": "code",
      "metadata": {
        "deletable": false,
        "nbgrader": {
          "cell_type": "code",
          "checksum": "862d46e70a491b624b6d2c175ca57248",
          "grade": true,
          "grade_id": "cell-def15cd9d46a0714",
          "locked": false,
          "points": 0,
          "schema_version": 3,
          "solution": true,
          "task": false
        },
        "id": "8RoNE7k0sKjG"
      },
      "source": [
        "# YOUR CODE HERE\n",
        "raise NotImplementedError()"
      ],
      "execution_count": null,
      "outputs": []
    },
    {
      "cell_type": "markdown",
      "metadata": {
        "deletable": false,
        "editable": false,
        "nbgrader": {
          "cell_type": "markdown",
          "checksum": "4c4244f0f47084c9c41b00380681c155",
          "grade": false,
          "grade_id": "cell-df6c0716cb7c0f25",
          "locked": true,
          "schema_version": 3,
          "solution": false,
          "task": false
        },
        "id": "762alahVsKjG"
      },
      "source": [
        "3. We will now use the previously computed matrix $\\mathbf{K}(\\mathbf{X}, \\mathbf{X})$ to produce samples from the Gaussian process prior $\\mathbf{y}(\\mathbf{X}) \\sim \\mathcal{N}(\\mathbf{0}, \\mathbf{K}(\\mathbf{X}, \\mathbf{X}))$, with $\\mathbf{X}$ being the previously determined $N$ equally spaced points. Generate five functions $\\mathbf{y}(\\mathbf{X})$ and plot them against the $N$ input values $\\mathbf{X}$. Repeat this process (remember to compute a new $\\mathbf{K}$ each time) for the hyperparameter configurations from Bishop, Figure 6.5:\n",
        "\\begin{equation}\n",
        "    \\mathbf{\\theta} \\in \\{ (1, 4, 0, 0), (9, 4, 0, 0), (1, 64, 0, 0), (1, 0.25, 0, 0), (1, 4, 10, 0), (1, 4, 0, 5) \\}.\n",
        "\\end{equation} "
      ]
    },
    {
      "cell_type": "code",
      "metadata": {
        "deletable": false,
        "nbgrader": {
          "cell_type": "code",
          "checksum": "45796159e35ecdbe631b7ac044ce6f06",
          "grade": true,
          "grade_id": "cell-91a8983f8779941c",
          "locked": false,
          "points": 0,
          "schema_version": 3,
          "solution": true,
          "task": false
        },
        "id": "lQ1Grc_4sKjH"
      },
      "source": [
        "def generate_curves_GP_prior(theta, num_samples = 5):\n",
        "    \"\"\"\n",
        "    Generate univariate function samples (curves) from the Gaussian process prior.\n",
        "\n",
        "    Parameters\n",
        "    ----------\n",
        "    theta : (4,) np.ndarray\n",
        "        The array containing the hyperparameters governing the kernel function.\n",
        "    num_samples : integer\n",
        "        The number of functions to plot.\n",
        "\n",
        "    Returns\n",
        "    -------\n",
        "    \"\"\"\n",
        "    # YOUR CODE HERE\n",
        "    raise NotImplementedError()"
      ],
      "execution_count": null,
      "outputs": []
    },
    {
      "cell_type": "code",
      "metadata": {
        "deletable": false,
        "nbgrader": {
          "cell_type": "code",
          "checksum": "f14d04212790c408b5cd4c6843cb0116",
          "grade": true,
          "grade_id": "cell-7e568c52a1390551",
          "locked": false,
          "points": 0,
          "schema_version": 3,
          "solution": true,
          "task": false
        },
        "id": "4MbVTTywsKjH"
      },
      "source": [
        "\"\"\"\n",
        "Plot curves with different values of theta.\n",
        "\"\"\"\n",
        "# YOUR CODE HERE\n",
        "raise NotImplementedError()"
      ],
      "execution_count": null,
      "outputs": []
    },
    {
      "cell_type": "markdown",
      "metadata": {
        "deletable": false,
        "editable": false,
        "nbgrader": {
          "cell_type": "markdown",
          "checksum": "14fba998f6ce850fddc215dec053c99a",
          "grade": false,
          "grade_id": "cell-4bb36aba746b5e23",
          "locked": true,
          "schema_version": 3,
          "solution": false,
          "task": false
        },
        "id": "dbkLI98JsKjI"
      },
      "source": [
        "Describe the differences between the plots. Explain in which way each of the kernel parameters affects the generated samples."
      ]
    },
    {
      "cell_type": "markdown",
      "metadata": {
        "deletable": false,
        "nbgrader": {
          "cell_type": "markdown",
          "checksum": "d00a116080dcc6e99b6e4e51b56cc621",
          "grade": true,
          "grade_id": "cell-9bf4c95c7a2f9c37",
          "locked": false,
          "points": 0,
          "schema_version": 3,
          "solution": true,
          "task": false
        },
        "id": "Xkf_06igsKjI"
      },
      "source": [
        "YOUR ANSWER HERE"
      ]
    },
    {
      "cell_type": "markdown",
      "metadata": {
        "deletable": false,
        "editable": false,
        "nbgrader": {
          "cell_type": "markdown",
          "checksum": "b7da60816ad41419596d5aee34247f16",
          "grade": false,
          "grade_id": "cell-366044a1ee6f6dc8",
          "locked": true,
          "schema_version": 3,
          "solution": false,
          "task": false
        },
        "id": "KeyCpzP3sKjJ"
      },
      "source": [
        "4. We now move to the bivariate case. Instead of an interval, we now consider a 2-D grid of equally spaced points of size $N = 21 \\times 21$ in $[-1, 1] \\times [-1, 1]$. We collect all these grid points in a data matrix $\\mathbf{X}$, where each one of the 441 observations has two dimensions."
      ]
    },
    {
      "cell_type": "code",
      "metadata": {
        "deletable": false,
        "nbgrader": {
          "cell_type": "code",
          "checksum": "58bb88bff851a518112ef3085dfd9c91",
          "grade": false,
          "grade_id": "cell-b91ef28dcf1e7306",
          "locked": false,
          "schema_version": 3,
          "solution": true,
          "task": false
        },
        "id": "ZcDNKYoysKjJ"
      },
      "source": [
        "\"\"\"\n",
        "Compute the Gram matrix in the bivariate case.\n",
        "\n",
        "Parameters\n",
        "----------\n",
        "K : np.ndarray\n",
        "    The Gram matrix.\n",
        "\"\"\"\n",
        "# YOUR CODE HERE\n",
        "raise NotImplementedError()"
      ],
      "execution_count": null,
      "outputs": []
    },
    {
      "cell_type": "code",
      "metadata": {
        "deletable": false,
        "editable": false,
        "nbgrader": {
          "cell_type": "code",
          "checksum": "0b2e8b48926d69d4ec43b010ed4e27b6",
          "grade": true,
          "grade_id": "cell-2f4ded17a4d217db",
          "locked": true,
          "points": 0,
          "schema_version": 3,
          "solution": false,
          "task": false
        },
        "id": "9PNd2-3bsKjJ"
      },
      "source": [
        "\"\"\"\n",
        "Tests for bivariate Gram matrix.\n",
        "\"\"\"\n",
        "assert type(K) is np.ndarray"
      ],
      "execution_count": null,
      "outputs": []
    },
    {
      "cell_type": "markdown",
      "metadata": {
        "deletable": false,
        "editable": false,
        "nbgrader": {
          "cell_type": "markdown",
          "checksum": "d954ac98872996ee1c9f67b0e27ed336",
          "grade": false,
          "grade_id": "cell-b159a220f9596db3",
          "locked": true,
          "schema_version": 3,
          "solution": false,
          "task": false
        },
        "id": "bDzGABNnsKjK"
      },
      "source": [
        "What is the dimension of $\\mathbf{K}$ now? What does this tell you about the scalability of sampling multivariate functions from Gaussian processes in higher dimensions?"
      ]
    },
    {
      "cell_type": "markdown",
      "metadata": {
        "deletable": false,
        "nbgrader": {
          "cell_type": "markdown",
          "checksum": "e9671f16e379667eabd304d02978feda",
          "grade": true,
          "grade_id": "cell-478c45187cb376ee",
          "locked": false,
          "points": 0,
          "schema_version": 3,
          "solution": true,
          "task": false
        },
        "id": "TTFIdTFSsKjK"
      },
      "source": [
        "YOUR ANSWER HERE"
      ]
    },
    {
      "cell_type": "markdown",
      "metadata": {
        "deletable": false,
        "editable": false,
        "nbgrader": {
          "cell_type": "markdown",
          "checksum": "dc9a9579a0d180643e62cf2a56549fba",
          "grade": false,
          "grade_id": "cell-2ae87a6452e46719",
          "locked": true,
          "schema_version": 3,
          "solution": false,
          "task": false
        },
        "id": "xFwr4aAmsKjK"
      },
      "source": [
        "5. Using the same kernel from equation \\eqref{eqn:kernel}, compute the Gram matrix $\\mathbf{K}(\\mathbf{X}, \\mathbf{X})$ on the grid for each hyperparameter configuration $\\mathbf{\\theta} \\in \\{ (1, 1, 1, 1), (1, 10, 1, 1), (1, 1, 1, 10) \\}$. For each $\\mathbf{K}$, generate and plot four random surfaces from the Gaussian process prior  $\\mathbf{y}(\\mathbf{X}) \\sim \\mathcal{N}(\\mathbf{0}, \\mathbf{K}(\\mathbf{X}, \\mathbf{X}))$. Compare the observed differences to the univariate case."
      ]
    },
    {
      "cell_type": "code",
      "metadata": {
        "deletable": false,
        "nbgrader": {
          "cell_type": "code",
          "checksum": "7c2abea2d5e6d98575d09a9b625380e5",
          "grade": true,
          "grade_id": "cell-e6b906b954c3a1c4",
          "locked": false,
          "points": 0,
          "schema_version": 3,
          "solution": true,
          "task": false
        },
        "id": "mWW3UHovsKjL"
      },
      "source": [
        "def generate_surfaces_GP_prior(theta, num_samples = 5):\n",
        "    \"\"\"\n",
        "    Generate bivariate function samples (surfaces) from the Gaussian process prior.\n",
        "\n",
        "    Parameters\n",
        "    ----------\n",
        "    theta : (4, ) array\n",
        "        The array containing the hyperparameters governing the kernel function.\n",
        "    num_samples : integer\n",
        "        The number of functions to plot.\n",
        "\n",
        "    Returns\n",
        "    -------\n",
        "    \"\"\"\n",
        "    # YOUR CODE HERE\n",
        "    raise NotImplementedError()"
      ],
      "execution_count": null,
      "outputs": []
    },
    {
      "cell_type": "code",
      "metadata": {
        "deletable": false,
        "nbgrader": {
          "cell_type": "code",
          "checksum": "64abfcc5cecbdcaef1000abdab02da3a",
          "grade": true,
          "grade_id": "cell-fe6416cb0e5fdc58",
          "locked": false,
          "points": 0,
          "schema_version": 3,
          "solution": true,
          "task": false
        },
        "id": "mhHIhiSYsKjL"
      },
      "source": [
        "\"\"\"\n",
        "Plot curves with different values of theta.\n",
        "\"\"\"\n",
        "# YOUR CODE HERE\n",
        "raise NotImplementedError()"
      ],
      "execution_count": null,
      "outputs": []
    },
    {
      "cell_type": "markdown",
      "metadata": {
        "deletable": false,
        "editable": false,
        "nbgrader": {
          "cell_type": "markdown",
          "checksum": "9713e52ca05f04bab7509fca0fe40ef9",
          "grade": false,
          "grade_id": "cell-c73db8220296e2b1",
          "locked": true,
          "schema_version": 3,
          "solution": false,
          "task": false
        },
        "id": "OkZn9EWnsKjL"
      },
      "source": [
        "### Part 2 - Gaussian processes for regression\n",
        "We would like to apply Gaussian process models to the problem of regression (Bishop 6.4.2). We consider a noisy model of the form:\n",
        "\\begin{equation*}\n",
        "t_n = y_n + \\epsilon_n,\n",
        "\\end{equation*}\n",
        "where $y_n = y(\\mathbf{x}_n)$ and $\\epsilon_n$ are i.i.d. samples from a random noise variable on the observed target values. Furthermore, we assume that the noise process has a Gaussian distribution given by:\n",
        "\\begin{equation}\n",
        "    p(t_n | y_n) = \\mathcal{N}(t_n | y_n, \\beta^{-1})\n",
        "    \\label{eqn:gp_noise_process}\n",
        "    \\tag{2}\n",
        "\\end{equation}\n",
        "\n",
        "Going back to a one-dimensional input space, we consider the following training data consisting of four data points:\n",
        "\\begin{equation*}\n",
        "\t\\mathcal{D} = \\{ (x_1 = -0.5, t_1 = 0.5), (x_2 = 0.2, t_2 = -1), (x_3 = 0.3, t_3 = 3), (x_4 = -0.1, t_4 = -2.5)\\}.\n",
        "\\end{equation*}\n",
        "1. Just as before, compute the Gram matrix of the training data for $\\mathbf{\\theta} = (1, 1, 1, 1)$. Then, taking $\\beta = 1$ in equation \\eqref{eqn:gp_noise_process}, compute the covariance matrix $\\mathbf{C}$ corresponding to the marginal distribution of the training target values: $p(\\mathbf{t}) = \\mathcal{N}(\\mathbf{t} | \\mathbf{0}, \\mathbf{C})$."
      ]
    },
    {
      "cell_type": "code",
      "metadata": {
        "deletable": false,
        "nbgrader": {
          "cell_type": "code",
          "checksum": "ed63a7e7600031baed87d9b415e36674",
          "grade": false,
          "grade_id": "cell-02cb6c94ecd75584",
          "locked": false,
          "schema_version": 3,
          "solution": true,
          "task": false
        },
        "id": "34OBvu0AsKjM"
      },
      "source": [
        "\"\"\"\n",
        "Compute the marginal distribution covariance.\n",
        "\n",
        "Parameters\n",
        "----------\n",
        "C : (4,4) np.ndarray\n",
        "    The covariance matrix corresponding to the marginal distribution.\n",
        "\"\"\"\n",
        "# YOUR CODE HERE\n",
        "raise NotImplementedError()"
      ],
      "execution_count": null,
      "outputs": []
    },
    {
      "cell_type": "code",
      "metadata": {
        "deletable": false,
        "editable": false,
        "nbgrader": {
          "cell_type": "code",
          "checksum": "c9b4040a8d2855e15f060a33aba7ae42",
          "grade": true,
          "grade_id": "cell-8698de2d3e9b656a",
          "locked": true,
          "points": 0,
          "schema_version": 3,
          "solution": false,
          "task": false
        },
        "id": "uBWVeTyqsKjM"
      },
      "source": [
        "\"\"\"\n",
        "Tests to check the covariance matrix C.\n",
        "\"\"\"\n",
        "assert type(C) is np.ndarray\n",
        "assert C.shape == (4,4)"
      ],
      "execution_count": null,
      "outputs": []
    },
    {
      "cell_type": "markdown",
      "metadata": {
        "deletable": false,
        "editable": false,
        "nbgrader": {
          "cell_type": "markdown",
          "checksum": "aa92db59ffea7c0b67e165a3447acdeb",
          "grade": false,
          "grade_id": "cell-dd2a4570d8386393",
          "locked": true,
          "schema_version": 3,
          "solution": false,
          "task": false
        },
        "id": "lExLF7wosKjN"
      },
      "source": [
        "2. Using the previous results, compute the mean and the covariance of the conditional distribution $p(t | \\mathbf{t})$ of a new target value $t$ corresponding to the input $x = 0$. Which equations from Bishop do you need?"
      ]
    },
    {
      "cell_type": "markdown",
      "metadata": {
        "deletable": false,
        "nbgrader": {
          "cell_type": "markdown",
          "checksum": "93750c9101ecc3132954cad3b0f23951",
          "grade": true,
          "grade_id": "cell-501fa135983664b3",
          "locked": false,
          "points": 0,
          "schema_version": 3,
          "solution": true,
          "task": false
        },
        "id": "sMQtpPDqsKjN"
      },
      "source": [
        "YOUR ANSWER HERE"
      ]
    },
    {
      "cell_type": "markdown",
      "metadata": {
        "deletable": false,
        "editable": false,
        "nbgrader": {
          "cell_type": "markdown",
          "checksum": "a9a1e08285fb375b22b9482717aeb3ae",
          "grade": false,
          "grade_id": "cell-739c08fdb07ab083",
          "locked": true,
          "schema_version": 3,
          "solution": false,
          "task": false
        },
        "id": "ZPq9MrvqsKjN"
      },
      "source": [
        "Compute the mean and the covariance in the cell below. "
      ]
    },
    {
      "cell_type": "code",
      "metadata": {
        "deletable": false,
        "nbgrader": {
          "cell_type": "code",
          "checksum": "1413ea8f62a8a0279d2551e9bd004954",
          "grade": false,
          "grade_id": "cell-829193a0edec6858",
          "locked": false,
          "schema_version": 3,
          "solution": true,
          "task": false
        },
        "id": "tmCVfwTvsKjO"
      },
      "source": [
        "\"\"\"\n",
        "Compute the conditional predictive distribution.\n",
        "\n",
        "Parameters\n",
        "----------\n",
        "m : float\n",
        "    The mean of the conditional predictive distribution.\n",
        "s2 : float\n",
        "    The (co)variance of the conditional predictive distribution.\n",
        "\"\"\"\n",
        "# YOUR CODE HERE\n",
        "raise NotImplementedError()"
      ],
      "execution_count": null,
      "outputs": []
    },
    {
      "cell_type": "code",
      "metadata": {
        "deletable": false,
        "editable": false,
        "nbgrader": {
          "cell_type": "code",
          "checksum": "8ec2e6cf9fb4362d4217f5f73ff27451",
          "grade": true,
          "grade_id": "cell-03872a532232b313",
          "locked": true,
          "points": 0,
          "schema_version": 3,
          "solution": false,
          "task": false
        },
        "id": "XudpGMK7sKjO"
      },
      "source": [
        "\"\"\"\n",
        "Tests to check the mean m and (co)variance s2.\n",
        "\"\"\"\n",
        "assert (type(m) is float) or (type(m) is np.float64)\n",
        "assert (type(s2) is float) or (type(s2) is np.float64)"
      ],
      "execution_count": null,
      "outputs": []
    },
    {
      "cell_type": "markdown",
      "metadata": {
        "deletable": false,
        "editable": false,
        "nbgrader": {
          "cell_type": "markdown",
          "checksum": "3acf3916d16ff31c2c94ed690c54e1e4",
          "grade": false,
          "grade_id": "cell-7865c15992467844",
          "locked": true,
          "schema_version": 3,
          "solution": false,
          "task": false
        },
        "id": "NK7g_EICsKjO"
      },
      "source": [
        "3. Does the mean of the conditional distribution $p(t | \\mathbf{t})$ go to zero in the limit $x \\rightarrow \\pm \\infty$? If so, explain why this happens. If not, how would you set the parameters $\\mathbf{\\theta}$ of the kernel function to make it happen?"
      ]
    },
    {
      "cell_type": "markdown",
      "metadata": {
        "deletable": false,
        "nbgrader": {
          "cell_type": "markdown",
          "checksum": "80f8689efd63cc15ffb002468382d98b",
          "grade": true,
          "grade_id": "cell-b5dd1f4b9613f281",
          "locked": false,
          "points": 0,
          "schema_version": 3,
          "solution": true,
          "task": false
        },
        "id": "dOvXuqJzsKjP"
      },
      "source": [
        "YOUR ANSWER HERE"
      ]
    }
  ]
}