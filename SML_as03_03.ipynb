{
  "nbformat": 4,
  "nbformat_minor": 0,
  "metadata": {
    "kernelspec": {
      "display_name": "Python 3",
      "language": "python",
      "name": "python3"
    },
    "language_info": {
      "codemirror_mode": {
        "name": "ipython",
        "version": 3
      },
      "file_extension": ".py",
      "mimetype": "text/x-python",
      "name": "python",
      "nbconvert_exporter": "python",
      "pygments_lexer": "ipython3",
      "version": "3.8.2"
    },
    "colab": {
      "name": "SML20_as03_03.ipynb",
      "provenance": []
    }
  },
  "cells": [
    {
      "cell_type": "markdown",
      "metadata": {
        "id": "qhaLL8X8hW9n"
      },
      "source": [
        "## Students\n",
        "Please fill in your names and S/U-numbers:\n",
        "* Student 1 name, S/U-number:\n",
        "* Student 2 name, S/U-number:\n",
        "* Student 3 name, S/U-number:"
      ]
    },
    {
      "cell_type": "markdown",
      "metadata": {
        "deletable": false,
        "editable": false,
        "nbgrader": {
          "cell_type": "markdown",
          "checksum": "0fb8478b7a3229958666303fcf53e014",
          "grade": false,
          "grade_id": "cell-e3a6a6b02afe0d83",
          "locked": true,
          "schema_version": 3,
          "solution": false,
          "task": false
        },
        "id": "3S4VeAeVhW9z"
      },
      "source": [
        "# Statistical Machine Learning 2020\n",
        "# Assignment 3\n",
        "# Deadline: 2 December 2020\n",
        "## Instructions\n",
        "* You can __work in groups__ (= max 3 people). __Write the full name and S/U-number of all team members in the header above.__\n",
        "* Make sure you __fill in any place that says__ `YOUR CODE HERE` or \"YOUR ANSWER HERE\" __including comments, derivations, explanations, graphs, etc.__ This means that the elements and/or intermediate steps required to derive the answer have to be in the report. (Answers like 'No' or 'x=27.2' by themselves are not sufficient, even when they are the result of running your code.) If an exercise requires coding, explain briefly what the code does (in comments). All figures should have titles (descriptions), axis labels, and legends (if applicable).\n",
        "* Please do not add new cells unless necessary, try to write the answers only in the provided cells. Before you turn this problem in, __make sure everything runs as expected__. First, *restart the kernel* (in the menubar, select Kernel$\\rightarrow$Restart) and then *run all cells* (in the menubar, select Cell$\\rightarrow$Run All). The assignment was written in (and we strongly recommend using) Python 3 by using the corresponding Python 3 kernel for Jupyter.\n",
        "* The assignment includes certain cells that contain tests. Most of the tests are marked as *hidden* and are used for automatic grading. NB: These hidden tests do not provide any feedback! There are also a couple of tests / checks that are visible, which are meant to help you avoid basic coding errors.\n",
        "* __Upload the exercises to Brightspace as a single .zip file containing the submitter's S/U-number: 'SML20_as03_&lt;S/U-number&gt;.zip'__, for example 'SML20_as03_S123456.zip'. For those working in groups, it is sufficient if one team member uploads the solutions.\n",
        "* For any problems or questions, send us an email, or just ask. Email addresses: G.Bucur@cs.ru.nl, Yuliya.Shapovalova@ru.nl, and tomc@cs.ru.nl.\n",
        "\n",
        "## Introduction\n",
        "Assignment 3 consists of:\n",
        "1. The faulty lighthouse (40 points);\n",
        "2. Neural network regression (30 points);\n",
        "3. __Bayesian polynomial regression (30 points)__.\n",
        "\n",
        "## Libraries\n",
        "\n",
        "First, we import the basic libraries necessary to develop this assignment. Of course you are free to import further libraries, if required, in the allotted cells."
      ]
    },
    {
      "cell_type": "code",
      "metadata": {
        "deletable": false,
        "editable": false,
        "nbgrader": {
          "cell_type": "code",
          "checksum": "fc62ccbd7f70d329f90cfe2b26e97921",
          "grade": false,
          "grade_id": "cell-57d156d70e92c9aa",
          "locked": true,
          "schema_version": 3,
          "solution": false,
          "task": false
        },
        "id": "URdycY3ChW92"
      },
      "source": [
        "import IPython\n",
        "assert IPython.version_info[0] >= 3, \"Your version of IPython is too old, please update it.\"\n",
        "\n",
        "import numpy as np\n",
        "import matplotlib.pyplot as plt\n",
        "\n",
        "# Set fixed random seed for reproducibility\n",
        "np.random.seed(2020)"
      ],
      "execution_count": null,
      "outputs": []
    },
    {
      "cell_type": "markdown",
      "metadata": {
        "deletable": false,
        "editable": false,
        "nbgrader": {
          "cell_type": "markdown",
          "checksum": "bcbb2d37b1604a645ed562f5451089cc",
          "grade": false,
          "grade_id": "cell-bbbb25e0adf08276",
          "locked": true,
          "schema_version": 3,
          "solution": false,
          "task": false
        },
        "id": "Tdu1d-q0hW97"
      },
      "source": [
        "## Bayesian polynomial regression (30 points)\n",
        "In this exercise, we will consider _Bayesian_ treatment of polynomial regression. Recall polynomial regression \n",
        "\\begin{equation}\n",
        "t_{n} = \\omega_{0} + \\omega_{1}x_{n} + \\omega_{2} x_{x}^{2}+\\dots+\\omega_{M}x_{n}^{M}+\\epsilon_{n}, \n",
        "\\end{equation}\n",
        "where $\\epsilon_{n}\\sim N(0, \\sigma^{2})$. In the vector form we have \n",
        "\\begin{equation}\n",
        "t_{n} = \\boldsymbol{w}^{T}\\boldsymbol{x}_{n}+\\epsilon_{n}, \n",
        "\\end{equation}\n",
        "where $\\boldsymbol{w}=[w_{0}, \\dots, w_{K}]^{T}$ and $\\boldsymbol{x}_{n}=[1,x_{n}, x_{n}^{2}, \\dots, x_{n}^{K}]$. Further, let us stack all responses in one vector $\\boldsymbol{t}=[t_{1}, \\dots, t_{N}]^{T}$, all inputs in a single matrix $\\boldsymbol{X}=[\\boldsymbol{x}_{1}, \\boldsymbol{x}_{2}, \\dots, \\boldsymbol{x}_{N}]^{T}$. Then we get for the whole data set\n",
        "\\begin{equation}\n",
        "\\boldsymbol{t}=\\boldsymbol{X}\\boldsymbol{w}+\\boldsymbol{\\epsilon},\n",
        "\\end{equation}\n",
        "where $\\boldsymbol{\\epsilon}=[\\epsilon_{1}, \\dots, \\epsilon_{N}]^{T}$. \n",
        "Assume that we know the true value of  $\\sigma^{2}$. \n",
        "\n",
        "1. Derive the posterior distribution of $\\boldsymbol{\\omega}$, i.e. $p(\\boldsymbol{\\omega}|\\boldsymbol{t}, \\boldsymbol{X}, \\sigma^{2})$.  \n",
        "Hint: Use the prior $p(\\boldsymbol{\\omega}|\\boldsymbol{\\mu_{0}}, \\boldsymbol{\\Sigma_{0}})=N(\\boldsymbol{\\mu_{0}}, \\boldsymbol{\\Sigma_{0}})$ and the fact that the posterior should be Gaussian. "
      ]
    },
    {
      "cell_type": "markdown",
      "metadata": {
        "deletable": false,
        "nbgrader": {
          "cell_type": "markdown",
          "checksum": "a40f2ecf7cbe678e37b0f4852475257d",
          "grade": true,
          "grade_id": "cell-d12dbe36ec039c0b",
          "locked": false,
          "points": 8,
          "schema_version": 3,
          "solution": true,
          "task": false
        },
        "id": "ADLoc2TjhW99"
      },
      "source": [
        "YOUR ANSWER HERE"
      ]
    },
    {
      "cell_type": "markdown",
      "metadata": {
        "deletable": false,
        "editable": false,
        "nbgrader": {
          "cell_type": "markdown",
          "checksum": "31ed30db0bf680e8ef289a52a95f5499",
          "grade": false,
          "grade_id": "cell-b7f2ed5b0213c674",
          "locked": true,
          "schema_version": 3,
          "solution": false,
          "task": false
        },
        "id": "LFiDfM2lhW9-"
      },
      "source": [
        "2. Take the first order polynomial, the the inputs are $\\boldsymbol{x_{n}}=[1, x_{n}]^{T}$. Let $\\boldsymbol{\\mu_{0}}=[0,0,\\dots,0]^{T}$. Then the posterior mean for the linear Gaussian model is\n",
        "\\begin{equation}\n",
        "\\boldsymbol{\\mu_{\\omega}}=(\\boldsymbol{X}^{T}\\boldsymbol{X}+ \\sigma^2 \\boldsymbol{\\Sigma_{0}^{-1}})^{-1}\\boldsymbol{X}^{T}\\boldsymbol{t}.\n",
        "\\label{eq:MAP} \\tag{1}\n",
        "\\end{equation}\n",
        "Recall also the regularised least squares solution:\n",
        "\\begin{equation}\n",
        "\\hat{\\boldsymbol{\\omega}}=(\\boldsymbol{X}^{T}\\boldsymbol{X}+N\\lambda\\boldsymbol{I})^{-1}\\boldsymbol{X}^{T}\\boldsymbol{t}.\n",
        "\\label{eq:MLE} \\tag{2}\n",
        "\\end{equation}\n",
        "Find $\\boldsymbol{\\Sigma_{0}}$ that makes Equation \\eqref{eq:MAP} and Equation \\eqref{eq:MLE} identical. Reflect on the similarity between MAP solution and regularized least squares. Comment on what it implies for the effect of the prior."
      ]
    },
    {
      "cell_type": "markdown",
      "metadata": {
        "deletable": false,
        "nbgrader": {
          "cell_type": "markdown",
          "checksum": "912de86d114accc7d731bcc56dbe5694",
          "grade": true,
          "grade_id": "cell-cb4a19df380490ad",
          "locked": false,
          "points": 2,
          "schema_version": 3,
          "solution": true,
          "task": false
        },
        "id": "qXGtmQ41hW-A"
      },
      "source": [
        "YOUR ANSWER HERE"
      ]
    },
    {
      "cell_type": "markdown",
      "metadata": {
        "deletable": false,
        "editable": false,
        "nbgrader": {
          "cell_type": "markdown",
          "checksum": "ab12231ebde4e1402e7be7146a89164e",
          "grade": false,
          "grade_id": "cell-f5c34c7115505339",
          "locked": true,
          "schema_version": 3,
          "solution": false,
          "task": false
        },
        "id": "ZTmp3vjOhW-B"
      },
      "source": [
        "3. Generate data from the polynomial function\n",
        "\\begin{equation}\n",
        "t= 5x^{3} - x^{2} +x\n",
        "\\end{equation}\n",
        "and add Gaussian noise with the mean zero and variance 150 and plot your data.\n",
        "\n",
        "First define the function $t$."
      ]
    },
    {
      "cell_type": "code",
      "metadata": {
        "deletable": false,
        "nbgrader": {
          "cell_type": "code",
          "checksum": "fd447e5d584f85998c7474ba69e63f9b",
          "grade": false,
          "grade_id": "cell-ece70abe254c227c",
          "locked": false,
          "schema_version": 3,
          "solution": true,
          "task": false
        },
        "id": "FBN6ZxTthW-D"
      },
      "source": [
        "def f(x):\n",
        "    \"\"\"\n",
        "    Define the polynomial function f(x).\n",
        "    \"\"\"\n",
        "    # YOUR CODE HERE\n",
        "    raise NotImplementedError()"
      ],
      "execution_count": null,
      "outputs": []
    },
    {
      "cell_type": "code",
      "metadata": {
        "deletable": false,
        "editable": false,
        "nbgrader": {
          "cell_type": "code",
          "checksum": "c06d128fdbcf6dce19408a5c75d70406",
          "grade": true,
          "grade_id": "cell-5db410b0084695b0",
          "locked": true,
          "points": 1,
          "schema_version": 3,
          "solution": false,
          "task": false
        },
        "id": "KwWqPbHthW-F"
      },
      "source": [
        "\"\"\"\n",
        "Test the polynomial function f(x).\n",
        "\"\"\""
      ],
      "execution_count": null,
      "outputs": []
    },
    {
      "cell_type": "markdown",
      "metadata": {
        "deletable": false,
        "editable": false,
        "nbgrader": {
          "cell_type": "markdown",
          "checksum": "790c61368bccfda22e3dca7bbaa1ae9a",
          "grade": false,
          "grade_id": "cell-6747240bfdc2c9d8",
          "locked": true,
          "schema_version": 3,
          "solution": false,
          "task": false
        },
        "id": "UyQBpI9_hW-H"
      },
      "source": [
        "Now plot the data generated by the function with a mean of 0 and a variance of 150."
      ]
    },
    {
      "cell_type": "code",
      "metadata": {
        "deletable": false,
        "nbgrader": {
          "cell_type": "code",
          "checksum": "7ea91db38eebf678854f6095ffac026a",
          "grade": true,
          "grade_id": "cell-98a8f3ba37e9002f",
          "locked": false,
          "points": 3,
          "schema_version": 3,
          "solution": true,
          "task": false
        },
        "id": "lWCB7sgmhW-I"
      },
      "source": [
        "\"\"\"\n",
        "Plot the polynomial function t(x) with added Gaussian noise.\n",
        "\"\"\"\n",
        "# YOUR CODE HERE\n",
        "raise NotImplementedError()"
      ],
      "execution_count": null,
      "outputs": []
    },
    {
      "cell_type": "markdown",
      "metadata": {
        "deletable": false,
        "editable": false,
        "nbgrader": {
          "cell_type": "markdown",
          "checksum": "7ce6b1a82258181a0cd4d31324d4c898",
          "grade": false,
          "grade_id": "cell-d600bad86391b6f2",
          "locked": true,
          "schema_version": 3,
          "solution": false,
          "task": false
        },
        "id": "OXtZMMv4hW-J"
      },
      "source": [
        "4. Compute the marginal likelihood for the models from first to seventh order and make a plot of the marginal likelihood for these models (polynomial order on the x-axis and marginal likelihood value on the y-axis). Use a Gaussian prior on $\\boldsymbol{\\omega}$ with **zero mean** and an **identity covariance matrix**.\n",
        "\n",
        "Hints: \n",
        "1) If you are computing log marginal likelihood (which you probably are), you might want to take exponent of that when making the plots. You can use `matplotlib.pyplot.bar` for making the bar plot.  \n",
        "2) The marginal likelihood (also known as the model evidence) for our Gaussian model is defined as $p(\\boldsymbol{t}|\\boldsymbol{X}, \\boldsymbol{\\mu_{0}}, \\boldsymbol{\\Sigma_{0}})$. Using Gaussian distributions as before we can compute\n",
        "\\begin{equation}\n",
        "p(\\boldsymbol{t}|\\boldsymbol{X}, \\boldsymbol{\\mu_{0}}, \\boldsymbol{\\Sigma_{0}})= N(\\boldsymbol{X}\\boldsymbol{\\mu_{0}}, \\sigma^{2}\\boldsymbol{I}_{N}+\\boldsymbol{X}\\boldsymbol{\\Sigma_{0}}\\boldsymbol{X}^{T}).\n",
        "\\end{equation}"
      ]
    },
    {
      "cell_type": "code",
      "metadata": {
        "deletable": false,
        "nbgrader": {
          "cell_type": "code",
          "checksum": "e8c3e5e1f5ff75fb43f51db7a335c395",
          "grade": false,
          "grade_id": "cell-cadd5890106dd435",
          "locked": false,
          "schema_version": 3,
          "solution": true,
          "task": false
        },
        "id": "sY1E7nwOhW-K"
      },
      "source": [
        "def marginal_loglikelihood(X, N, t, sigma=1):\n",
        "    \"\"\"\n",
        "    Calculate the marginal likelihood.\n",
        "\n",
        "    Parameters\n",
        "    ----------\n",
        "    X : Nx1 array\n",
        "        The array containing the random data points.\n",
        "    N : numeric\n",
        "        The number of data points.\n",
        "    t : Nx1 array\n",
        "        The array containing the random data points with Gaussian noise.\n",
        "\n",
        "    Returns\n",
        "    -------\n",
        "    list\n",
        "        Marginal loglikelihoods for different polynomial orders.\n",
        "    \"\"\"\n",
        "    # YOUR CODE HERE\n",
        "    raise NotImplementedError()"
      ],
      "execution_count": null,
      "outputs": []
    },
    {
      "cell_type": "code",
      "metadata": {
        "deletable": false,
        "editable": false,
        "nbgrader": {
          "cell_type": "code",
          "checksum": "03029c2cbdc1983c79a3e3bedcd578d0",
          "grade": true,
          "grade_id": "cell-d78cc77a3b106231",
          "locked": true,
          "points": 4,
          "schema_version": 3,
          "solution": false,
          "task": false
        },
        "id": "n_YWcBjdhW-L"
      },
      "source": [
        "\"\"\"\n",
        "Test for marginal_loglikelihood.\n",
        "\"\"\"\n",
        "assert type(marginal_loglikelihood(np.full((1, 1), 0), 1, np.full((1, 1), 0))) is list"
      ],
      "execution_count": null,
      "outputs": []
    },
    {
      "cell_type": "markdown",
      "metadata": {
        "deletable": false,
        "editable": false,
        "nbgrader": {
          "cell_type": "markdown",
          "checksum": "f1c24a4c1e1c635a2735e9b99be99711",
          "grade": false,
          "grade_id": "cell-1f442d34ca5e329e",
          "locked": true,
          "schema_version": 3,
          "solution": false,
          "task": false
        },
        "id": "lIQg0PIThW-M"
      },
      "source": [
        "Now plot the results with the help of `marginal_loglikelihood`."
      ]
    },
    {
      "cell_type": "code",
      "metadata": {
        "deletable": false,
        "nbgrader": {
          "cell_type": "code",
          "checksum": "43105404c80c045d4dc5cc4fef221438",
          "grade": true,
          "grade_id": "cell-8ecce257dda193fb",
          "locked": false,
          "points": 2,
          "schema_version": 3,
          "solution": true,
          "task": false
        },
        "id": "J8hTXwQJhW-N"
      },
      "source": [
        "\"\"\"\n",
        "Plot the results of the marginal loglikelihood.\n",
        "\"\"\"\n",
        "# YOUR CODE HERE\n",
        "raise NotImplementedError()"
      ],
      "execution_count": null,
      "outputs": []
    },
    {
      "cell_type": "markdown",
      "metadata": {
        "deletable": false,
        "editable": false,
        "nbgrader": {
          "cell_type": "markdown",
          "checksum": "f987983493b7b53334741b194ea80d80",
          "grade": false,
          "grade_id": "cell-9df069813f400546",
          "locked": true,
          "schema_version": 3,
          "solution": false,
          "task": false
        },
        "id": "j1qCZ6xhhW-O"
      },
      "source": [
        "Comment on your results. Which model would you choose according to the marginal likelihood?  "
      ]
    },
    {
      "cell_type": "markdown",
      "metadata": {
        "deletable": false,
        "nbgrader": {
          "cell_type": "markdown",
          "checksum": "885d2a6cd882acee5263ad4e39d8d096",
          "grade": true,
          "grade_id": "cell-3f01a1d2ee023123",
          "locked": false,
          "points": 2,
          "schema_version": 3,
          "solution": true,
          "task": false
        },
        "id": "yI9lYr4rhW-P"
      },
      "source": [
        "YOUR ANSWER HERE"
      ]
    },
    {
      "cell_type": "markdown",
      "metadata": {
        "deletable": false,
        "editable": false,
        "nbgrader": {
          "cell_type": "markdown",
          "checksum": "f0b3dcfcf5fb8009da6e3ad0859f5614",
          "grade": false,
          "grade_id": "cell-6a4a4988e7332fb4",
          "locked": true,
          "schema_version": 3,
          "solution": false,
          "task": false
        },
        "id": "T7VnNYlChW-P"
      },
      "source": [
        "4. How would the prior affect the choice of polynomial using marginal likelihood? Let $\\boldsymbol{\\Sigma_{0}}=\\sigma_{0}^{2}\\boldsymbol{I}$ and vary $\\sigma_{0}^{2}$: what happens when you increase and decrease $\\sigma_{0}^{2}$? Plot the marginal likelihood fror various polynomial orders (from 1 to 7) for $\\sigma_{0}^{2}=0.1$ , $\\sigma_{0}^{2}=0.3$, $\\sigma_{0}^{2}=0.4$, $\\sigma_{0}^{2}=0.7$, $\\sigma_{0}^{2}=1.3$, $\\sigma_{0}^{2}=1.4$, $\\sigma_{0}^{2}=1.7$."
      ]
    },
    {
      "cell_type": "code",
      "metadata": {
        "deletable": false,
        "nbgrader": {
          "cell_type": "code",
          "checksum": "b52464283bc7d5b70bd7f11ceadf26d9",
          "grade": true,
          "grade_id": "cell-5a8f27b42908767d",
          "locked": false,
          "points": 5,
          "schema_version": 3,
          "solution": true,
          "task": false
        },
        "id": "2eMDjywghW-Q"
      },
      "source": [
        "\"\"\"\n",
        "Plot the results of the marginal loglikelihood with different sigmas.\n",
        "\"\"\"\n",
        "# YOUR CODE HERE\n",
        "raise NotImplementedError()"
      ],
      "execution_count": null,
      "outputs": []
    },
    {
      "cell_type": "markdown",
      "metadata": {
        "deletable": false,
        "editable": false,
        "nbgrader": {
          "cell_type": "markdown",
          "checksum": "c8d50239a81661c76733f2c938439fb5",
          "grade": false,
          "grade_id": "cell-9278e618c146a07f",
          "locked": true,
          "schema_version": 3,
          "solution": false,
          "task": false
        },
        "id": "y92DlUfHhW-R"
      },
      "source": [
        "Comment on the effect of changing $\\sigma_{0}^{2}$. What does it in general imply for such type of modeling choice (i.e. for Bayesian way of estimation for the polynomial regression)?"
      ]
    },
    {
      "cell_type": "markdown",
      "metadata": {
        "deletable": false,
        "nbgrader": {
          "cell_type": "markdown",
          "checksum": "0a182b96796132e4977b8bedcb7ef214",
          "grade": true,
          "grade_id": "cell-e2e8c5e272656373",
          "locked": false,
          "points": 3,
          "schema_version": 3,
          "solution": true,
          "task": false
        },
        "id": "LlGO_hmkhW-R"
      },
      "source": [
        "YOUR ANSWER HERE"
      ]
    }
  ]
}