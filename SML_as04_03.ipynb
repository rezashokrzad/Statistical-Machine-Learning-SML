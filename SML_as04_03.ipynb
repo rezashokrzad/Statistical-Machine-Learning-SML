{
  "nbformat": 4,
  "nbformat_minor": 0,
  "metadata": {
    "kernelspec": {
      "display_name": "Python 3",
      "language": "python",
      "name": "python3"
    },
    "language_info": {
      "codemirror_mode": {
        "name": "ipython",
        "version": 3
      },
      "file_extension": ".py",
      "mimetype": "text/x-python",
      "name": "python",
      "nbconvert_exporter": "python",
      "pygments_lexer": "ipython3",
      "version": "3.8.2"
    },
    "colab": {
      "name": "SML_as04_03.ipynb",
      "provenance": []
    }
  },
  "cells": [
    {
      "cell_type": "markdown",
      "metadata": {
        "id": "BANWDhG7r8_k"
      },
      "source": [
        "## Students\n",
        "Please fill in your names and S/U-numbers:\n",
        "* Student 1 name, S/U-number:\n",
        "* Student 2 name, S/U-number:\n",
        "* Student 3 name, S/U-number:"
      ]
    },
    {
      "cell_type": "markdown",
      "metadata": {
        "deletable": false,
        "editable": false,
        "nbgrader": {
          "cell_type": "markdown",
          "checksum": "ea90004f76009ffef27a3505158445c4",
          "grade": false,
          "grade_id": "cell-d54b63afa7b264a2",
          "locked": true,
          "schema_version": 3,
          "solution": false,
          "task": false
        },
        "id": "A1MeclM8r8_o"
      },
      "source": [
        "# Statistical Machine Learning 2020\n",
        "# Assignment 4\n",
        "# Deadline: 23 December 2020\n",
        "## Instructions\n",
        "* You can __work in groups__ (= max 3 people). __Write the full name and S/U-number of all team members in the header above.__\n",
        "* Make sure you __fill in any place that says__ `YOUR CODE HERE` or \"YOUR ANSWER HERE\" __including comments, derivations, explanations, graphs, etc.__ This means that the elements and/or intermediate steps required to derive the answer have to be in the report. (Answers like 'No' or 'x=27.2' by themselves are not sufficient, even when they are the result of running your code.) If an exercise requires coding, explain briefly what the code does (in comments). All figures should have titles (descriptions), axis labels, and legends (if applicable).\n",
        "* Please do not add new cells unless necessary, try to write the answers only in the provided cells. Before you turn this problem in, __make sure everything runs as expected__. First, *restart the kernel* (in the menubar, select Kernel$\\rightarrow$Restart) and then *run all cells* (in the menubar, select Cell$\\rightarrow$Run All). The assignment was written in (and we strongly recommend using) Python 3 by using the corresponding Python 3 kernel for Jupyter.\n",
        "* The assignment includes certain cells that contain tests. Most of the tests are marked as *hidden* and are used for automatic grading. NB: These hidden tests do not provide any feedback! There are also a couple of tests / checks that are visible, which are meant to help you avoid basic coding errors.\n",
        "* __Upload the exercises to Brightspace as a single .zip file containing the submitter's S/U-number: 'SML20_as04_&lt;S/U-number&gt;.zip'__, for example 'SML20_as04_S123456.zip'. For those working in groups, it is sufficient if one team member uploads the solutions.\n",
        "* For any problems or questions, send us an email, or just ask. Email addresses: G.Bucur@cs.ru.nl, Yuliya.Shapovalova@ru.nl, and tomc@cs.ru.nl.\n",
        "\n",
        "## Introduction\n",
        "Assignment 4 consists of:\n",
        "1. Gaussian processes (50 points);\n",
        "2. EM and doping (50 points);\n",
        "3. __Gibbs sampling and Metropolis-Hastings (50 points)__;\n",
        "4. Variational inference for Bayesian linear regression (50 points).\n",
        "\n",
        "## Libraries\n",
        "\n",
        "First, we import the basic libraries necessary to develop this assignment. Of course you are free to import further libraries, if required, in the allotted cells."
      ]
    },
    {
      "cell_type": "code",
      "metadata": {
        "deletable": false,
        "editable": false,
        "nbgrader": {
          "cell_type": "code",
          "checksum": "8b42ca2bfcb22d148a1f100a49b50d54",
          "grade": false,
          "grade_id": "cell-8377ce1c032fab37",
          "locked": true,
          "schema_version": 3,
          "solution": false,
          "task": false
        },
        "id": "VkzG57Lhr8_s"
      },
      "source": [
        "import IPython\n",
        "assert IPython.version_info[0] >= 3, \"Your version of IPython is too old, please update it to at least version 3.\"\n",
        "\n",
        "import random\n",
        "import numpy as np\n",
        "import matplotlib.pyplot as plt\n",
        "from scipy.stats import multivariate_normal\n",
        "\n",
        "# Set fixed random seed for reproducibility\n",
        "np.random.seed(2020)"
      ],
      "execution_count": null,
      "outputs": []
    },
    {
      "cell_type": "markdown",
      "metadata": {
        "deletable": false,
        "editable": false,
        "nbgrader": {
          "cell_type": "markdown",
          "checksum": "4b3fab73a7eacb9818e2f9b6d25d139a",
          "grade": false,
          "grade_id": "cell-23e5fc8826fbf8a4",
          "locked": true,
          "schema_version": 3,
          "solution": false,
          "task": false
        },
        "id": "atJS7LeNr8_v"
      },
      "source": [
        "## Gibbs sampling and Metropolis-Hastings (50 points)\n",
        "Exact inference is often not tractable in real-world probabilistic models. By *exact*, we mean that the likelihood and posterior are available in closed form (as an analytical expression). For example, recall Gaussian processes regression: we have a Gaussian process prior and a Gaussian likelihood that conveniently results in a Gaussian process posterior. It is, however, not the case when we want to use Gaussian processes for classification. We have a Gaussian process prior, yet, the likelihood has to be, for example, sigmoid (logistic) or cumulative normal (probit). Such a prior and likelihood will not give us the Gaussian process posterior anymore. Thus, some other methods would have to be used for this purpose, such as Laplace approximation, Expectation Propagation, or Markov Chain Monte Carlo methods. In particular, for the Gaussian processes classification problem, one could use Gibbs sampling. In this exercise we will avoid some cumbersome derivations related to more complex problems (such as GP classification) and implement Gibbs sampling and Metropolis-Hastings for toy problems to illustrate the intuition behind the algorithms. \n",
        "### Gibbs sampler\n",
        "Consider a two-dimensional Gaussian distribution $\\boldsymbol{x}\\sim N(\\boldsymbol{\\mu}, \\boldsymbol{\\Sigma})$ with parameters \n",
        "\\begin{equation}\n",
        "\\boldsymbol{\\mu}=\n",
        "\\begin{bmatrix}\n",
        "1\\\\\n",
        "2\n",
        "\\end{bmatrix}\\,\\,\\,\\,\\,\\,\\,\\,\\,\\,\n",
        "\\boldsymbol{\\Sigma}=\\begin{bmatrix}\n",
        "1&0.8\\\\\n",
        "0.8&2\n",
        "\\end{bmatrix}\n",
        "\\end{equation}\n",
        "1. Write down the relevant conditional densities for sampling from a 2D Gaussian, write down iterations of the Gibbs sampler for sampling from a 2D Gaussian. "
      ]
    },
    {
      "cell_type": "markdown",
      "metadata": {
        "deletable": false,
        "nbgrader": {
          "cell_type": "markdown",
          "checksum": "ea0a36675a8abc96ff39da392949cdea",
          "grade": true,
          "grade_id": "cell-90751e235edc05c3",
          "locked": false,
          "points": 0,
          "schema_version": 3,
          "solution": true,
          "task": false
        },
        "id": "SDf9WjPVr8_x"
      },
      "source": [
        "YOUR ANSWER HERE"
      ]
    },
    {
      "cell_type": "markdown",
      "metadata": {
        "deletable": false,
        "editable": false,
        "nbgrader": {
          "cell_type": "markdown",
          "checksum": "66033997fdc55c440b8b3de874b278ad",
          "grade": false,
          "grade_id": "cell-fabcfd7440210369",
          "locked": true,
          "schema_version": 3,
          "solution": false,
          "task": false
        },
        "id": "_5fGcGOhr8_y"
      },
      "source": [
        "2. Implement Gibbs sampler in the programming language of your choice. Start with an initial guess $[-1.5, 4]^{T}$. Plot Gaussian contours and initial guess (see the figure below, note that $\\theta_{1}$ and $\\theta_{2}$ correspond to $x_{1}$ and $x_{2}$). Now create a similar plot after 2, 5, and 100 full cycles of Gibbs sampler.\n",
        "<img src=\"GibbsGauss.png\" alt=\"GibbsGauss\" style=\"width: 300px;\"/>\n",
        "Create a function that plots the contours, the initial guess, and the generated samples. "
      ]
    },
    {
      "cell_type": "code",
      "metadata": {
        "deletable": false,
        "nbgrader": {
          "cell_type": "code",
          "checksum": "c0693ae3ca172f0608be4adf5ae078af",
          "grade": true,
          "grade_id": "cell-018a6a9dba99f5d6",
          "locked": false,
          "points": 0,
          "schema_version": 3,
          "solution": true,
          "task": false
        },
        "id": "tof56K0er8_z"
      },
      "source": [
        "def gauss_contour(mu, sigma, init_guess, samples=[], title='Initial guess'):\n",
        "    \"\"\"\n",
        "    Function to plot Gaussian contours and initial guess.\n",
        "\n",
        "    Parameters\n",
        "    ----------\n",
        "    mu : (2,) np.ndarray\n",
        "        The mean.\n",
        "    sigma : (2,2) np.ndarray\n",
        "        The covariance.\n",
        "    init_guess : (2,) np.ndarray\n",
        "        The array containing the initial guess.\n",
        "    samples : (T,2) np.ndarray\n",
        "        The array containing the generated samples.\n",
        "    title : The title of the plot.\n",
        "\n",
        "    Returns\n",
        "    -------\n",
        "    \"\"\"\n",
        "    # YOUR CODE HERE\n",
        "    raise NotImplementedError()"
      ],
      "execution_count": null,
      "outputs": []
    },
    {
      "cell_type": "markdown",
      "metadata": {
        "deletable": false,
        "editable": false,
        "nbgrader": {
          "cell_type": "markdown",
          "checksum": "947a3f0ab828c0e831a0b067862c6f5b",
          "grade": false,
          "grade_id": "cell-b6e2227530375bf1",
          "locked": true,
          "schema_version": 3,
          "solution": false,
          "task": false
        },
        "id": "fPOciMyXr8_0"
      },
      "source": [
        "Implement the Gibbs sampler."
      ]
    },
    {
      "cell_type": "code",
      "metadata": {
        "deletable": false,
        "nbgrader": {
          "cell_type": "code",
          "checksum": "89ebe842d87a8d57df2d82073c9f5791",
          "grade": false,
          "grade_id": "cell-71b1b1a3ce786c32",
          "locked": false,
          "schema_version": 3,
          "solution": true,
          "task": false
        },
        "id": "1zvVYsj6r8_1"
      },
      "source": [
        "def Gibbs(mu, sigma, init_guess, T):\n",
        "    \"\"\"\n",
        "    Function to plot Gaussian contours and initial guess.\n",
        "\n",
        "    Parameters\n",
        "    ----------\n",
        "    mu : (2,) np.ndarray\n",
        "        The mean.\n",
        "    sigma : (2,2) np.ndarray\n",
        "        The covariance.\n",
        "    init_guess : (2,) np.ndarray\n",
        "        The array containing the initial guess.\n",
        "    T : integer\n",
        "        The number of samples to generate.\n",
        "\n",
        "    Returns\n",
        "    -------\n",
        "    The samples generated.\n",
        "    \"\"\"\n",
        "    # YOUR CODE HERE\n",
        "    raise NotImplementedError()"
      ],
      "execution_count": null,
      "outputs": []
    },
    {
      "cell_type": "markdown",
      "metadata": {
        "deletable": false,
        "editable": false,
        "nbgrader": {
          "cell_type": "markdown",
          "checksum": "c7feb00bde31dcbd1cf653ed037ff512",
          "grade": false,
          "grade_id": "cell-a7bf0cdefc06da6b",
          "locked": true,
          "schema_version": 3,
          "solution": false,
          "task": false
        },
        "id": "9GPqLozlr8_2"
      },
      "source": [
        "Run the Gibbs sampler and plot the results."
      ]
    },
    {
      "cell_type": "code",
      "metadata": {
        "deletable": false,
        "nbgrader": {
          "cell_type": "code",
          "checksum": "20102500373ba0247e5ea72491a487ab",
          "grade": true,
          "grade_id": "cell-9a313d7e326e3e20",
          "locked": false,
          "points": 0,
          "schema_version": 3,
          "solution": true,
          "task": false
        },
        "id": "B0rBiQYsr8_3"
      },
      "source": [
        "\"\"\"\n",
        "Define the initial guess, the mean, the covariance, and run the Gibbs sampler.\n",
        "\"\"\"\n",
        "# YOUR CODE HERE\n",
        "raise NotImplementedError()"
      ],
      "execution_count": null,
      "outputs": []
    },
    {
      "cell_type": "markdown",
      "metadata": {
        "deletable": false,
        "editable": false,
        "nbgrader": {
          "cell_type": "markdown",
          "checksum": "8321583c80753856066964f6e9f7d786",
          "grade": false,
          "grade_id": "cell-3d9fd72dc2f45949",
          "locked": true,
          "schema_version": 3,
          "solution": false,
          "task": false
        },
        "id": "6ypWlj4Or8_4"
      },
      "source": [
        "3. Compute the sample mean and sample covariance after 50, 100, 500, and 1000 samples."
      ]
    },
    {
      "cell_type": "code",
      "metadata": {
        "deletable": false,
        "nbgrader": {
          "cell_type": "code",
          "checksum": "42ef37457cbaf78786bd876d1f089bfd",
          "grade": true,
          "grade_id": "cell-68db8b97860c4073",
          "locked": false,
          "points": 0,
          "schema_version": 3,
          "solution": true,
          "task": false
        },
        "id": "WChVOAVHr8_5"
      },
      "source": [
        "\"\"\"\n",
        "Compute the sample mean and covariance.\n",
        "\"\"\"\n",
        "# YOUR CODE HERE\n",
        "raise NotImplementedError()"
      ],
      "execution_count": null,
      "outputs": []
    },
    {
      "cell_type": "markdown",
      "metadata": {
        "deletable": false,
        "editable": false,
        "nbgrader": {
          "cell_type": "markdown",
          "checksum": "f6987f9e75a61c6779a98df5e4ab53e6",
          "grade": false,
          "grade_id": "cell-cdcc6edd849dbeee",
          "locked": true,
          "schema_version": 3,
          "solution": false,
          "task": false
        },
        "id": "T9z00hdyr8_6"
      },
      "source": [
        "Comment on the results."
      ]
    },
    {
      "cell_type": "markdown",
      "metadata": {
        "deletable": false,
        "nbgrader": {
          "cell_type": "markdown",
          "checksum": "96751c0907f98d3c4293e10359d5f4ac",
          "grade": true,
          "grade_id": "cell-157f8e51035c9ab1",
          "locked": false,
          "points": 0,
          "schema_version": 3,
          "solution": true,
          "task": false
        },
        "id": "ASZV1RbBr8_6"
      },
      "source": [
        "YOUR ANSWER HERE"
      ]
    },
    {
      "cell_type": "markdown",
      "metadata": {
        "deletable": false,
        "editable": false,
        "nbgrader": {
          "cell_type": "markdown",
          "checksum": "ab49659f520e6be78e97ed429c1516a4",
          "grade": false,
          "grade_id": "cell-15349eb9916f3ccf",
          "locked": true,
          "schema_version": 3,
          "solution": false,
          "task": false
        },
        "id": "_3USxoI5r8_7"
      },
      "source": [
        "### Metropolis-Hastings\n",
        "Here, we will continue working with bivariate Gaussian distribution. However, we will set up the problem differently. Assume now that the correlation parameter $\\rho$ is unknown (while the mean and variances remain known):\n",
        "\\begin{equation}\n",
        "\\boldsymbol{\\mu}=\n",
        "\\begin{bmatrix}\n",
        "0\\\\\n",
        "0\n",
        "\\end{bmatrix}\\,\\,\\,\\,\\,\\,\\,\\,\\,\\,\n",
        "\\boldsymbol{\\Sigma}=\\begin{bmatrix}\n",
        "1&\\rho\\\\\n",
        "\\rho&1\n",
        "\\end{bmatrix}\n",
        "\\end{equation}\n",
        "The likelihood function follows\n",
        "\\begin{equation}\n",
        "p(x_{1}^{i}, x_{2}^{i}|\\rho)=\\prod_{i=1}^{N}\\frac{1}{2\\pi\\sqrt{1-\\rho^{2}}}\\exp\\left(-\\frac{1}{2(1-\\rho^{2})}(x_{1}^{i})^{2}-2\\rho x_{1}^{i}x_{2}^{i}+(x_{2}^{i})^{2}) \\right),\n",
        "\\label{eq:likelihood}\n",
        "\\tag{1}\n",
        "\\end{equation}\n",
        "where index $i$ represents the $i^{th}$ observation. Further, we want to specify an uninformative prior on our covariance matrix. It is common to take the Jeffreys prior (https://en.wikipedia.org/wiki/Jeffreys_prior). In our case, it will become\n",
        "\\begin{equation}\n",
        "p(\\rho)=\\frac{1}{|\\Sigma^{3/2}|}=\\frac{1}{\\begin{vmatrix} 1&\\rho\\\\\n",
        "\t\\rho&1\\end{vmatrix}^{3/2}}=1/(1-\\rho^{2})^{3/2}.\n",
        "\\label{eq:jeffrey}\n",
        "\\tag{2}\n",
        "\\end{equation}\n",
        "If you use Bayes's rule for finding the posterior of $p(\\rho)$ you will realize that it is not of any known form. So further we will infer $p(\\rho|x_{1}^{1:N}, x_{2}^{1:N})$ using the Metropolis-Hastings algorithm.\n",
        "For this exercise, generate $N=1000$ data points from multivariate normal with the parameters:\n",
        "\\begin{equation}\n",
        "\\boldsymbol{\\mu}=\n",
        "\\begin{bmatrix}\n",
        "0\\\\\n",
        "0\n",
        "\\end{bmatrix}\\,\\,\\,\\,\\,\\,\\,\\,\\,\\,\n",
        "\\boldsymbol{\\Sigma}=\\begin{bmatrix}\n",
        "1&0.4\\\\\n",
        "0.4&1\n",
        "\\end{bmatrix},\n",
        "\\end{equation}\n",
        "so we know the ground thruth $\\rho=0.4$. \n",
        "1. In this exercise we will implement the Metropolis-Hastings algorithm. Let us first specify the proposal distribution:\n",
        "\\begin{equation}\n",
        "\\rho^{cand}\\sim Uniform(\\rho^{k-1}-0.07, \\rho^{k-1}+ 0.07), \n",
        "\\end{equation}\n",
        "where $k$ is the interation of the Metropolis-Hastings algorithm. Comment on this proposal distribution (is it symmetric? does that help?). Write down the acceptance function for the Metropolis-Hastings algorithm using this proposal distribution. Comment on the role of acceptance function in this algorithm."
      ]
    },
    {
      "cell_type": "markdown",
      "metadata": {
        "deletable": false,
        "nbgrader": {
          "cell_type": "markdown",
          "checksum": "a4431a310b6e0d97faed189ff3515fbf",
          "grade": true,
          "grade_id": "cell-b232d1baf34303f6",
          "locked": false,
          "points": 0,
          "schema_version": 3,
          "solution": true,
          "task": false
        },
        "id": "l8e6Kb64r8_9"
      },
      "source": [
        "YOUR ANSWER HERE"
      ]
    },
    {
      "cell_type": "markdown",
      "metadata": {
        "deletable": false,
        "editable": false,
        "nbgrader": {
          "cell_type": "markdown",
          "checksum": "2d51faf65095637e6dcc0e11eda1ae32",
          "grade": false,
          "grade_id": "cell-82cf656946c3cd65",
          "locked": true,
          "schema_version": 3,
          "solution": false,
          "task": false
        },
        "id": "8n0Oi5r6r8_9"
      },
      "source": [
        "2. Implement the Metropolis-Hastings algorithm for this problem and the proposal function defined above.\n",
        "\n",
        "    **Note:** We added the functions `joint_logprobability` and `acceptance_function` to help you with the implementation, but their use is optional."
      ]
    },
    {
      "cell_type": "code",
      "metadata": {
        "deletable": false,
        "nbgrader": {
          "cell_type": "code",
          "checksum": "36d0a8658836fea184b333ead241d3d8",
          "grade": true,
          "grade_id": "cell-a13dca0840f06f08",
          "locked": false,
          "points": 0,
          "schema_version": 3,
          "solution": true,
          "task": false
        },
        "id": "0vJDcuKAr8_-"
      },
      "source": [
        "def joint_logprobability(X, p):\n",
        "    \"\"\"\n",
        "    Calulates log of posterior probability.\n",
        "\n",
        "    Parameters\n",
        "    ----------\n",
        "    X : (N, 2) np.ndarray\n",
        "        Data points.\n",
        "    p : float\n",
        "        Correlation parameter.\n",
        "\n",
        "    Returns\n",
        "    -------\n",
        "    probability of given X and p\n",
        "    \"\"\"\n",
        "    # YOUR CODE HERE\n",
        "    raise NotImplementedError()"
      ],
      "execution_count": null,
      "outputs": []
    },
    {
      "cell_type": "code",
      "metadata": {
        "deletable": false,
        "nbgrader": {
          "cell_type": "code",
          "checksum": "b09cd7ee29af8568b867786ca1e16271",
          "grade": true,
          "grade_id": "cell-4b982bec6bfc32da",
          "locked": false,
          "points": 0,
          "schema_version": 3,
          "solution": true,
          "task": false
        },
        "id": "nAe-sqzIr8__"
      },
      "source": [
        "def acceptance_function(X, p_candidate, p_current):\n",
        "    \"\"\"\n",
        "    Computes acceptance probability of a candidate.\n",
        "\n",
        "    Parameters\n",
        "    ----------\n",
        "    X : (N, 2) np.ndarray\n",
        "        Data points.\n",
        "    p_candidate : float\n",
        "        Candidate sample.\n",
        "    p_current : float\n",
        "        Current sample.\n",
        "\n",
        "    Returns\n",
        "    -------\n",
        "    Value of acceptance function for given p_candidate and p_current.\n",
        "    \"\"\"\n",
        "    # YOUR CODE HERE\n",
        "    raise NotImplementedError()"
      ],
      "execution_count": null,
      "outputs": []
    },
    {
      "cell_type": "code",
      "metadata": {
        "deletable": false,
        "nbgrader": {
          "cell_type": "code",
          "checksum": "61bc7392849b9717f3783e63df8042d7",
          "grade": true,
          "grade_id": "cell-99df2702f308adf7",
          "locked": false,
          "points": 0,
          "schema_version": 3,
          "solution": true,
          "task": false
        },
        "id": "tb6fK_DTr9AA"
      },
      "source": [
        "def metropolis_hastings(X, half_interval_len, T):\n",
        "    \"\"\"\n",
        "    Metropolis-Hastings sampling implementation and plotting of the results.\n",
        "\n",
        "    Parameters\n",
        "    ----------\n",
        "    X : (N, 2) np.ndarray\n",
        "        Data points.\n",
        "    half_interval_len : float\n",
        "        Half interval length for the proposal uniform distribution centered around the current state.\n",
        "    T : integer\n",
        "        Number of iterations.\n",
        "\n",
        "    Returns\n",
        "    -------\n",
        "    Accepted samples.\n",
        "    \"\"\"\n",
        "    # YOUR CODE HERE\n",
        "    raise NotImplementedError()"
      ],
      "execution_count": null,
      "outputs": []
    },
    {
      "cell_type": "markdown",
      "metadata": {
        "deletable": false,
        "editable": false,
        "nbgrader": {
          "cell_type": "markdown",
          "checksum": "0f2f2972f6c1a740afcda345d23422ce",
          "grade": false,
          "grade_id": "cell-a12ff48ef269f847",
          "locked": true,
          "schema_version": 3,
          "solution": false,
          "task": false
        },
        "id": "B0yc0CCPr9AB"
      },
      "source": [
        "Run Metropolis-Hastings for 10000 iterations. You can use the initial value of $\\rho^{0}=0$. After sampling $\\rho$ 10000 times report acceptance rate, the mean, and the standard deviation of the samples. Plot the trace plot for $\\rho$ (i.e., value $\\rho^{k}$ at each iteration of the algorithm). Plot the histogram of the posterior distribution of $\\rho$ based on the samples in the chain."
      ]
    },
    {
      "cell_type": "code",
      "metadata": {
        "deletable": false,
        "nbgrader": {
          "cell_type": "code",
          "checksum": "2473c5d3da5edc80bd4fa00aeb20e434",
          "grade": true,
          "grade_id": "cell-9cbc802d902fadec",
          "locked": false,
          "points": 0,
          "schema_version": 3,
          "solution": true,
          "task": false
        },
        "id": "6SLBtnrhr9AC"
      },
      "source": [
        "\"\"\"\n",
        "Run Metropolis-Hastings and report the acceptance rate, the mean and the standard deviation.\n",
        "Plot the trace plot and the histogram.\n",
        "\"\"\"\n",
        "# YOUR CODE HERE\n",
        "raise NotImplementedError()"
      ],
      "execution_count": null,
      "outputs": []
    },
    {
      "cell_type": "markdown",
      "metadata": {
        "deletable": false,
        "nbgrader": {
          "cell_type": "markdown",
          "checksum": "709110147adca8fee2c6d177aaa9763c",
          "grade": true,
          "grade_id": "cell-75576aa778b0a2ae",
          "locked": false,
          "points": 0,
          "schema_version": 3,
          "solution": true,
          "task": false
        },
        "id": "h2alEKyCr9AE"
      },
      "source": [
        "YOUR ANSWER HERE"
      ]
    },
    {
      "cell_type": "markdown",
      "metadata": {
        "deletable": false,
        "editable": false,
        "nbgrader": {
          "cell_type": "markdown",
          "checksum": "35cbdaf1326913581771d3509d1cfcbd",
          "grade": false,
          "grade_id": "cell-a4081fc24ffc7e16",
          "locked": true,
          "schema_version": 3,
          "solution": false,
          "task": false
        },
        "id": "6D2H9IQ_r9AE"
      },
      "source": [
        "3. Try changing the proposal distribution to \n",
        "\\begin{equation}\n",
        "\\rho^{cand}\\sim Uniform(\\rho^{k-1}-0.01, \\rho^{k-1}+ 0.01), \n",
        "\\end{equation}\n",
        "and \n",
        "\\begin{equation}\n",
        "\\rho^{cand}\\sim Uniform(\\rho^{k-1}-0.3, \\rho^{k-1}+ 0.3).\n",
        "\\end{equation}"
      ]
    },
    {
      "cell_type": "code",
      "metadata": {
        "deletable": false,
        "nbgrader": {
          "cell_type": "code",
          "checksum": "61dd5d12a13b56dcc68282f9006c99f5",
          "grade": true,
          "grade_id": "cell-37729b8a1be794f6",
          "locked": false,
          "points": 0,
          "schema_version": 3,
          "solution": true,
          "task": false
        },
        "id": "hLmMHYEBr9AF"
      },
      "source": [
        "\"\"\"\n",
        "Run Metropolis-Hastings with the new proposal distributions.\n",
        "Once again, report the acceptance rate, the mean and the standard deviation. Plot the trace plot and the histogram.\n",
        "\"\"\"\n",
        "# YOUR CODE HERE\n",
        "raise NotImplementedError()"
      ],
      "execution_count": null,
      "outputs": []
    },
    {
      "cell_type": "markdown",
      "metadata": {
        "deletable": false,
        "editable": false,
        "nbgrader": {
          "cell_type": "markdown",
          "checksum": "170d51279b1b25420d7e397aa60df312",
          "grade": false,
          "grade_id": "cell-43e03ae792013fe5",
          "locked": true,
          "schema_version": 3,
          "solution": false,
          "task": false
        },
        "id": "3pDkqMkqr9AF"
      },
      "source": [
        "Comment on how it changes your results."
      ]
    },
    {
      "cell_type": "markdown",
      "metadata": {
        "deletable": false,
        "nbgrader": {
          "cell_type": "markdown",
          "checksum": "cea31c347bfef3dcf352f18e252ae33e",
          "grade": true,
          "grade_id": "cell-9a2d04df8e9390ee",
          "locked": false,
          "points": 0,
          "schema_version": 3,
          "solution": true,
          "task": false
        },
        "id": "oScx9tDEr9AG"
      },
      "source": [
        "YOUR ANSWER HERE"
      ]
    }
  ]
}