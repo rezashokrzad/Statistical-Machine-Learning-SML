{
 "cells": [
  {
   "cell_type": "markdown",
   "metadata": {
    "nbgrader": {
     "grade": false,
     "grade_id": "cell-4a3707609a8bbfee",
     "locked": true,
     "schema_version": 3,
     "solution": false,
     "task": false
    }
   },
   "source": [
    "# Statistical Machine Learning 2020\n",
    "# Assignment 1\n",
    "# Deadline: 7 October 2020\n",
    "\n",
    "## Instructions\n",
    "* You can __work in groups__ (= max 3 people). __Write the full name and S/U-number of all team members in the header above.__\n",
    "* Make sure you __fill in any place that says__ `YOUR CODE HERE` or \"YOUR ANSWER HERE\" __including comments, derivations, explanations, graphs, etc.__ This means that the elements and/or intermediate steps required to derive the answer have to be in the report. (Answers like 'No' or 'x=27.2' by themselves are not sufficient, even when they are the result of running your code.) If an exercise requires coding, explain briefly what the code does (in comments). All figures should have titles (descriptions), axis labels, and legends (if applicable).\n",
    "* Please do not add new cells, __write the answers only in the provided cells__. Before you turn this problem in, make sure everything runs as expected. First, *restart the kernel* (in the menubar, select Kernel$\\rightarrow$Restart) and then *run all cells* (in the menubar, select Cell$\\rightarrow$Run All). The assignment was written in (and we strongly recommend using) Python 3 by using the corresponding Python 3 kernel for Jupyter.\n",
    "* The assignment includes certain cells that contain tests. Most of the tests are marked as *hidden* and are used for automatic grading. NB: These hidden tests do not provide any feedback! There are also a couple of tests / checks that are visible, which are meant to help you avoid basic coding errors.\n",
    "* __Upload reports to Brightspace as a single .ipynb file containing the submitter's S/U-number: 'SML20_as01_&lt;submitter-S/U-number&gt;.ipynb'__, e.g., 'SML20_as01_S123456.ipynb'. For those working in groups, it is sufficient if one team member uploads the solutions.\n",
    "* For any problems or questions, send us an email, or just ask. Email addresses: G.Bucur@cs.ru.nl, Yuliya.Shapovalova@ru.nl, and tomc@cs.ru.nl .\n",
    "\n",
    "## Introduction\n",
    "Assignment 1 consists of 3 exercises:\n",
    "1. Polynomial curve fitting (50 points),\n",
    "2. Gradient descent algorithm (25 points),\n",
    "3. Probability theory (25 points).\n",
    "The assignment also includes an optional exercise (worth 10 bonus points).\n",
    "\n",
    "## Libraries\n",
    "First, we import the basic libraries necessary to develop this assignment. Of course you are free to import further libraries, if required, in the allotted cells."
   ]
  },
  {
   "cell_type": "code",
   "execution_count": 54,
   "metadata": {
    "nbgrader": {
     "grade": false,
     "grade_id": "cell-3b986e21540420a2",
     "locked": true,
     "schema_version": 3,
     "solution": false,
     "task": false
    }
   },
   "outputs": [],
   "source": [
    "# Necessary imports (for solutions)\n",
    "import math\n",
    "import numpy as np\n",
    "import matplotlib.pyplot as plt\n",
    "from collections import namedtuple\n",
    "\n",
    "# Set fixed random seed for reproducibility\n",
    "np.random.seed(2020)"
   ]
  },
  {
   "cell_type": "markdown",
   "metadata": {
    "nbgrader": {
     "grade": false,
     "grade_id": "cell-23c36baa38e054e8",
     "locked": true,
     "schema_version": 3,
     "solution": false,
     "task": false
    }
   },
   "source": [
    "## Exercise 1 (weight 50)\n",
    "Consider once more the $M$-th order polynomial \n",
    "\\begin{equation*}\n",
    "y(x;\\mathbf{w}) = w_0 + w_1 x + \\ldots + w_M x^M  = \\sum_{j=0}^M w_j x^j \n",
    "\\label{yxw} \\tag{1}\n",
    "\\end{equation*}\n",
    "\n",
    "### Exercise 1.1\n",
    "Create the function $f(x) = 1 + \\sin(6(x - 2))$. Generate a data set $\\mathcal{D}_{10}$ of 10 noisy observations of this function. Take the 10 inputs spaced uniformly in range $[0,1]$, and assume that the noise is Gaussian with mean 0 and standard deviation 0.3. $\\mathcal{D}_{10}$ will be the training set. In a similar way, generate an additional test set $\\mathcal{T}$ of 100 noisy observations over the same interval. Plot both the function and observations in $\\mathcal{D}_{10}$ in a single graph (similar to Bishop, Fig.1.2)."
   ]
  },
  {
   "cell_type": "code",
   "execution_count": 55,
   "metadata": {
    "nbgrader": {
     "grade": false,
     "grade_id": "cell-b828ba4e85011481",
     "locked": false,
     "schema_version": 3,
     "solution": true,
     "task": false
    }
   },
   "outputs": [],
   "source": [
    "def f(x):\n",
    "    \"\"\"\n",
    "    This function computes (x)=1+sin(6(x−2))\n",
    "    \n",
    "    Parameters\n",
    "    ----------\n",
    "    x : float\n",
    "        Input number.\n",
    "    \n",
    "    Returns\n",
    "    -------\n",
    "    float\n",
    "        Result of the function.\n",
    "    \"\"\"\n",
    "    ### BEGIN SOLUTION\n",
    "    return 1 + np.sin(6 * (x - 2))\n",
    "    ### END SOLUTION"
   ]
  },
  {
   "cell_type": "code",
   "execution_count": 56,
   "metadata": {
    "nbgrader": {
     "grade": true,
     "grade_id": "cell-7f16a8d5d13e2c74",
     "locked": true,
     "points": 2,
     "schema_version": 3,
     "solution": false,
     "task": false
    }
   },
   "outputs": [],
   "source": [
    "\"\"\"\n",
    "Basic check that function f is correct.\n",
    "\"\"\"\n",
    "assert f(2) == 1"
   ]
  },
  {
   "cell_type": "code",
   "execution_count": 69,
   "metadata": {
    "nbgrader": {
     "grade": false,
     "grade_id": "cell-26a157de86b14a7e",
     "locked": false,
     "schema_version": 3,
     "solution": true,
     "task": false
    }
   },
   "outputs": [
    {
     "data": {
      "image/png": "[encoded data removed]",
      "text/plain": [
       "<Figure size 432x288 with 1 Axes>"
      ]
     },
     "metadata": {
      "needs_background": "light"
     },
     "output_type": "display_data"
    }
   ],
   "source": [
    "\"\"\"\n",
    "Generate a data set of N_train noisy observations of the function f. Take the inputs spaced uniformly\n",
    "in range [0,1], and add Gaussian noise with mean 0 and standard deviation 0.3.\n",
    "\n",
    "Variable names\n",
    "--------------\n",
    "N_train : int\n",
    "    number of training observations\n",
    "X_train : array\n",
    "    N_train x 1 vector of x-coordinates, uniformly spaced between 0 and 1\n",
    "t_train : array\n",
    "    N_train x 1 vector with corresponding t-values, adding Gaussian noise\n",
    "D_train : matrix\n",
    "    N_train x 2 matrix, the training data created from X_train and t_train\n",
    "\n",
    "N_test : int\n",
    "    number of data points for testing\n",
    "X_test : array\n",
    "    N_test x 1 vector of random x-coordinates taken form a uniform distribution\n",
    "t_test : array\n",
    "    N_test x 1 vector with corresponding t-values, adding Gaussian noise\n",
    "D_test : matrix\n",
    "    N_test x 2 matrix, the test data created from X_test and t_test\n",
    "\"\"\"\n",
    "### BEGIN SOLUTION\n",
    "# standard deviation of noise\n",
    "eps = 0.3\n",
    "\n",
    "N_train = 10 # number of training observations\n",
    "# generate Nx1 vector of random x-coordinates, uniformly distributed on [0, 1]\n",
    "X_train = np.linspace(0, 1, N_train)\n",
    "# generate Nx1 vector with corresponding t-values, adding Gaussian noise\n",
    "t_train = f(X_train) + eps * np.random.normal(size = N_train)\n",
    "# Combine them into a Nx2 matrix, the training data\n",
    "X_train.shape = (N_train, 1)\n",
    "t_train.shape = (N_train, 1)\n",
    "D_train = np.concatenate((X_train, t_train), axis = 1)\n",
    "\n",
    "# Set number of data points for testing\n",
    "N_test = 100\n",
    "# Generate N_test new random x-coordinates on [0, 1]\n",
    "X_test = np.random.uniform(size = N_test)\n",
    "# Generate corresponding t-values, adding Gaussian noise\n",
    "t_test = f(X_test) + eps * np.random.normal(size = N_test)\n",
    "# Combine them into an Ntest x 2 matrix, the test data\n",
    "X_test.shape = (N_test, 1)\n",
    "t_test.shape = (N_test, 1)\n",
    "D_test = np.concatenate((X_test, t_test), axis = 1)\n",
    "\n",
    "# plot true function (in green) and observations (as blue dots)\n",
    "X_grid = np.linspace(0, 1, 100)\n",
    "plt.plot(X_train, t_train, 'bo', X_grid, f(X_grid), 'g-')\n",
    "plt.xlabel('x')\n",
    "plt.ylabel('t')\n",
    "plt.show()\n",
    "    \n",
    "### END SOLUTION"
   ]
  },
  {
   "cell_type": "code",
   "execution_count": 71,
   "metadata": {
    "nbgrader": {
     "grade": true,
     "grade_id": "cell-6ed1d922cd47cc3a",
     "locked": true,
     "points": 5,
     "schema_version": 3,
     "solution": false,
     "task": false
    }
   },
   "outputs": [],
   "source": [
    "\"\"\"\n",
    "Hidden test for variables N_train, X_train, t_train.\n",
    "\"\"\"\n",
    "### BEGIN HIDDEN TESTS\n",
    "assert N_train == 10\n",
    "\n",
    "test_X_train = np.linspace(0, 1, N_train)\n",
    "# X_train can be given as either (N_train, 1) matrix or (N_train, ) vector\n",
    "test_X_train.shape = X_train.shape \n",
    "\n",
    "assert np.array_equal(X_train, test_X_train)\n",
    "### END HIDDEN TESTS"
   ]
  },
  {
   "cell_type": "markdown",
   "metadata": {
    "nbgrader": {
     "grade": false,
     "grade_id": "cell-90ebf6fa08349b09",
     "locked": true,
     "schema_version": 3,
     "solution": false,
     "task": false
    }
   },
   "source": [
    "### Exercise 1.2\n",
    "Create a function `polynomial_curve_fit(D,M)` that takes as input a data set $\\mathcal{D}_{N}$, consisting of $N$ input/output-pairs $\\{x_n,t_n\\}$, and a parameter $M$, representing the order of the polynomial in \\eqref{yxw}, and outputs a vector of weights $\\mathbf{w} = [w_0, \\dots, w_M]$ that minimizes the sum-of-squares error function\n",
    "\\begin{equation*} E(\\mathbf{w}) = \\frac{1}{2} \\sum_{n=1}^N \\{ y(x_{n} ; \\mathbf{w}) - t_{n} \\} ^2 \\tag{2} \\end{equation*}\n",
    "Hint: use the results from the Tutorial Exercises (Week 1, Exercise 5), and `np.linalg.solve` to solve a linear system of equations."
   ]
  },
  {
   "cell_type": "code",
   "execution_count": 74,
   "metadata": {
    "nbgrader": {
     "grade": false,
     "grade_id": "cell-b548cc4bd8339def",
     "locked": false,
     "schema_version": 3,
     "solution": true,
     "task": false
    }
   },
   "outputs": [],
   "source": [
    "def polynomial_curve_fit(D, M):\n",
    "    ''' This functions computes the value of a polynomial with weights w on data points x.\n",
    "    \n",
    "    Parameters\n",
    "    ----------\n",
    "    D : array\n",
    "        Input dataset D.\n",
    "    M : int\n",
    "        The degree of the polynomial.\n",
    "    \n",
    "    Returns\n",
    "    -------\n",
    "    float\n",
    "        Fitted weight vector w that minimizes the sum-of-squares function.\n",
    "    '''\n",
    "    ### BEGIN SOLUTION\n",
    "    # Generate A matrix\n",
    "    A = np.zeros((M+1, M+1))\n",
    "    for i in range(M+1):\n",
    "        for j in range(M+1):\n",
    "            A[i, j] = sum(D[:, 0]**(i+j))\n",
    "    \n",
    "    # Generate T vector\n",
    "    T = np.zeros(M+1)\n",
    "    for i in range(M+1):\n",
    "        T[i] = sum(D[:, 1] * (D[:, 0]**i))\n",
    "        \n",
    "    # Solve T = A * w for w\n",
    "    w = np.linalg.solve(A, T)\n",
    "    \n",
    "    return w\n",
    "    ### END SOLUTION"
   ]
  },
  {
   "cell_type": "code",
   "execution_count": 79,
   "metadata": {
    "nbgrader": {
     "grade": true,
     "grade_id": "cell-a9ef1e5be2f54c31",
     "locked": true,
     "points": 10,
     "schema_version": 3,
     "solution": false,
     "task": false
    }
   },
   "outputs": [
    {
     "name": "stdout",
     "output_type": "stream",
     "text": [
      "[  1.24158496   5.7439602  -23.00627062  17.39223888]\n"
     ]
    }
   ],
   "source": [
    "\"\"\"\n",
    "Hidden test for polynomial_curve_fit.\n",
    "\"\"\"\n",
    "### BEGIN HIDDEN TESTS\n",
    "\n",
    "hidden_D =     np.array([[0.,1.00591921],[0.11111111,1.96616531],[0.22222222,1.60720685],[0.33333333,1.34859206],\n",
    "              [0.44444444,0.64074808],[0.55555556,-0.06978151],[0.66666667,-0.00770458],\n",
    "              [0.77777778,0.15185728],[0.88888889,0.74888265],[1.,1.10755075]])\n",
    "hidden_w = polynomial_curve_fit(hidden_D, 3)\n",
    "assert np.allclose(hidden_w, [1.24158496, 5.7439602, -23.00627062, 17.39223888])\n",
    "\n",
    "### END HIDDEN TESTS"
   ]
  },
  {
   "cell_type": "markdown",
   "metadata": {
    "nbgrader": {
     "grade": false,
     "grade_id": "cell-6178330599de102e",
     "locked": true,
     "schema_version": 3,
     "solution": false,
     "task": false
    }
   },
   "source": [
    "### Exercise 1.3\n",
    "For the given dataset $\\mathcal{D}_{10}$, run the `polynomial_curve_fit(D,M)` function for $M = [0, \\dots, 9]$,  and, \n",
    "* Plot for various orders $M$ (at least for $M=0, M=1, M=3, M=9$) the resulting polynomial, together with the function $f$ and observations $\\mathcal{D}_{10}$ (similar to Bishop, Fig 1.4)\n",
    "* For each order $M \\in [0, \\dots, 9]$,  compute the root-mean-square error\n",
    "\\begin{equation*} E_{\\text{RMS}} = \\sqrt{2 E(\\mathbf{w^*})/N} \\tag{3} \\end{equation*}\n",
    "of the corresponding polynomial, evaluated on both the training set $\\mathcal{D}_{10}$ and the testset $\\mathcal{T}$.  Plot both as a function of $M$ in a single graph. (see Bishop, Fig.1.5).\n",
    "\n",
    "First define the `polynomial` function to help you with calculating the predictions of outputs for the training and test data given w."
   ]
  },
  {
   "cell_type": "code",
   "execution_count": 80,
   "metadata": {
    "nbgrader": {
     "grade": false,
     "grade_id": "cell-f4213b5c3db7fe63",
     "locked": false,
     "schema_version": 3,
     "solution": true,
     "task": false
    }
   },
   "outputs": [],
   "source": [
    "def polynomial(x, w):\n",
    "    ''' This functions computes the value of a polynomial with weights w on data points x.\n",
    "    \n",
    "    Parameters\n",
    "    ----------\n",
    "    x : float\n",
    "        Set of x-coordinates for which to evaluate the polynomial.\n",
    "    w : float\n",
    "        Input weight vector of size M+1 (for polynomial of degree M).\n",
    "    \n",
    "    Returns\n",
    "    -------\n",
    "    float\n",
    "        Values of polynomial with weights w evaluated at x.\n",
    "    '''\n",
    "    ### BEGIN SOLUTION\n",
    "    y = np.zeros(x.shape)\n",
    "    \n",
    "    for j in range(len(w)):\n",
    "        y += (x**j) * w[j]\n",
    "    \n",
    "    return y\n",
    "    ### END SOLUTION"
   ]
  },
  {
   "cell_type": "code",
   "execution_count": 81,
   "metadata": {
    "nbgrader": {
     "grade": true,
     "grade_id": "cell-ce23788082e731b4",
     "locked": true,
     "points": 3,
     "schema_version": 3,
     "solution": false,
     "task": false
    }
   },
   "outputs": [],
   "source": [
    "\"\"\"\n",
    "Test for polynomial.\n",
    "\"\"\"\n",
    "assert np.array_equal(polynomial(np.array([1, 2]), np.array([1, 2, 3])),np.array([ 6., 17.]))"
   ]
  },
  {
   "cell_type": "markdown",
   "metadata": {
    "nbgrader": {
     "grade": false,
     "grade_id": "cell-9531c8f8a10afa89",
     "locked": true,
     "schema_version": 3,
     "solution": false,
     "task": false
    }
   },
   "source": [
    "Now with the help of `polynomial` calculate the predictions. Then calculate the root-mean-square-error and \n",
    "create plots for various orders of $M$."
   ]
  },
  {
   "cell_type": "code",
   "execution_count": 82,
   "metadata": {
    "nbgrader": {
     "grade": true,
     "grade_id": "cell-acea12b9aae9969d",
     "locked": false,
     "points": 10,
     "schema_version": 3,
     "solution": true,
     "task": false
    }
   },
   "outputs": [
    {
     "data": {
      "image/png": "[encoded data removed]",
      "text/plain": [
       "<Figure size 432x288 with 4 Axes>"
      ]
     },
     "metadata": {
      "needs_background": "light"
     },
     "output_type": "display_data"
    },
    {
     "data": {
      "image/png": "[encoded data removed]",
      "text/plain": [
       "<Figure size 432x288 with 1 Axes>"
      ]
     },
     "metadata": {
      "needs_background": "light"
     },
     "output_type": "display_data"
    }
   ],
   "source": [
    "### BEGIN SOLUTION\n",
    "# Calculate training error and test error for different values of M\n",
    "FitEvaluation = namedtuple('FitEvaluation', ['w', 'y_train', 'y_test', 'rmse_train', 'rmse_test'])\n",
    "fits = []\n",
    "M_max = 10\n",
    "\n",
    "for i in range(M_max):\n",
    "    \n",
    "    # Calculate ML value for model parameters w\n",
    "    w = polynomial_curve_fit(D_train, i)\n",
    "    \n",
    "    # Calculate predictions of outputs for training data given w\n",
    "    y_train = polynomial(X_train, w)\n",
    "    # Calculate predictions of ouptuts for test data given w\n",
    "    y_test = polynomial(X_test, w)\n",
    "    \n",
    "    # Calculate root-mean-square training error\n",
    "    rmse_train = math.sqrt(sum((y_train - t_train)**2) / N_train)\n",
    "    # Calculate root-meqn-square test error\n",
    "    rmse_test = math.sqrt(sum((y_test - t_test)**2) / N_test)\n",
    "    \n",
    "    fits.append(FitEvaluation(w, y_train, y_test, rmse_train, rmse_test))\n",
    "    # fits.append((w = fitsw, y_train, y_test, rmse_train, rmse_test))\n",
    "\n",
    "# We are going to plot fitted polynomials of different degrees in the same graph\n",
    "degrees = [0, 1, 3, 9]\n",
    "\n",
    "for i in range(len(degrees)):\n",
    "    plt.subplot(2, 2, i+1)\n",
    "    plt.plot(X_train, t_train, 'bo', \n",
    "             X_grid, f(X_grid), 'g-',\n",
    "             X_grid, polynomial(X_grid, fits[degrees[i]].w), 'r-')\n",
    "    plt.title(\"M = \" + str(degrees[i]))\n",
    "    plt.tight_layout()\n",
    "plt.suptitle(\"Compare different polynomial fits\", fontsize = 14)\n",
    "plt.subplots_adjust(top = 0.85)\n",
    "plt.show()\n",
    "\n",
    "\n",
    "# Plot training and test error versus polynomial degree M\n",
    "plt.figure()\n",
    "plt.plot(range(M_max), [f.rmse_train for f in fits], 'g-',\n",
    "     range(M_max), [f.rmse_test for f in fits], 'b-')\n",
    "plt.title(\"Training and test error versus polynomial degree M\")\n",
    "plt.xlabel(\"M\")\n",
    "plt.ylabel(\"$E_{RMS}$\")\n",
    "plt.legend(['Training error', 'Test error'])\n",
    "plt.show()\n",
    "### END SOLUTION"
   ]
  },
  {
   "cell_type": "markdown",
   "metadata": {
    "nbgrader": {
     "grade": false,
     "grade_id": "cell-2ba19fdd2a92aba5",
     "locked": true,
     "schema_version": 3,
     "solution": false,
     "task": false
    }
   },
   "source": [
    "### Exercise 1.4\n",
    "Repeat this procedure for a data set $\\mathcal{D}_{40}$ of  40 observations (with the same noise level) and compare with the previous result."
   ]
  },
  {
   "cell_type": "code",
   "execution_count": 11,
   "metadata": {
    "nbgrader": {
     "grade": true,
     "grade_id": "cell-2be39b72eb2e1565",
     "locked": false,
     "points": 4,
     "schema_version": 3,
     "solution": true,
     "task": false
    }
   },
   "outputs": [
    {
     "data": {
      "image/png": "[encoded data removed]",
      "text/plain": [
       "<Figure size 432x288 with 4 Axes>"
      ]
     },
     "metadata": {
      "needs_background": "light"
     },
     "output_type": "display_data"
    },
    {
     "data": {
      "image/png": "[encoded data removed]",
      "text/plain": [
       "<Figure size 432x288 with 1 Axes>"
      ]
     },
     "metadata": {
      "needs_background": "light"
     },
     "output_type": "display_data"
    }
   ],
   "source": [
    "### BEGIN SOLUTION\n",
    "N_train = 40 # number of training observations\n",
    "# generate Nx1 vector of random x-coordinates, uniformly distributed on [0, 1]\n",
    "X_train = np.linspace(0, 1, N_train)\n",
    "# generate Nx1 vector with corresponding t-values, adding Gaussian noise\n",
    "t_train = f(X_train) + eps * np.random.normal(size = N_train)\n",
    "# Combine them into a Nx2 matrix, the training data\n",
    "X_train.shape = (N_train, 1)\n",
    "t_train.shape = (N_train, 1)\n",
    "D_train = np.concatenate((X_train, t_train), axis = 1)\n",
    "\n",
    "# Set number of data points for testing\n",
    "N_test = 100\n",
    "# Generate N_test new random x-coordinates on [0, 1]\n",
    "X_test = np.random.uniform(size = N_test)\n",
    "# Generate corresponding t-values, adding Gaussian noise\n",
    "t_test = f(X_test) + eps * np.random.normal(size = N_test)\n",
    "# Combine them into an Ntest x 2 matrix, the test data\n",
    "X_test.shape = (N_test, 1)\n",
    "t_test.shape = (N_test, 1)\n",
    "D_test = np.concatenate((X_test, t_test), axis = 1)\n",
    "\n",
    "# Calculate training error and test error for different values of M\n",
    "FitEvaluation = namedtuple('FitEvaluation', ['w', 'y_train', 'y_test', 'rmse_train', 'rmse_test'])\n",
    "fits = []\n",
    "M_max = 10\n",
    "\n",
    "for i in range(M_max):\n",
    "    \n",
    "    # Calculate ML value for model parameters w\n",
    "    w = polynomial_curve_fit(D_train, i)\n",
    "    \n",
    "    # Calculate predictions of outputs for training data given w\n",
    "    y_train = polynomial(X_train, w)\n",
    "    # Calculate predictions of ouptuts for test data given w\n",
    "    y_test = polynomial(X_test, w)\n",
    "    \n",
    "    # Calculate root-mean-square training error\n",
    "    rmse_train = math.sqrt(sum((y_train - t_train)**2) / N_train)\n",
    "    # Calculate root-meqn-square test error\n",
    "    rmse_test = math.sqrt(sum((y_test - t_test)**2) / N_test)\n",
    "    \n",
    "    fits.append(FitEvaluation(w, y_train, y_test, rmse_train, rmse_test))\n",
    "    # fits.append((w = fitsw, y_train, y_test, rmse_train, rmse_test))\n",
    "\n",
    "# We are going to plot fitted polynomials of different degrees in the same graph\n",
    "degrees = [0, 1, 3, 9]\n",
    "\n",
    "for i in range(len(degrees)):\n",
    "    plt.subplot(2, 2, i+1)\n",
    "    plt.plot(X_train, t_train, 'bo', \n",
    "             X_grid, f(X_grid), 'g-',\n",
    "             X_grid, polynomial(X_grid, fits[degrees[i]].w), 'r-')\n",
    "    plt.title(\"M = \" + str(degrees[i]))\n",
    "    plt.tight_layout()\n",
    "plt.suptitle(\"Compare different polynomial fits\", fontsize = 14)\n",
    "plt.subplots_adjust(top = 0.85)\n",
    "plt.show()\n",
    "\n",
    "\n",
    "# Plot training and test error versus polynomial degree M\n",
    "plt.figure()\n",
    "plt.plot(range(M_max), [f.rmse_train for f in fits], 'g-',\n",
    "     range(M_max), [f.rmse_test for f in fits], 'b-')\n",
    "plt.title(\"Training and test error versus polynomial degree M\")\n",
    "plt.xlabel(\"M\")\n",
    "plt.ylabel(\"$E_{RMS}$\")\n",
    "plt.legend(['Training error', 'Test error'])\n",
    "plt.show()\n",
    "### END SOLUTION"
   ]
  },
  {
   "cell_type": "markdown",
   "metadata": {
    "nbgrader": {
     "grade": true,
     "grade_id": "cell-d12e3459bbe09e9a",
     "locked": false,
     "points": 3,
     "schema_version": 3,
     "solution": true,
     "task": false
    }
   },
   "source": [
    "With a larger data set the (strong) overfitting for the highest order polynomial, resulting in zero training error but large(r) test error, no longer occurs. In other words, for a model with few degrees of freedom relative to a large data set, the danger of overfitting is much less severe, and so regularization becomes less important."
   ]
  },
  {
   "cell_type": "markdown",
   "metadata": {
    "nbgrader": {
     "grade": false,
     "grade_id": "cell-783fffd6f1da0fc0",
     "locked": true,
     "schema_version": 3,
     "solution": false,
     "task": false
    }
   },
   "source": [
    "### Exercise 1.5\n",
    "Modify the `polynomial_curve_fit(D,M)` function to include an additional penalty parameter $\\lambda$, for a procedure that solves the minimization problem for a modified error function with quadratic regularizer (weight decay), given as\n",
    "\\begin{equation*}\n",
    "\\tilde{E} = E + \\frac{\\lambda}{2} \\sum_{j=0}^M w_j^2. \\label{regerr} \\tag{4}\n",
    "\\end{equation*}\n",
    "Verify that the regularizer drives the weights of high order terms in the polynomial to zero, and see if you can reproduce and explain the effect observed in Bishop, Fig.1.8. (note that the values here are computed for our data, so they are not identical to the ones in Bishop)\n",
    "\n",
    "|$\\ln\\lambda=$|$-\\infty$ |-18    |-9    |-4   |0    |\n",
    "|-------------|----------|-------|------|-----|-----|\n",
    "|$w_0^*$      |0.87      |0.89   |1.13  |1.59 |1.02 |\n",
    "|$w_1^*$      |-166.39   |25.44  |8.97  |-0.20|-0.38|\n",
    "|$w_2^*$      |4264.93   |-178.33|-29.89|-2.73|-0.41|\n",
    "|$w_3^*$      |-39400.69 |530.85 |11.83 |-1.24|-0.25|\n",
    "|$w_4^*$      |185746.67 |-751.83|15.07 |-0.05|-0.11|\n",
    "|$w_5^*$      |-503783.21|171.74 |3.95  |0.56 |0.01 |\n",
    "|$w_6^*$      |818011.41 |604.53 |-5.68 |0.79 |0.09 |\n",
    "|$w_7^*$      |-785013.15|-111.73|-8.42 |0.83 |0.17 |\n",
    "|$w_8^*$      |410395.73 |-692.14|-3.61 |0.78 |0.21 |\n",
    "|$w_9^*$      |-90055.14 |401.63 |7.65  |0.69 |0.25 |"
   ]
  },
  {
   "cell_type": "code",
   "execution_count": 90,
   "metadata": {
    "nbgrader": {
     "grade": false,
     "grade_id": "cell-5156541a32d37722",
     "locked": false,
     "schema_version": 3,
     "solution": true,
     "task": false
    }
   },
   "outputs": [
    {
     "name": "stdout",
     "output_type": "stream",
     "text": [
      "Weights for M = 5 without regularization: [  1.4345121    8.8568879  -42.30562153  66.75129896 -52.18300844\n",
      "  18.77050004]\n",
      "Weights for M = 5 with regularization lmb = 1: [ 1.22277219 -0.19560024 -0.23085251 -0.1053154   0.01874284  0.11819629]\n"
     ]
    },
    {
     "data": {
      "text/plain": [
       "<matplotlib.legend.Legend at 0x1c2b6762f70>"
      ]
     },
     "execution_count": 90,
     "metadata": {},
     "output_type": "execute_result"
    },
    {
     "data": {
      "image/png": "[encoded data removed]",
      "text/plain": [
       "<Figure size 432x288 with 1 Axes>"
      ]
     },
     "metadata": {
      "needs_background": "light"
     },
     "output_type": "display_data"
    }
   ],
   "source": [
    "def polynomial_curve_fit(D, M, lmb = 0):\n",
    "    ''' This functions computes the value of a polynomial with weights w on data points x.\n",
    "    \n",
    "    Parameters\n",
    "    ----------\n",
    "    D : array\n",
    "        Input dataset D.\n",
    "    M : int\n",
    "        The degree of the polynomial.\n",
    "    lmb : float, optional\n",
    "        Regularization parameter for polynomial curve fitting.\n",
    "    \n",
    "    Returns\n",
    "    -------\n",
    "    float\n",
    "        Fitted weight vector w that minimizes the sum-of-squares function.\n",
    "    '''\n",
    "    ### BEGIN SOLUTION\n",
    "    # Generate A matrix\n",
    "    A = np.zeros((M+1, M+1))\n",
    "    for i in range(M+1):\n",
    "        for j in range(M+1):\n",
    "            A[i, j] = sum(D[:, 0]**(i+j)) + lmb * (i == j)\n",
    "    \n",
    "    # Generate T vector\n",
    "    T = np.zeros(M+1)\n",
    "    for i in range(M+1):\n",
    "        T[i] = sum(D[:, 1] * (D[:, 0]**i))\n",
    "        \n",
    "    # Solve T = A * w for w\n",
    "    w = np.linalg.solve(A, T)\n",
    "    \n",
    "    return w\n",
    "\n",
    "\n",
    "# calculate and display weights without regularization\n",
    "print(\"Weights for M = 5 without regularization: \" +\n",
    "      str(polynomial_curve_fit(D_train, 5)))\n",
    "# calculate and display weights with regularization\n",
    "print(\"Weights for M = 5 with regularization lmb = 1: \" +\n",
    "      str(polynomial_curve_fit(D_train, 5, 1)))\n",
    "\n",
    "# Here we perform a new series of fits with varying lambda and fixed M = 9\n",
    "fits = []\n",
    "log_lambda_range = range(-40, 1)\n",
    "for log_lambda in log_lambda_range:\n",
    "    \n",
    "    # Calculate penalized ML value for model parameters w\n",
    "    w = polynomial_curve_fit(D_train, 9, math.exp(log_lambda))\n",
    "    \n",
    "    # Calculate predictions of outputs for training data given w\n",
    "    y_train = polynomial(X_train, w)\n",
    "    # Calculate predictions of ouptuts for test data given w\n",
    "    y_test = polynomial(X_test, w)\n",
    "    \n",
    "    # Calculate root-mean-square training error\n",
    "    rmse_train = math.sqrt(sum((y_train - t_train)**2) / N_train)\n",
    "    # Calculate root-meqn-square test error\n",
    "    rmse_test = math.sqrt(sum((y_test - t_test)**2) / N_test)\n",
    "    \n",
    "    fits.append(FitEvaluation(w, y_train, y_test, rmse_train, rmse_test))\n",
    "\n",
    "# Plot training and test error versus regularization term lambda\n",
    "plt.figure()\n",
    "plt.plot(log_lambda_range, [f.rmse_train for f in fits], 'g-',\n",
    "     log_lambda_range, [f.rmse_test for f in fits], 'b-')\n",
    "plt.title(\"Training and test error versus regularization term $\\lambda$\")\n",
    "plt.xlabel(\"$\\log(\\lambda)$\")\n",
    "plt.ylabel(\"$E_{RMS}$\")\n",
    "plt.legend(['Training error', 'Test error'])\n",
    "### END SOLUTION"
   ]
  },
  {
   "cell_type": "code",
   "execution_count": 89,
   "metadata": {
    "nbgrader": {
     "grade": true,
     "grade_id": "cell-7a30d44592cf4486",
     "locked": true,
     "points": 5,
     "schema_version": 3,
     "solution": false,
     "task": false
    }
   },
   "outputs": [],
   "source": [
    "\"\"\"\n",
    "Hidden test for polynomial_curve_fit.\n",
    "\"\"\"\n",
    "### BEGIN HIDDEN TESTS\n",
    "hidden_D = np.array([[0.,1.00591921],[0.11111111,1.96616531],[0.22222222,1.60720685],[0.33333333,1.34859206],\n",
    "              [0.44444444,0.64074808],[0.55555556,-0.06978151],[0.66666667,-0.00770458],\n",
    "              [0.77777778,0.15185728],[0.88888889,0.74888265],[1.,1.10755075]])\n",
    "hidden_w = polynomial_curve_fit(hidden_D, 3, 1)\n",
    "assert np.allclose(hidden_w, np.array([0.9256032, -0.26475968, -0.14907572, 0.05980501]))\n",
    "### END HIDDEN TESTS"
   ]
  },
  {
   "cell_type": "markdown",
   "metadata": {
    "nbgrader": {
     "grade": true,
     "grade_id": "cell-25af5f44d49bab7b",
     "locked": false,
     "points": 3,
     "schema_version": 3,
     "solution": true,
     "task": false
    }
   },
   "source": [
    "Final solution for weights $\\mathbf{w}$ takes the form of:\n",
    "\\begin{equation}\n",
    "\\mathbf{w} = (\\mathbf{A} + \\lambda \\mathbf{I})^{-1} \\mathbf{T}\n",
    "\\end{equation}\n",
    "with matrix $\\mathbf{A}$ and vector $\\mathbf{T}$ defined as in the Tutorial (Week 1, Exercise 5). The weight decay drives higher order terms to zero ($\\lambda=0$ and $\\lambda=1$ is compared). Very little regularization (small $\\lambda$) gives the overfitting we had before, adding a bit of regularization greatly improves the error on the test set (even though the error on the training set always increases), but at some point the \"damping\" effect becomes too strong, and the predictive results will start to deteriorate. Compare Bishop, p.11.  "
   ]
  },
  {
   "cell_type": "markdown",
   "metadata": {
    "nbgrader": {
     "grade": false,
     "grade_id": "cell-c73e08d307850f6b",
     "locked": true,
     "schema_version": 3,
     "solution": false,
     "task": false
    }
   },
   "source": [
    "### Exercise 1.6\n",
    "The polynomial curve fitting procedure can be extended to the case of multidimensional inputs. Assuming an input vector  of dimension $D$, namely $\\mathbf{x} = (x_1, x_2, \\dots, x_D)$, we can write the regression function $y$ as:\n",
    "\\begin{equation}\n",
    "y(\\mathbf{x}; \\mathbf{w}) = \\sum_{j = 0}^M \\left( \\sum_{n_1 + n_2 + ... + n_D = j} w_{n_1 n_2 ... n_D} x_1^{n_1} x_2^{n_2} ... x_D^{n_D} \\right) \\label{eqn:polynomial_multidimensional} \\tag{5}\n",
    "\\end{equation}\n",
    "\n",
    "In the last expression, $j$ refers to the order of the polynomial terms. The inner sum is over all the combinations of non-negative integers $n_1, n_2, \\dots, n_D$, such that the constraint $n_1 + n_2 + \\dots + n_D = j$ holds. The terms $n_1, n_2, \\dots, n_D$ correspond to the exponent for each variable $x_1, x_2, \\dots, x_D$ in their respective polynomial term.\n",
    "\n",
    "Note that if $D = 1$, the above expression simplifies to the formula in equation \\eqref{yxw}. The reason the second sum disappears is that there is only one combination of the non-negative integer $n_1$ for which the constraint $n_1 = j$ holds, which means that there is only  a single term to sum over.\n",
    "\n",
    "Fitting the polynomial curve to a multidimensional input vector works analogously to the one-dimensional case. However, the number of parameters (the size of $\\mathbf{w}$) becomes much larger, even when $D = 2$. Write down the general polynomial curve equation in \\eqref{eqn:polynomial_multidimensional} for $D = 2$. How many parameters are needed in the two-dimensional case? Compare this to the number of parameters in the one-dimensional case."
   ]
  },
  {
   "cell_type": "markdown",
   "metadata": {
    "nbgrader": {
     "grade": true,
     "grade_id": "cell-af7fb0f41aed699d",
     "locked": false,
     "points": 5,
     "schema_version": 3,
     "solution": true,
     "task": false
    }
   },
   "source": [
    "We can write down the polynomial regression formula \\eqref{eqn:polynomial_multidimensional} for $D = 2$ as\n",
    "\\begin{equation*}\n",
    "y(\\mathbf{x}; \\mathbf{w}) = \\sum_{j = 0}^M \\left( \\sum_{n_1 + n_2 = j} w_{n_1 n_2} x_1^{n_1} x_2^{n_2} \\right),\n",
    "\\end{equation*} \n",
    "or equivalently,\n",
    "\\begin{equation*}\n",
    "y(\\mathbf{x}; \\mathbf{w}) = \\sum_{j = 0}^M \\left( \\sum_{n = 0}^j w_{n, j - n} x_1^{n} x_2^{j-n} \\right).\n",
    "\\end{equation*}\n",
    "\n",
    "Using the last expression, we can immediately see that for $j$-th order individual polynomial terms, we sum over $j + 1$ different values of $n$, namely $\\{0, 1, 2, \\dots, j\\}$. This means that for $j$-th order terms, we have $j+1$ different weights, namely $w_{0, j}, w_{1, j - 1}, \\dots, w_{j, 0}$. Since we include polynomial terms up to the $M$-th degree, the total number of parameters becomes:\n",
    "$$ \\sum_{j = 0}^M (j + 1) \\overset{k := j + 1}{=} \\sum_{k=1}^{M + 1} k = \\frac{(M + 1)(M + 2)}{2}. $$\n",
    "In the one-dimensional case, we needed $M + 1$ parameters (see Equation \\ref{yxw}), which is a number linear in $M$. We have now shown that the number of parameters is quadratic in $M$ in the two-dimensional case. In general, as the dimension $D$ grows, the number of parameters grows exponentially, proportional to $M^D$."
   ]
  },
  {
   "cell_type": "markdown",
   "metadata": {
    "nbgrader": {
     "grade": false,
     "grade_id": "cell-836d26d54fcf8d85",
     "locked": true,
     "schema_version": 3,
     "solution": false,
     "task": false
    }
   },
   "source": [
    "## Exercise 2 (weight 25)\n",
    "In this exercise, we consider the gradient descent algorithm for function minimization. When the function to be minimized is $E(\\mathbf{x})$, the gradient descent iteration is  \n",
    "\\begin{equation*}\n",
    "\\mathbf{x}_{n+1} = \\mathbf{x}_n - \\eta \\nabla E(\\mathbf{x}_n) \\tag{6}\n",
    "\\end{equation*}\n",
    "where $\\eta>0$ is the so-called learning-rate. In the following, we will apply gradient descent to the function\n",
    "\\begin{equation*}\n",
    "h(x,y) = 100(y - x^2)^2 +(1 - x)^2 \\label{banana} \\tag{7}\n",
    "\\end{equation*}\n",
    "### Exercise 2.1\n",
    "Make a plot of the function $h$ over the interval $[-2 \\leq x \\leq 2] \\times [-1 \\leq y \\leq 3]$. (Tip: Use the `plot_surface` function.) Can you guess from the plot if numerical minimization with gradient descent will be fast or slow for this function?"
   ]
  },
  {
   "cell_type": "markdown",
   "metadata": {
    "nbgrader": {
     "grade": true,
     "grade_id": "cell-5dfbbae25832f037",
     "locked": false,
     "points": 2,
     "schema_version": 3,
     "solution": true,
     "task": false
    }
   },
   "source": [
    "This is Rosenbrock's so called \"banana function\". At every point in the graph the gradient is largely oriented towards the nearest point of the \"curved valley\". The gradient along the curved bottom part towards the minimum is very small compared with the gradient across it. Steep in one direction: the learning rate cannot be too big otherwise it will diverge; flat in the other: learning will slow down. This means gradient descent is in trouble."
   ]
  },
  {
   "cell_type": "code",
   "execution_count": 14,
   "metadata": {
    "nbgrader": {
     "grade": false,
     "grade_id": "cell-d2b407ddc3fbb9fc",
     "locked": false,
     "schema_version": 3,
     "solution": true,
     "task": false
    }
   },
   "outputs": [],
   "source": [
    "\"\"\"\n",
    "Create function h.\n",
    "\"\"\"\n",
    "def h(x,y):\n",
    "    ### BEGIN SOLUTION\n",
    "    return 100*(y-x**2)**2+(1-x)**2\n",
    "    ### END SOLUTION\n",
    "\n",
    "\"\"\"\n",
    "Declare x and y.\n",
    "\"\"\"    \n",
    "### BEGIN SOLUTION\n",
    "x = np.arange(-2, 2, 0.5)\n",
    "y = np.arange(-1, 3, 0.5)\n",
    "### END SOLUTION"
   ]
  },
  {
   "cell_type": "code",
   "execution_count": 15,
   "metadata": {
    "nbgrader": {
     "grade": true,
     "grade_id": "cell-e9cba008bca6b37a",
     "locked": true,
     "points": 2,
     "schema_version": 3,
     "solution": false,
     "task": false
    }
   },
   "outputs": [],
   "source": [
    "\"\"\"\n",
    "Hiddent test for function h.\n",
    "\"\"\"\n",
    "### BEGIN HIDDEN TESTS\n",
    "assert np.array_equal(h(x,y),np.array([2509.,762.5,104.,8.5,101.,156.5,100.,6.5]))\n",
    "### END HIDDEN TESTS"
   ]
  },
  {
   "cell_type": "code",
   "execution_count": 16,
   "metadata": {
    "nbgrader": {
     "grade": true,
     "grade_id": "cell-85ead8c8bd53e79c",
     "locked": false,
     "points": 2,
     "schema_version": 3,
     "solution": true,
     "task": false
    }
   },
   "outputs": [
    {
     "data": {
      "image/png": "[encoded data removed]",
      "text/plain": [
       "<Figure size 432x288 with 1 Axes>"
      ]
     },
     "metadata": {
      "needs_background": "light"
     },
     "output_type": "display_data"
    }
   ],
   "source": [
    "\"\"\"\n",
    "Create a function to plot h.\n",
    "\"\"\"\n",
    "def plot_h(x,y):\n",
    "    ### BEGIN SOLUTION\n",
    "    fig = plt.figure()\n",
    "    ax = plt.axes(projection=\"3d\")\n",
    "\n",
    "    x, y = np.meshgrid(x, y)\n",
    "    z = h(x,y)\n",
    "\n",
    "    ax.plot_surface(x,y,z)\n",
    "    ax.set_xlabel('X Axes')\n",
    "    ax.set_ylabel('Y Axes')\n",
    "    ax.set_zlabel('Z Axes')\n",
    "\n",
    "    plt.show()\n",
    "    ### END SOLUTION\n",
    "\n",
    "plot_h(x,y)"
   ]
  },
  {
   "cell_type": "markdown",
   "metadata": {
    "nbgrader": {
     "grade": false,
     "grade_id": "cell-31bd1472cf7b6923",
     "locked": true,
     "schema_version": 3,
     "solution": false,
     "task": false
    }
   },
   "source": [
    "### Exercise 2.2\n",
    "Knowing that a critical point of a function is a point where the gradient vanishes, show that $(1, 1)$ is the unique critical point of $h$.  Prove that this point is a minimum for $h$. "
   ]
  },
  {
   "cell_type": "markdown",
   "metadata": {
    "nbgrader": {
     "grade": true,
     "grade_id": "cell-1336cb1e9d7d38bd",
     "locked": false,
     "points": 6,
     "schema_version": 3,
     "solution": true,
     "task": false
    }
   },
   "source": [
    "The gradient $\\nabla h$ is given by\n",
    "\\begin{eqnarray*}\n",
    "\\frac{\\partial h}{\\partial x} & = & 400 x^3 -400yx+2x-2 \\\\\n",
    "\\frac{\\partial h}{\\partial y} & = & 200y - 200x^2\n",
    "\\end{eqnarray*}\n",
    "Setting equal to zero gives\n",
    "\\begin{eqnarray*}\n",
    "400 x^3 -400yx+2x-2& = &0\\\\\n",
    "  200y - 200x^2 & =& 0\n",
    "\\end{eqnarray*}\n",
    "The second gives $y = x^2$, substituting this in the first results in\n",
    "$$400 x^3 -400 x^2 x + 2x -2 = 2x - 2 = 0 $$ which implies $x = 1$ and so also $y = 1$.\n",
    "\n",
    "We have shown that $(1, 1)$ is a critical point, but we still have to show that this point is a minimum. A function attains a local minimum at a critical point if its Hessian (the square matrix of second-order partial derivatives) is positive definite at that point. In the univariate case, this is equivalent to the second derivative being (strictly) positive at that point. \n",
    "\n",
    "The Hessian matrix of $h$ is computed in Equation \\ref{eq:hess}. We have to show that the Hessian matrix of $h$ is positive definite at point $(1, 1)$.\n",
    "\n",
    "\\begin{equation}\n",
    "\t\\label{eq:hess}\n",
    "\t\\mathbf{H}_h(x, y) = \\begin{bmatrix}\n",
    "\t\t\\frac{\\partial^2 h}{\\partial x^2} & \\frac{\\partial^2 h }{\\partial x \\partial y}\\\\\n",
    "\t\t\\frac{\\partial^2 h}{\\partial y \\partial x} & \\frac{\\partial^2 h }{\\partial y^2} \\\\\n",
    "\t\\end{bmatrix} = \\begin{bmatrix}\n",
    "\t\t1200 x^2 - 400 y + 2 & -400 x \\\\\n",
    "\t\t- 400 x & 200 \\\\\n",
    "\t\\end{bmatrix}\n",
    "    \\tag{8}\n",
    "\\end{equation}\n",
    "\n",
    "One way to do this is to show that all the eigenvalues of $\\mathbf{H}_h(1, 1)$ are (strictly) positive. Alternatively, we can show that all the leading principal minors -- The $k^{th}$ leading principal minor of a matrix is the determinant of its upper-left $k$ by $k$ sub-matrix. -- of $\\mathbf{H}_h(1, 1)$ are (strictly) positive. For this two-dimensional function, it is easier to use the second method.\n",
    "\n",
    "$$\n",
    "\t\\mathbf{H}_h(1, 1) = \\begin{bmatrix}\n",
    "\t802 & -400 \\\\\n",
    "\t- 400 & 200 \\\\\n",
    "\t\\end{bmatrix} \n",
    "$$\n",
    "\n",
    "Since $\\begin{vmatrix} 802 \\end{vmatrix} = 802 > 0$ and $\\begin{vmatrix} 802 & -400 \\\\ -400 & 200 \\\\ \\end{vmatrix} = 160400 - 160000 = 400 > 0$, it means that all the leading principal minors of $\\mathbf{H}_h(1, 1)$ are (strictly) positive, hence the matrix is positive definite and the critical point $(1, 1)$ is a local minimum. In the case of this particular function, the local minimum also happens to be the global minimum. (Can you explain why?)"
   ]
  },
  {
   "cell_type": "markdown",
   "metadata": {
    "nbgrader": {
     "grade": false,
     "grade_id": "cell-8f880d3ed9688c1c",
     "locked": true,
     "schema_version": 3,
     "solution": false,
     "task": false
    }
   },
   "source": [
    "### Exercise 2.3\n",
    "Write down the gradient descent iteration rule for this function. "
   ]
  },
  {
   "cell_type": "markdown",
   "metadata": {
    "nbgrader": {
     "grade": true,
     "grade_id": "cell-91163736650b6698",
     "locked": false,
     "points": 3,
     "schema_version": 3,
     "solution": true,
     "task": false
    }
   },
   "source": [
    "The gradient descent iteration rule is:\n",
    "\\begin{eqnarray*}\n",
    "x_{n+1}& = &x_n - \\eta ( 400 x_n^3 -400y_n x_n+2x_n-2 )\\\\\n",
    "y_{n+1} & = &y_n - \\eta( 200 y_n - 200x_n^2 )\n",
    "\\end{eqnarray*}"
   ]
  },
  {
   "cell_type": "markdown",
   "metadata": {
    "nbgrader": {
     "grade": false,
     "grade_id": "cell-55ab98d23c58aa29",
     "locked": true,
     "schema_version": 3,
     "solution": false,
     "task": false
    }
   },
   "source": [
    "### Exercise 2.4\n",
    "Implement gradient descent. Try some different values of $\\eta$. Does the algorithm converge? How fast? Make plots of the trajectories on top of a contour plot of $h$. (Hint: have a look at the example contour_example.py on Brightspace for inspiration to plot contours of functions and trajectories). Report your findings. Explain why numerical minimization with gradient descent is slow for this function.\n",
    "\n",
    "First implement the derivative of $h(x,y)$."
   ]
  },
  {
   "cell_type": "code",
   "execution_count": 17,
   "metadata": {
    "nbgrader": {
     "grade": false,
     "grade_id": "cell-ebfab8f71f837375",
     "locked": false,
     "schema_version": 3,
     "solution": true,
     "task": false
    }
   },
   "outputs": [],
   "source": [
    "def dh_dxy(x, y):\n",
    "    \"\"\"\n",
    "    This function is the derivative of the function h(x, y).\n",
    "    \n",
    "    Parameters\n",
    "    ----------\n",
    "    x : float\n",
    "        data point from x-axis\n",
    "    y : float\n",
    "        data point from y-axis\n",
    "    \n",
    "    Returns\n",
    "    -------\n",
    "    vals : array\n",
    "        NumPy array of parameter values computed during minimization\n",
    "    \"\"\"\n",
    "    ### BEGIN SOLUTION\n",
    "    return np.array([400 * x**3 - 400 * y * x + 2 * x - 2, 200 * y - 200 * x**2])\n",
    "    ### END SOLUTION"
   ]
  },
  {
   "cell_type": "code",
   "execution_count": 18,
   "metadata": {
    "nbgrader": {
     "grade": true,
     "grade_id": "cell-14c1d4dd062d9e68",
     "locked": true,
     "points": 1,
     "schema_version": 3,
     "solution": false,
     "task": false
    }
   },
   "outputs": [],
   "source": [
    "\"\"\"\n",
    "Test for dh_dxy.\n",
    "\"\"\"\n",
    "assert np.array_equal(dh_dxy(1, 1), np.array([0, 0]))"
   ]
  },
  {
   "cell_type": "markdown",
   "metadata": {
    "nbgrader": {
     "grade": false,
     "grade_id": "cell-f8b8e6054e370fc9",
     "locked": true,
     "schema_version": 3,
     "solution": false,
     "task": false
    }
   },
   "source": [
    "Now implement the gradient descent algorithm."
   ]
  },
  {
   "cell_type": "code",
   "execution_count": 19,
   "metadata": {
    "nbgrader": {
     "grade": false,
     "grade_id": "cell-e5e7a55f7e7d740f",
     "locked": false,
     "schema_version": 3,
     "solution": true,
     "task": false
    }
   },
   "outputs": [],
   "source": [
    "def grad_descent(grad, val_init, eta, max_iter, tol):\n",
    "    \"\"\" This function implements the gradient descent algorithm.\n",
    "    \n",
    "    Parameters\n",
    "    ----------\n",
    "    grad : function\n",
    "        Returns the derivative of the function with respect to the pair (x, y).\n",
    "    val_init : tuple\n",
    "        Initial values for parameters\n",
    "    eta : float\n",
    "        Gradient descent learning rate\n",
    "    max_iter : int\n",
    "        Maximum number of gradient descent iterations\n",
    "    tol : float\n",
    "        Tolerance for detecting convergence\n",
    "    \n",
    "    Returns\n",
    "    -------\n",
    "    vals : array\n",
    "        NumPy array of parameter values computed during minimization\n",
    "    dists : array\n",
    "        NumPy array of distances from the current point to the previous point\n",
    "    tot_iter : int\n",
    "        Number of performed gradient descent iterations\n",
    "    \"\"\"\n",
    "    ### BEGIN SOLUTION\n",
    "    # Initialization\n",
    "    val = val_init\n",
    "    # Keep track of everything\n",
    "    vals = np.array([val])\n",
    "    vals.shape = (1, len(val)) # make vals two-dimensional\n",
    "    dists = np.array([math.inf])\n",
    "    \n",
    "    # Gradient descent iterations\n",
    "    for i in range(max_iter):\n",
    "        # Calculate next coordinates\n",
    "        val_new = val - eta * grad(*val.flatten())\n",
    "        # Calculate distance to current coordinates\n",
    "        dist = np.linalg.norm(val_new - val, ord = 2)\n",
    "        # Update coordinates (parameter values)\n",
    "        val = val_new\n",
    "        # Keep track of everything\n",
    "        vals = np.append(vals, val.reshape(1, len(val)), axis = 0)\n",
    "        dists = np.append(dists, dist)\n",
    "        \n",
    "        # if converged, exit the loop\n",
    "        if dist < tol:\n",
    "            break\n",
    "        \n",
    "    tot_iter = i+1\n",
    "    \n",
    "    return vals, dists, tot_iter\n",
    "    ### END SOLUTION"
   ]
  },
  {
   "cell_type": "code",
   "execution_count": 20,
   "metadata": {
    "nbgrader": {
     "grade": true,
     "grade_id": "cell-9cce6b818f4aa52e",
     "locked": true,
     "points": 3,
     "schema_version": 3,
     "solution": false,
     "task": false
    }
   },
   "outputs": [],
   "source": [
    "\"\"\"\n",
    "Hidden test for grad_descent.\n",
    "\"\"\"\n",
    "### BEGIN HIDDEN TESTS\n",
    "vals, dists, tot_iter = grad_descent(dh_dxy, np.array([1, -1]), 1e-4, 5, 1e-6)\n",
    "assert np.array_equal(np.round(vals,2), [[1.,-1.],[0.92,-0.96],[0.85,-0.92],[ 0.8,-0.89],[0.75,-0.86],[0.71,-0.83]])\n",
    "assert np.array_equal(np.round(dists,2),[float('inf'),0.09,0.08,0.07,0.06,0.05])\n",
    "assert tot_iter == 5\n",
    "### END HIDDEN TESTS"
   ]
  },
  {
   "cell_type": "markdown",
   "metadata": {
    "nbgrader": {
     "grade": false,
     "grade_id": "cell-2829e4b5e8af0502",
     "locked": true,
     "schema_version": 3,
     "solution": false,
     "task": false
    }
   },
   "source": [
    "Finally, run the gradient descent algorithm with different values of $\\eta$."
   ]
  },
  {
   "cell_type": "code",
   "execution_count": 21,
   "metadata": {
    "nbgrader": {
     "grade": true,
     "grade_id": "cell-76876feddeb4a5f0",
     "locked": false,
     "points": 3,
     "schema_version": 3,
     "solution": true,
     "task": false
    }
   },
   "outputs": [
    {
     "name": "stdout",
     "output_type": "stream",
     "text": [
      "eta = 0.0001 needs 10000 iterations to obtain a tolerance of 3.670770720908214e-05\n",
      "eta = 0.001 needs 10000 iterations to obtain a tolerance of 4.9858621233714535e-06\n"
     ]
    },
    {
     "name": "stderr",
     "output_type": "stream",
     "text": [
      "<ipython-input-17-e68342d2e322>:18: RuntimeWarning: overflow encountered in double_scalars\n",
      "  return np.array([400 * x**3 - 400 * y * x + 2 * x - 2, 200 * y - 200 * x**2])\n",
      "<ipython-input-17-e68342d2e322>:18: RuntimeWarning: invalid value encountered in double_scalars\n",
      "  return np.array([400 * x**3 - 400 * y * x + 2 * x - 2, 200 * y - 200 * x**2])\n"
     ]
    },
    {
     "name": "stdout",
     "output_type": "stream",
     "text": [
      "eta = 0.003 needs 10000 iterations to obtain a tolerance of nan\n"
     ]
    },
    {
     "data": {
      "image/png": "[encoded data removed]",
      "text/plain": [
       "<Figure size 432x288 with 6 Axes>"
      ]
     },
     "metadata": {
      "needs_background": "light"
     },
     "output_type": "display_data"
    }
   ],
   "source": [
    "### BEGIN SOLUTION\n",
    "# Plot trajectories for different values of eta\n",
    "etas = [1e-4, 1e-3, 3e-3]\n",
    "x, y = np.meshgrid(x, y)\n",
    "\n",
    "for i in range(len(etas)):\n",
    "    \n",
    "    # run gradient descent\n",
    "    vals, dists, tot_iter = grad_descent(dh_dxy, np.array([1, -1]), etas[i], 10000, 1e-9)\n",
    "    print(f'eta = {etas[i]} needs {tot_iter} iterations to obtain a tolerance of {dists[tot_iter]}')\n",
    "\n",
    "    # plot distance versus iterations\n",
    "    last_iter = 401\n",
    "    plt.subplot(2, len(etas), len(etas) + i + 1)\n",
    "    plt.plot(range(0, last_iter), np.log10(dists[0:last_iter]), 'k-')\n",
    "    plt.xlabel('n')\n",
    "    plt.ylabel('$log_{10} ||x_n - x_{n-1}||$')\n",
    "    plt.tight_layout()\n",
    "    \n",
    "    # plot trajectory\n",
    "    plt.subplot(2, len(etas), i + 1)\n",
    "    plt.contour(x, y, h(x, y))\n",
    "    plt.plot(vals[0:last_iter, 0], vals[0:last_iter, 1], 'k-o')\n",
    "    plt.xlim([-2, 2])\n",
    "    plt.ylim([-1, 3])\n",
    "    plt.xlabel('x')\n",
    "    plt.ylabel('y')\n",
    "    plt.tight_layout()\n",
    "    plt.title(f'$\\eta = {etas[i]}$')\n",
    "\n",
    "### END SOLUTION"
   ]
  },
  {
   "cell_type": "markdown",
   "metadata": {
    "nbgrader": {
     "grade": false,
     "grade_id": "cell-87fcba196081149d",
     "locked": true,
     "schema_version": 3,
     "solution": false,
     "task": false
    }
   },
   "source": [
    "Explain what you see!"
   ]
  },
  {
   "cell_type": "markdown",
   "metadata": {
    "nbgrader": {
     "grade": true,
     "grade_id": "cell-40c451de6dac1163",
     "locked": false,
     "points": 3,
     "schema_version": 3,
     "solution": true,
     "task": false
    }
   },
   "source": [
    "For this starting point $(1,-1)$, the gradient descent algorithm seems to converge for $\\eta = 0.0001$ and $\\eta = 0.001$, but diverges for $\\eta = 0.003$.\n",
    "The convergence is very slow: even after 10000 steps, the step size is still considerable.\n",
    "\n",
    "At every point in the graph the gradient is largely oriented towards the nearest point of the \"curved valley\". The gradient along the curved bottom part towards the minimum is very small compared with the gradient across it. As a result for a small deviation from the bottom, the next gradient step is primarily back towards the bottom, i.e. perpendicular to the direction along the bottom of the valley you try to follow towards the minimum. More advanced methods, e.g. conjugate gradient descent, can take this into account and have no problem in finding the minimum in a few steps."
   ]
  },
  {
   "cell_type": "markdown",
   "metadata": {
    "nbgrader": {
     "grade": false,
     "grade_id": "cell-2a1aae0a18484d04",
     "locked": true,
     "schema_version": 3,
     "solution": false,
     "task": false
    }
   },
   "source": [
    "## Exercise 3 (weight 25)\n",
    "Suppose we have two healthy but curiously mixed boxes of fruit, with one box containing 8 apples and 4 grapefruit and the other containing 15 apples and 3 grapefruit. One of the boxes is selected at random and a piece of fruit is picked (but not eaten) from the chosen box, with equal probability for each item in the box. The piece of fruit is returned and then once again from the *same* box a second piece is chosen at random. This is known as sampling with replacement. Model the box by random variable $B$, the first piece of fruit by variable $F_1$, and the second piece by $F_2$.\n",
    "### Exercise 3.1\n",
    "What is the probability that the first piece of fruit is an apple given that the second piece of fruit was a grapefruit? How can the result of the second pick affect the probability of the first pick?"
   ]
  },
  {
   "cell_type": "markdown",
   "metadata": {
    "nbgrader": {
     "grade": true,
     "grade_id": "cell-20711d5530b05594",
     "locked": false,
     "points": 7,
     "schema_version": 3,
     "solution": true,
     "task": false
    }
   },
   "source": [
    "Requested is $p(F_1 = a|F_2=g)$, which follows from:\n",
    "\\begin{equation*}\n",
    "    \\begin{aligned}\n",
    "    p(F_1=a|F_2=g) = & p(F_1 = a, B = 1 | F_2 = g) + p(F_1 = a, B = 2 | F_2 = g) \\\\ \n",
    "     = & p(F_1=a|B=1) p(B=1|F_2=g) + \\\\ \n",
    "    &  p(F_1=a|B=2) p(B=2|F_2=g)\n",
    "    \\end{aligned}\n",
    "    \\label{eqn:with_replacement} \\tag{10}\n",
    "\\end{equation*}\n",
    "To arrive at the result of \\eqref{eqn:with_replacement}, we used the fact that $p(F_1 | B, F_2 ) = p(F_1 | B)$. Once we know the box from which the fruit were picked, the two picks become independent.\n",
    "\n",
    "Since the first piece of fruit is put back, the probabilities on the second pick are identical to the ones on the first pick, i.e. $p(F_2) = p(F_1)$, and therefore (Bayes' rule):\n",
    "\\begin{eqnarray*}\n",
    "p(B=1|F_2=g) & = & \\frac{p(F_2=g|B=1) p(B=1)}{p(F_2=g)}\\\\\n",
    " & = & \\frac{p(F_2=g|B=1) p(B=1)}{1 - p(F_1=a)} \\\\\n",
    " & = & \\frac{\\frac{4}{12} \\frac{1}{2}}{(1 - \\frac{3}{4})} \\\\\n",
    " & = & \\frac{2}{3}\n",
    "\\end{eqnarray*}\n",
    "\n",
    "Substituting in \\eqref{eqn:with_replacement}, using $p(B=2|F_2=g) = 1 - p(B=1|F_2=g)$, then gives\n",
    "\\begin{eqnarray*}\n",
    "p(F_1=a|F_2=g) &=& \\frac{8}{12} \\frac{2}{3} + \\frac{15}{18} (1 - \\frac{2}{3}) \\\\\n",
    " & = & \\frac{8}{18} + \\frac{5}{18} \\\\\n",
    " & = & \\frac{13}{18}\n",
    "\\end{eqnarray*}\n",
    "\n",
    "Note that the probability of picking an apple the first time changes when information about a later event is known. In other words: a probability is not a fixed \"objective\" property of a real world event, but quantifies a state of knowledge about that event."
   ]
  },
  {
   "cell_type": "markdown",
   "metadata": {
    "nbgrader": {
     "grade": false,
     "grade_id": "cell-49dfe477cdad0ff8",
     "locked": true,
     "schema_version": 3,
     "solution": false,
     "task": false
    }
   },
   "source": [
    "Please add the final result you got in the cell below! (Add it as a fraction, not an estimate. For example, write __1/3__, do not round to a number of decimals.)"
   ]
  },
  {
   "cell_type": "code",
   "execution_count": 22,
   "metadata": {
    "nbgrader": {
     "grade": false,
     "grade_id": "cell-6d4096e0b9231c28",
     "locked": false,
     "schema_version": 3,
     "solution": true,
     "task": false
    }
   },
   "outputs": [],
   "source": [
    "\"\"\"\n",
    "The variable p is probability of the first piece of fruit being\n",
    "an apple given that the second piece of fruit was a grapefruit.\n",
    "\"\"\"\n",
    "### BEGIN SOLUTION\n",
    "p = 13/18\n",
    "### END SOLUTION"
   ]
  },
  {
   "cell_type": "code",
   "execution_count": 23,
   "metadata": {
    "nbgrader": {
     "grade": true,
     "grade_id": "cell-13f94c0b98af50e6",
     "locked": true,
     "points": 2,
     "schema_version": 3,
     "solution": false,
     "task": false
    }
   },
   "outputs": [],
   "source": [
    "\"\"\"\n",
    "Hidden check for value of variable p.\n",
    "\"\"\"\n",
    "### BEGIN HIDDEN TESTS\n",
    "assert abs(p-13/18) < 1e-10\n",
    "### END HIDDEN TESTS"
   ]
  },
  {
   "cell_type": "markdown",
   "metadata": {
    "nbgrader": {
     "grade": false,
     "grade_id": "cell-533f0ed93282cea2",
     "locked": true,
     "schema_version": 3,
     "solution": false,
     "task": false
    }
   },
   "source": [
    "### Exercise 3.2\n",
    "Imagine now that after we remove a piece of fruit, it is not returned to the box. This is known as sampling without replacement. In this situation, recompute the probability that the first piece of fruit is an apple given that the second piece of fruit was a grapefruit. Explain the difference."
   ]
  },
  {
   "cell_type": "markdown",
   "metadata": {
    "nbgrader": {
     "grade": true,
     "grade_id": "cell-c5cabea66205f678",
     "locked": false,
     "points": 7,
     "schema_version": 3,
     "solution": true,
     "task": false
    }
   },
   "source": [
    "Requested is $p(F_1 = a|F_2=g)$, which follows from:\n",
    "\\begin{equation}\n",
    "\t\\begin{aligned} \\label{eqn:without_replacement}\n",
    "\tp(F_1=a|F_2=g) = & p(F_1 = a, B = 1 | F_2 = g) + p(F_1 = a, B = 2 | F_2 = g) \\\\ \n",
    "\t= & p(F_1=a|B=1, F_2 = g) p(B=1|F_2=g) + \\\\ \n",
    "\t&  p(F_1=a|B=2, F_2 = g) p(B=2|F_2=g) \\\\\n",
    "\t\\end{aligned}\n",
    "    \\tag{11}\n",
    "\\end{equation}\n",
    "\t\n",
    "Note that it is no longer true that $p(F_1 | B, F_2 ) = p(F_1 | B)$, which we used previously in equation \\eqref{eqn:with_replacement}. Even if we know the box from which we are picking fruit, the fact that the picked fruit is not replaced makes the two picks dependent. Using Bayes' rule, we have:\n",
    "\\begin{align*}\n",
    "    p(F_1 = a | B = 1, F_2 = g) &= \\frac{p(F_2 = g | B = 1, F_1 = a) p(F_1 = a | B = 1)}{p(F_2 = g | B = 1)} \\\\\n",
    "\t&= \\frac{\\frac{4}{11} \\frac{8}{12}}{\\frac{4}{11} \\frac{8}{12} + \\frac{3}{11} \\frac{4}{12}} \\\\\n",
    "\t&= \\frac{8}{11}\t\t\t\n",
    "\\end{align*}\n",
    "\t\n",
    "\\begin{align*}\n",
    "    p(F_1 = a | B = 2, F_2 = g) &= \\frac{p(F_2 = g | B = 2, F_1 = a) p(F_1 = a | B = 2)}{p(F_2 = g | B = 2)} \\\\\n",
    "\t&= \\frac{\\frac{3}{17} \\frac{15}{18}}{\\frac{3}{17} \\frac{15}{18} + \\frac{2}{17} \\frac{3}{18}} \\\\\n",
    "\t&= \\frac{15}{17}\t\t\t\n",
    "\\end{align*}\n",
    "\t\n",
    "Even though the first piece of fruit is not returned to the box, the _marginal_ probabilities of the second pick do not change, i.e. $p(F_2 | B) = p(F_1 | B)$. One way to see this is to imagine labeling the pieces of fruit in a random order. It is equally probable that an apple in a given box is labeled as 1 (first pick) or 2 (second pick). However, this only holds in the absence of additional information, such as which fruit were picked at different times. Confirm this for yourself.\n",
    "\t\n",
    "Given that the marginals are the same, the derivation of $p(B = 1 | F_2 = g)$ is the same as in the previous part:\n",
    "\\begin{eqnarray*}\n",
    "    p(B=1|F_2=g) & = & \\frac{p(F_2=g|B=1) p(B=1)}{p(F_2=g)}\\\\\n",
    "\t& = & \\frac{p(F_2=g|B=1) p(B=1)}{1 - p(F_1=a)} \\\\\n",
    "\t& = & \\frac{\\frac{4}{12} \\frac{1}{2}}{(1 - \\frac{3}{4})} \\\\\n",
    "\t& = & \\frac{2}{3}\n",
    "\\end{eqnarray*}\n",
    "\t\n",
    "Substituting in \\eqref{eqn:without_replacement} and using $p(B=2|F_2=g) = 1 - p(B=1|F_2=g)$ gives:\n",
    "\t\\begin{eqnarray*}\n",
    "\t\tp(F_1=a|F_2=g) &=& \\frac{8}{11} \\frac{2}{3} + \\frac{15}{17} \\frac{1}{3} \\\\\n",
    "\t\t& = & \\frac{437}{561}\n",
    "\t\\end{eqnarray*}\n",
    "\t\n",
    "Note that the probability $p(F_1=a|F_2=g)$ is higher than when we were sampling with replacement. Intuitively, the fact that we picked a grapefruit the second time reduces the probability that we picked a grapefruit the first time, as this would have taken one grapefruit out of the box. This in turn increases the probability of the first pick being an apple."
   ]
  },
  {
   "cell_type": "markdown",
   "metadata": {
    "nbgrader": {
     "grade": false,
     "grade_id": "cell-b2aab5343b969c8a",
     "locked": true,
     "schema_version": 3,
     "solution": false,
     "task": false
    }
   },
   "source": [
    "Please add the final result you got in the cell below! (Add it as a fraction, not an estimate. For example, write __1/3__, do not round to a number of decimals.)"
   ]
  },
  {
   "cell_type": "code",
   "execution_count": 24,
   "metadata": {
    "nbgrader": {
     "grade": false,
     "grade_id": "cell-bbf669c7d7e989eb",
     "locked": false,
     "schema_version": 3,
     "solution": true,
     "task": false
    }
   },
   "outputs": [],
   "source": [
    "\"\"\"\n",
    "The variable p is probability of the first piece of fruit being\n",
    "an apple given that the second piece of fruit was a grapefruit\n",
    "when the sampling was done without replacement.\n",
    "\"\"\"\n",
    "### BEGIN SOLUTION\n",
    "p = 437/561\n",
    "### END SOLUTION"
   ]
  },
  {
   "cell_type": "code",
   "execution_count": 25,
   "metadata": {
    "nbgrader": {
     "grade": true,
     "grade_id": "cell-1aa31b8a1047f19a",
     "locked": true,
     "points": 2,
     "schema_version": 3,
     "solution": false,
     "task": false
    }
   },
   "outputs": [],
   "source": [
    "\"\"\"\n",
    "Hidden check for value of variable p.\n",
    "\"\"\"\n",
    "### BEGIN HIDDEN TESTS\n",
    "assert abs(p-437/561) < 1e-10\n",
    "### END HIDDEN TESTS"
   ]
  },
  {
   "cell_type": "markdown",
   "metadata": {
    "nbgrader": {
     "grade": false,
     "grade_id": "cell-5e32edcbb1f96df8",
     "locked": true,
     "schema_version": 3,
     "solution": false,
     "task": false
    }
   },
   "source": [
    "### Exercise 3.3\n",
    "Starting from the initial situation (i.e., sampling with replacement), we add a dozen oranges to the first box and repeat the experiment. Show that now the outcome of the first pick has no impact on the probability that the second pick is a grapefruit. Are the two picks now dependent or independent? Explain your answer."
   ]
  },
  {
   "cell_type": "markdown",
   "metadata": {
    "nbgrader": {
     "grade": true,
     "grade_id": "cell-03574d2eb9eadf55",
     "locked": false,
     "points": 7,
     "schema_version": 3,
     "solution": true,
     "task": false
    }
   },
   "source": [
    "We have to show that the probability of the second pick being a grapefruit given the outcome of the first pick has the same value as the probability of the second pick:\n",
    "\\begin{eqnarray*}\n",
    "p(F_2=g) &=& p(F_2=g|B=1) p(B=1) + p(F_2=g|B=2) p(B=2)\\\\\n",
    " &=& \\frac{4}{24}\\cdot \\frac{1}{2} + \\frac{3}{18}\\cdot \\frac{1}{2} =\\frac{1}{6}= 0.1666\\\\\n",
    "p(B=1|F_1=g) &=& \\frac{p(F_1=g|B=1) p(B=1)} { p(F_1=g)}\\\\\n",
    "&=& \\frac{\\frac{4}{24} \\frac{1}{2}}{\\frac{1}{6}} = \\frac{1}{2} = 0.5\\\\\n",
    "p(F_2=g|F_1=g) &=& p(F_2=g|B=1) p(B=1|F_1=g) + p(F_2=g|B=2) p(B=2|F_1=g) \\\\\n",
    "&=& \\frac{4}{24}\\cdot \\frac{1}{2} + \\frac{3}{18}\\cdot \\frac{1}{2} = \\frac{1}{6}= 0.1666\n",
    "\\end{eqnarray*}\n",
    "\n",
    "Similarly, we can show that $p(F_2 = g | F_1 = a) = p(F_2 = g | F_1 = o) = p(F_2 = g)$.\n",
    "\n",
    "No: despite the equality $p(F_2=g|F_1)=p(F_2)$, $F_1$ and $F_2$ are _not_ independent. Independence only holds if $p(F_2=y|F_1=x)=p(F_2=y)$ for _all possible values_ $x,y$. In other words, independence applies to random variables as a whole, not to specific outcomes only. $F_1$ and $F_2$ are not independent as is easily seen by considering, for example, $p(F_2=a|F_1=o)$: once the first pick was an orange you _know_ it had to come from box 1 as the other box contained no oranges whatsoever. The probability of picking an apple from box 1 is $\\frac{1}{3}$, while the probability of picking an apple from either box is $\\frac{8}{24} \\cdot \\frac{1}{2} + \\frac{15}{18} \\cdot \\frac{1}{2}=\\frac{1}{2}$."
   ]
  },
  {
   "cell_type": "markdown",
   "metadata": {
    "nbgrader": {
     "grade": false,
     "grade_id": "cell-e251ab231093efee",
     "locked": true,
     "schema_version": 3,
     "solution": false,
     "task": false
    }
   },
   "source": [
    "## Exercise 4 - Bonus (weight 10)\n",
    "Given a joint probability density function over the random vector $\\mathbf{X} = (X_1, X_2, X_3, X_4)$ that factorizes as\n",
    "$$p(x_1, x_2, x_3, x_4) = p(x_1, x_4 | x_2) p(x_2, x_3 | x_1),$$\n",
    "show (using the sum and product rules for marginals and conditionals) that the following independence statements hold, in which the symbol $\\bot$ stands for (conditional) independence:\n",
    "1. $ X_1 \\bot X_2;$\n",
    "2. $ X_3 \\bot X_4 \\,|\\, X_1, X_2.$"
   ]
  },
  {
   "cell_type": "markdown",
   "metadata": {
    "nbgrader": {
     "grade": true,
     "grade_id": "cell-fea97ebe52a73eb3",
     "locked": false,
     "points": 10,
     "schema_version": 3,
     "solution": true,
     "task": false
    }
   },
   "source": [
    "1. We will show that $p(x_2 | x_1) = p(x_2)$. \n",
    "$$\n",
    "\\begin{align*}\n",
    "    p(x_1, x_2) &= \\sum_{x_3} \\sum_{x_4} p(x_1, x_2, x_3, x_4) \\\\\n",
    "\t&= \\sum_{x_3} \\sum_{x_4} p(x_1, x_4 | x_2) p(x_2, x_3 | x_1) \\\\\n",
    "\t&= \\left(\\sum_{x_4} p(x_1, x_4 | x_2) \\right) \\left(\\sum_{x_3} p(x_2, x_3 | x_1) \\right) \\\\\n",
    "\t&= p(x_1 | x_2) p(x_2 | x_1) \n",
    "\\end{align*}\n",
    "$$\n",
    "We now use the fact that $p(x_1, x_2)$ factorizes as $p(x_1 | x_2) p(x_2)$ (or equivalently $p(x_2 | x_1) p(x_1)$). Using the previous result, we get:\n",
    "$$ p(x_1 | x_2) p(x_2) = p(x_1 | x_2) p(x_2 | x_1) \\implies p(x_2) = p(x_2 | x_1). \\quad \\square $$\n",
    "2. We will show that $p(x_3, x_4 | x_1, x_2) = p(x_4 | x_1, x_2) p(x_3 | x_1, x_2)$.\n",
    "$$\n",
    "\\begin{align*}\n",
    "    p(x_3, x_4 | x_1, x_2) &= \\frac{p(x_3, x_4, x_1, x_2)}{p(x_1, x_2)} \\\\\n",
    "    &= \\frac{p(x_1, x_4 | x_2) p(x_2, x_3 | x_1)}{p(x_1 | x_2) p(x_2 | x_1)} \\\\\n",
    "\t&= \\frac{p(x_1, x_4 | x_2)}{p(x_1 | x_2)} \\cdot \\frac{p(x_2, x_3 | x_1)}{p(x_2 | x_1)} \\\\\n",
    "\t&= p(x_4 | x_1, x_2) p(x_3 | x_1, x_2). \\quad \\square\n",
    "\\end{align*}\n",
    "$$"
   ]
  }
 ],
 "metadata": {
  "celltoolbar": "Create Assignment",
  "kernelspec": {
   "display_name": "Python 3",
   "language": "python",
   "name": "python3"
  },
  "language_info": {
   "codemirror_mode": {
    "name": "ipython",
    "version": 3
   },
   "file_extension": ".py",
   "mimetype": "text/x-python",
   "name": "python",
   "nbconvert_exporter": "python",
   "pygments_lexer": "ipython3",
   "version": "3.8.2"
  }
 },
 "nbformat": 4,
 "nbformat_minor": 4
}
