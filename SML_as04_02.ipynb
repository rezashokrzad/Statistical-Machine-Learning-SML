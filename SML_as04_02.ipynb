{
  "nbformat": 4,
  "nbformat_minor": 0,
  "metadata": {
    "kernelspec": {
      "display_name": "Python 3",
      "language": "python",
      "name": "python3"
    },
    "language_info": {
      "codemirror_mode": {
        "name": "ipython",
        "version": 3
      },
      "file_extension": ".py",
      "mimetype": "text/x-python",
      "name": "python",
      "nbconvert_exporter": "python",
      "pygments_lexer": "ipython3",
      "version": "3.8.2"
    },
    "colab": {
      "name": "SML_as04_02.ipynb",
      "provenance": []
    }
  },
  "cells": [
    {
      "cell_type": "markdown",
      "metadata": {
        "id": "2LfWk_KJsERI"
      },
      "source": [
        "## Students\n",
        "Please fill in your names and S/U-numbers:\n",
        "* Student 1 name, S/U-number:\n",
        "* Student 2 name, S/U-number:\n",
        "* Student 3 name, S/U-number:"
      ]
    },
    {
      "cell_type": "markdown",
      "metadata": {
        "deletable": false,
        "editable": false,
        "nbgrader": {
          "cell_type": "markdown",
          "checksum": "81e80faadf2c9af47381ce6ca74ec973",
          "grade": false,
          "grade_id": "cell-95f977a5c130bee3",
          "locked": true,
          "schema_version": 3,
          "solution": false,
          "task": false
        },
        "id": "3aunGON4sERM"
      },
      "source": [
        "# Statistical Machine Learning 2020\n",
        "# Assignment 4\n",
        "# Deadline: 23 December 2020\n",
        "## Instructions\n",
        "* You can __work in groups__ (= max 3 people). __Write the full name and S/U-number of all team members in the header above.__\n",
        "* Make sure you __fill in any place that says__ `YOUR CODE HERE` or \"YOUR ANSWER HERE\" __including comments, derivations, explanations, graphs, etc.__ This means that the elements and/or intermediate steps required to derive the answer have to be in the report. (Answers like 'No' or 'x=27.2' by themselves are not sufficient, even when they are the result of running your code.) If an exercise requires coding, explain briefly what the code does (in comments). All figures should have titles (descriptions), axis labels, and legends (if applicable).\n",
        "* Please do not add new cells unless necessary, try to write the answers only in the provided cells. Before you turn this problem in, __make sure everything runs as expected__. First, *restart the kernel* (in the menubar, select Kernel$\\rightarrow$Restart) and then *run all cells* (in the menubar, select Cell$\\rightarrow$Run All). The assignment was written in (and we strongly recommend using) Python 3 by using the corresponding Python 3 kernel for Jupyter.\n",
        "* The assignment includes certain cells that contain tests. Most of the tests are marked as *hidden* and are used for automatic grading. NB: These hidden tests do not provide any feedback! There are also a couple of tests / checks that are visible, which are meant to help you avoid basic coding errors.\n",
        "* __Upload the exercises to Brightspace as a single .zip file containing the submitter's S/U-number: 'SML20_as04_&lt;S/U-number&gt;.zip'__, for example 'SML20_as04_S123456.zip'. For those working in groups, it is sufficient if one team member uploads the solutions.\n",
        "* For any problems or questions, send us an email, or just ask. Email addresses: G.Bucur@cs.ru.nl, Yuliya.Shapovalova@ru.nl, and tomc@cs.ru.nl.\n",
        "\n",
        "## Introduction\n",
        "Assignment 4 consists of:\n",
        "1. Gaussian processes (50 points);\n",
        "2. __EM and doping (50 points)__;\n",
        "3. Gibbs sampling and Metropolis-Hastings (50 points);\n",
        "4. Variational inference for Bayesian linear regression (50 points).\n",
        "\n",
        "## Libraries\n",
        "\n",
        "First, we import the basic libraries necessary to develop this assignment. Of course you are free to import further libraries, if required, in the allotted cells."
      ]
    },
    {
      "cell_type": "code",
      "metadata": {
        "deletable": false,
        "editable": false,
        "nbgrader": {
          "cell_type": "code",
          "checksum": "8a727daf203fe0dd1ddcc7cfc7acc5b1",
          "grade": false,
          "grade_id": "cell-38f4c869a703cb30",
          "locked": true,
          "schema_version": 3,
          "solution": false,
          "task": false
        },
        "id": "J0wJBSEOsERP"
      },
      "source": [
        "import IPython\n",
        "assert IPython.version_info[0] >= 3, \"Your version of IPython is too old, please update it to at least version 3.\"\n",
        "\n",
        "import numpy as np\n",
        "import matplotlib.pyplot as plt\n",
        "from mpl_toolkits.mplot3d import Axes3D\n",
        "\n",
        "# Set fixed random seed for reproducibility\n",
        "np.random.seed(2020)"
      ],
      "execution_count": null,
      "outputs": []
    },
    {
      "cell_type": "markdown",
      "metadata": {
        "deletable": false,
        "editable": false,
        "nbgrader": {
          "cell_type": "markdown",
          "checksum": "b2d40c4e50d1bb65720750a3f2fd2fab",
          "grade": false,
          "grade_id": "cell-ba2cdb464a9ab040",
          "locked": true,
          "schema_version": 3,
          "solution": false,
          "task": false
        },
        "id": "DC4jmUTLsERT"
      },
      "source": [
        "## EM and doping (50 points)\n",
        "In a certain hypothetical sport, banned substance 'X' has become popular as a performance enhancing drug, as its presence is hard to establish in blood samples directly. Recently, it has been discovered that users of the drug tend to show a strong positive correlation between concentrations of two other quantities, $x_1$ and $x_2$, present in the blood. In contrast, 'clean' athletes tend to fall in one of two or three groups, that either show no or a negative correlation between $x_1$ and $x_2$. Unfortunately, as each sample contains only a single, instantaneous, measurement for each variable, it is not possible to establish this correlation from the sample. However, in many cases it is possible to distinguish to which _class_ a certain sample belongs by also looking at the values of two other measured variables, $x_3$ and $x_4$: certain combinations of measured values are often typical for one class but highly unusual for others.\n",
        "\n",
        "After a high profile event, a large scale test has resulted in 2000 samples. Rumours suggest the number of positives could be as high as 20\\%. However, the exact relationship between different classes and typical $\\mathbf{x}$ values is still not clear. This is where the EM-algorithm comes in ...\n",
        "\n",
        "The blood sample measurements are modelled as a mixture of $K$ Gaussians, one for each class\n",
        "\\begin{equation}\n",
        "p(\\mathbf{x}|\\mathbf{\\mu}, \\mathbf{\\Sigma}, \\mathbf{\\pi}) = \\sum_{k=1}^K \\pi_k \\mathcal{N}(\\mathbf{x}|\\mathbf{\\mu}_k, \\mathbf{\\Sigma}_k)\n",
        "\\label{Gmm}\n",
        "\\tag{1}\n",
        "\\end{equation}\n",
        "where $\\mathbf{x} = [x_1, x_2, x_3, x_4]$ represents the values for the measured quantities in the blood sample, $\\mathbf{\\mu} = \\{\\mathbf{\\mu}_1, \\ldots, \\mathbf{\\mu}_K\\}$ and $\\mathbf{\\Sigma} = \\{\\Sigma_1, \\ldots, \\Sigma_K\\}$ are the means and covariance matrices of the Gaussians for each class, and $\\mathbf{\\pi} = \\{\\pi_1, \\ldots, \\pi_K\\}$ are the mixing coefficients in the overall data set.\n",
        "\n",
        "We first load the data and set $N$ to the number of datapoints and $D$ to the number of variables in the data set $X$."
      ]
    },
    {
      "cell_type": "code",
      "metadata": {
        "deletable": false,
        "editable": false,
        "nbgrader": {
          "cell_type": "code",
          "checksum": "a225bb7024154d9d7a3f9c00deb9977f",
          "grade": false,
          "grade_id": "cell-662d42da8071615f",
          "locked": true,
          "schema_version": 3,
          "solution": false,
          "task": false
        },
        "id": "z9JQaUrnsERV"
      },
      "source": [
        "# Load data\n",
        "X = np.loadtxt(\"a011_mixdata.txt\")\n",
        "N, D = X.shape"
      ],
      "execution_count": null,
      "outputs": []
    },
    {
      "cell_type": "markdown",
      "metadata": {
        "deletable": false,
        "editable": false,
        "nbgrader": {
          "cell_type": "markdown",
          "checksum": "13c5ed1964ed93f34c429d81a9482029",
          "grade": false,
          "grade_id": "cell-bd7c66ad7f6c0c7d",
          "locked": true,
          "schema_version": 3,
          "solution": false,
          "task": false
        },
        "id": "4ymFp1ATsERW"
      },
      "source": [
        "1. Try to give an estimate of the number, size and shape of the classes in the data, by plotting the distribution of the variables, e.g using `plt.hist`, `plt.scatter` or `scatter3()`."
      ]
    },
    {
      "cell_type": "code",
      "metadata": {
        "deletable": false,
        "nbgrader": {
          "cell_type": "code",
          "checksum": "ae61ce285fd32b0a6a770f4cdc79e84b",
          "grade": true,
          "grade_id": "cell-b9de334d66ba8d08",
          "locked": false,
          "points": 0,
          "schema_version": 3,
          "solution": true,
          "task": false
        },
        "id": "rr0P1cdNsERW"
      },
      "source": [
        "\"\"\"\n",
        "Experiment with different plots.\n",
        "\"\"\"\n",
        "# YOUR CODE HERE\n",
        "raise NotImplementedError()"
      ],
      "execution_count": null,
      "outputs": []
    },
    {
      "cell_type": "markdown",
      "metadata": {
        "deletable": false,
        "nbgrader": {
          "cell_type": "markdown",
          "checksum": "8959b2e09d6e83db4d3693a11f640be3",
          "grade": true,
          "grade_id": "cell-a08697b153561527",
          "locked": false,
          "points": 0,
          "schema_version": 3,
          "solution": true,
          "task": false
        },
        "id": "ahkD00XYsERX"
      },
      "source": [
        "YOUR ANSWER HERE"
      ]
    },
    {
      "cell_type": "markdown",
      "metadata": {
        "deletable": false,
        "editable": false,
        "nbgrader": {
          "cell_type": "markdown",
          "checksum": "f0240e27d8952217c519ec462b164c69",
          "grade": false,
          "grade_id": "cell-ee184f7a4ed23f00",
          "locked": true,
          "schema_version": 3,
          "solution": false,
          "task": false
        },
        "id": "3KXVnHjAsERY"
      },
      "source": [
        "2. Implement an EM-algorithm using the description and formulas given in Bishop, $\\S9.2.2$. Use variable $K$ for the number of classes and choose a priori equal mixing coefficients $\\pi_k$. Initialize the means $\\mathbf{\\mu}_k$ to random values around the sample mean of each variable, e.g. set $\\mu_{k,1}$ to $\\bar{x}_1 + [-1 \\leq \\epsilon \\leq +1]$. Initialize the $\\mathbf{\\Sigma}_k$ to diagonal matrices with reasonably high variances, e.g. `random.randint(2,6)`, to avoid very small responsibilities in the first step. Make sure the EM-loop runs over at least 100 iterations. Display relevant quantities, at least the log likelihood (9.28), after each step so you can monitor progress and convergence."
      ]
    },
    {
      "cell_type": "code",
      "metadata": {
        "deletable": false,
        "nbgrader": {
          "cell_type": "code",
          "checksum": "90f8cdb1f3b919c2719f4c97e7edd2f7",
          "grade": true,
          "grade_id": "cell-40f44492ffe12a2c",
          "locked": false,
          "points": 0,
          "schema_version": 3,
          "solution": true,
          "task": false
        },
        "id": "GYJe_WvjsERZ"
      },
      "source": [
        "\"\"\"\n",
        "Implement the EM algorithm.\n",
        "\"\"\"\n",
        "# YOUR CODE HERE\n",
        "raise NotImplementedError()"
      ],
      "execution_count": null,
      "outputs": []
    },
    {
      "cell_type": "markdown",
      "metadata": {
        "deletable": false,
        "editable": false,
        "nbgrader": {
          "cell_type": "markdown",
          "checksum": "d17d4902d704bb4a1242256478a8e477",
          "grade": false,
          "grade_id": "cell-3d7b46ae569a10d1",
          "locked": true,
          "schema_version": 3,
          "solution": false,
          "task": false
        },
        "id": "RORflKs1sERZ"
      },
      "source": [
        "Now implement a plot routine that plots the ${x_1,x_2}$ coordinates of the data points, and color each data point  according to the most probable component according to the mixture model."
      ]
    },
    {
      "cell_type": "code",
      "metadata": {
        "deletable": false,
        "nbgrader": {
          "cell_type": "code",
          "checksum": "08dfead7f5353b7063880f321466852c",
          "grade": true,
          "grade_id": "cell-6dbe272b44186eb1",
          "locked": false,
          "points": 0,
          "schema_version": 3,
          "solution": true,
          "task": false
        },
        "id": "GIkRuO6esERa"
      },
      "source": [
        "\"\"\"\n",
        "Plot routine.\n",
        "\"\"\"\n",
        "# YOUR CODE HERE\n",
        "raise NotImplementedError()"
      ],
      "execution_count": null,
      "outputs": []
    },
    {
      "cell_type": "markdown",
      "metadata": {
        "deletable": false,
        "editable": false,
        "nbgrader": {
          "cell_type": "markdown",
          "checksum": "2195d4bf72712e0ec034d6c75050c310",
          "grade": false,
          "grade_id": "cell-4c7dffdb2d80603d",
          "locked": true,
          "schema_version": 3,
          "solution": false,
          "task": false
        },
        "id": "KP8U31cgsERb"
      },
      "source": [
        "3. Set $K=2$, initialise your random generator and run the EM-algorithm on the data. Try different random initialisations.\n",
        "\n",
        "    _(Should converge within 50 steps to two clusters, accounting for $\\pm$1/3 resp. 2/3 of the data)._\n",
        "\n",
        "    Plot the ${x_1,x_2}$ coordinates coloured according to the most probable component.\n",
        "    \n",
        "    **Note:** Add more cells if necessary."
      ]
    },
    {
      "cell_type": "code",
      "metadata": {
        "deletable": false,
        "nbgrader": {
          "cell_type": "code",
          "checksum": "d7970c7733bf0eaeebbdc6f9302de620",
          "grade": true,
          "grade_id": "cell-74e039167b072364",
          "locked": false,
          "points": 0,
          "schema_version": 3,
          "solution": true,
          "task": false
        },
        "id": "kncKqSSesERc"
      },
      "source": [
        "\"\"\"\n",
        "Run the EM algorithm. \n",
        "\"\"\"\n",
        "# YOUR CODE HERE\n",
        "raise NotImplementedError()"
      ],
      "execution_count": null,
      "outputs": []
    },
    {
      "cell_type": "code",
      "metadata": {
        "deletable": false,
        "nbgrader": {
          "cell_type": "code",
          "checksum": "3e451dc6ca383844965a31eb2c6dbdc8",
          "grade": true,
          "grade_id": "cell-bc543d674e04d1e4",
          "locked": false,
          "points": 0,
          "schema_version": 3,
          "solution": true,
          "task": false
        },
        "id": "h0V4vtd3sERc"
      },
      "source": [
        "\"\"\"\n",
        "Plot the most probable component. \n",
        "\"\"\"\n",
        "# YOUR CODE HERE\n",
        "raise NotImplementedError()"
      ],
      "execution_count": null,
      "outputs": []
    },
    {
      "cell_type": "markdown",
      "metadata": {
        "deletable": false,
        "editable": false,
        "nbgrader": {
          "cell_type": "markdown",
          "checksum": "e5ec1b8d533fdc21d159e8639b5164e8",
          "grade": false,
          "grade_id": "cell-aa12ca1a2fa12362",
          "locked": true,
          "schema_version": 3,
          "solution": false,
          "task": false
        },
        "id": "Ag06IyAisERd"
      },
      "source": [
        "Describe what happens and compare the results of the different initialisations."
      ]
    },
    {
      "cell_type": "markdown",
      "metadata": {
        "deletable": false,
        "nbgrader": {
          "cell_type": "markdown",
          "checksum": "555d2864e31f405956c8433dd1f48404",
          "grade": true,
          "grade_id": "cell-52a35d5f44ce297f",
          "locked": false,
          "points": 0,
          "schema_version": 3,
          "solution": true,
          "task": false
        },
        "id": "xuiOXpXQsERe"
      },
      "source": [
        "YOUR ANSWER HERE"
      ]
    },
    {
      "cell_type": "markdown",
      "metadata": {
        "deletable": false,
        "editable": false,
        "nbgrader": {
          "cell_type": "markdown",
          "checksum": "8b539f014141ee40221636d9ef8a19d6",
          "grade": false,
          "grade_id": "cell-674247be8e558131",
          "locked": true,
          "schema_version": 3,
          "solution": false,
          "task": false
        },
        "id": "YrIkc-cGsERe"
      },
      "source": [
        "Compute the correlation coefficients\n",
        "\\begin{equation}\n",
        "\\rho_{12} = \\frac{\\mathrm{cov}[x_1,x_2]}{\\sqrt{\\mathrm{var}[x_1] \\mathrm{var}[x_2]}}\n",
        "\\label{correlationcoeff}\n",
        "\\tag{2}\n",
        "\\end{equation}\n",
        "of each of the components (i.e., use their covariance matrices to compute variances and covariances in (\\ref{correlationcoeff}), see also (Bishop, eq. (2.93)).\n",
        "\n",
        "**Hint**: According to Wikipedia, the correlation is none if $|\\rho|<0.1$, small if $0.1<|\\rho|<0.3$, medium if $0.3<|\\rho|<0.5$ and strong if $|\\rho|>0.5$."
      ]
    },
    {
      "cell_type": "code",
      "metadata": {
        "deletable": false,
        "nbgrader": {
          "cell_type": "code",
          "checksum": "c75d06efa09921790f1e4984aa3c5b21",
          "grade": true,
          "grade_id": "cell-a993a576ed1737e6",
          "locked": false,
          "points": 0,
          "schema_version": 3,
          "solution": true,
          "task": false
        },
        "id": "OoaiKhHOsERf"
      },
      "source": [
        "\"\"\"\n",
        "Compute the correlation coefficients. \n",
        "\"\"\"\n",
        "# YOUR CODE HERE\n",
        "raise NotImplementedError()"
      ],
      "execution_count": null,
      "outputs": []
    },
    {
      "cell_type": "markdown",
      "metadata": {
        "deletable": false,
        "editable": false,
        "nbgrader": {
          "cell_type": "markdown",
          "checksum": "c619fd36e8ee5712a80ba42a6c3d4876",
          "grade": false,
          "grade_id": "cell-2ea2476882597eca",
          "locked": true,
          "schema_version": 3,
          "solution": false,
          "task": false
        },
        "id": "5mKFxXMSsERg"
      },
      "source": [
        "Does either class show the characteristic strong positive correlation for $\\{x_1, x_2\\}$?"
      ]
    },
    {
      "cell_type": "markdown",
      "metadata": {
        "deletable": false,
        "nbgrader": {
          "cell_type": "markdown",
          "checksum": "15c0cf37f6740490e2222f0a4955ee00",
          "grade": true,
          "grade_id": "cell-3ee1094f79dbc1a4",
          "locked": false,
          "points": 0,
          "schema_version": 3,
          "solution": true,
          "task": false
        },
        "id": "3SwzoBIDsERg"
      },
      "source": [
        "YOUR ANSWER HERE"
      ]
    },
    {
      "cell_type": "markdown",
      "metadata": {
        "deletable": false,
        "editable": false,
        "nbgrader": {
          "cell_type": "markdown",
          "checksum": "12b5b1cfadf6d200260a1e5ef66a3a52",
          "grade": false,
          "grade_id": "cell-2e55eddd24a2f12f",
          "locked": true,
          "schema_version": 3,
          "solution": false,
          "task": false
        },
        "id": "8APmWUAOsERh"
      },
      "source": [
        "4. Increase the number of classes to $K=3$ and rerun your algorithm on the data, again trying different random initializations. Plot the ${x_1,x_2}$ coordinates colored according to the most probable component and compute the correlation coefficients of each of the components. Check both your plot and your coefficients if one of the clusters now displays the strong positive $\\{x_1, x_2\\}$ correlation we are looking for.\n",
        "\n",
        "    Increase to $K=4$, do the same, and see if this improves your result (in terms of detection of the doping-cluster). Based on your findings, is the rumoured 1-in-5 estimate for users of X credible?\n",
        "    \n",
        "    **Note:** Add more cells if necessary."
      ]
    },
    {
      "cell_type": "code",
      "metadata": {
        "deletable": false,
        "nbgrader": {
          "cell_type": "code",
          "checksum": "76def7ab5855171f6cce65a24a11a38a",
          "grade": true,
          "grade_id": "cell-2b68e6f1ad9666b2",
          "locked": false,
          "points": 0,
          "schema_version": 3,
          "solution": true,
          "task": false
        },
        "id": "V3nZSnyYsERh"
      },
      "source": [
        "\"\"\"\n",
        "Run the EM algorithm with K=3. \n",
        "\"\"\"\n",
        "# YOUR CODE HERE\n",
        "raise NotImplementedError()"
      ],
      "execution_count": null,
      "outputs": []
    },
    {
      "cell_type": "code",
      "metadata": {
        "deletable": false,
        "nbgrader": {
          "cell_type": "code",
          "checksum": "f4dc8ee0c80fbd3b91af472a4d527320",
          "grade": true,
          "grade_id": "cell-b82cbfea56b11e60",
          "locked": false,
          "points": 0,
          "schema_version": 3,
          "solution": true,
          "task": false
        },
        "id": "o-d2Ej6bsERi"
      },
      "source": [
        "\"\"\"\n",
        "Run the EM algorithm with K=4. \n",
        "\"\"\"\n",
        "# YOUR CODE HERE\n",
        "raise NotImplementedError()"
      ],
      "execution_count": null,
      "outputs": []
    },
    {
      "cell_type": "markdown",
      "metadata": {
        "deletable": false,
        "nbgrader": {
          "cell_type": "markdown",
          "checksum": "0cc76795f226923779ddccb8bb26ed60",
          "grade": true,
          "grade_id": "cell-10d27cbf02a064ef",
          "locked": false,
          "points": 0,
          "schema_version": 3,
          "solution": true,
          "task": false
        },
        "id": "Pn7aC7insERj"
      },
      "source": [
        "YOUR ANSWER HERE"
      ]
    },
    {
      "cell_type": "markdown",
      "metadata": {
        "deletable": false,
        "editable": false,
        "nbgrader": {
          "cell_type": "markdown",
          "checksum": "316a55f897dcc16d6a9e36c59794c3cb",
          "grade": false,
          "grade_id": "cell-bfc1b9fd8406a9f8",
          "locked": true,
          "schema_version": 3,
          "solution": false,
          "task": false
        },
        "id": "z_2zHgTMsERj"
      },
      "source": [
        "Having found the offending cluster in the data using the EM-algorithm, we are now presented with four samples $\\{A, B, C, D\\}$, with values for $[x_1, x_2, x_3, x_4]$ given as:\n",
        "\\begin{eqnarray*}\n",
        "\\text{A} & = & [11.85, 2.2, 0.5, 4.0] \\\\\n",
        "\\text{B} & = & [11.95, 3.1, 0.0, 1.0] \\\\\n",
        "\\text{C} & = & [12.00, 2.5, 0.0, 2.0] \\\\\n",
        "\\text{D} & = & [12.00, 3.0, 1.0, 6.3]\n",
        "\\end{eqnarray*}\n",
        "One of these is from a subject who took drug X, and one is from a subject who tried to tamper with the test by artificially altering one or more of the $x_i$ levels in his/her blood sample.\n",
        "\n",
        "5. Identify which sample belongs to the suspected user and which one belongs to the 'fraud'."
      ]
    },
    {
      "cell_type": "markdown",
      "metadata": {
        "deletable": false,
        "nbgrader": {
          "cell_type": "markdown",
          "checksum": "8ceb10cc5a2984ed80cde011b1d35eae",
          "grade": true,
          "grade_id": "cell-4cc5ec54a2186765",
          "locked": false,
          "points": 0,
          "schema_version": 3,
          "solution": true,
          "task": false
        },
        "id": "p4tG7wlXsERk"
      },
      "source": [
        "YOUR ANSWER HERE"
      ]
    }
  ]
}